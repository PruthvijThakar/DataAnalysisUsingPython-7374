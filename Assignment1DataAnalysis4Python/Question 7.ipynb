{
 "cells": [
  {
   "cell_type": "markdown",
   "metadata": {},
   "source": [
    "# Question 7\n",
    "--Use Name corpus, calculate the probability of a name being of a male or female base on the last character(s) of name.\n",
    "\n",
    "--Sample steps:\n",
    "For char ‘a’:\n",
    "\n",
    "\ttotal_names = sum(names ending with ‘a’)\n",
    "\n",
    "    male_names = sum(male names ending with ‘a’)\n",
    "\t\n",
    "    female_names = sum(female names ending with ‘a’)\n",
    "\t\n",
    "    Probability of name being male = 100 * male_names / total_names\n",
    "\n",
    "2. Do this for all characters. \n",
    "\n",
    "--Output must come with proper title (e.g. [a] male: 25%, female: 60%)\n"
   ]
  },
  {
   "cell_type": "code",
   "execution_count": 4,
   "metadata": {
    "collapsed": true
   },
   "outputs": [],
   "source": [
    "import nltk"
   ]
  },
  {
   "cell_type": "code",
   "execution_count": 3,
   "metadata": {
    "collapsed": false
   },
   "outputs": [],
   "source": [
    "from nltk.corpus import names"
   ]
  },
  {
   "cell_type": "code",
   "execution_count": 10,
   "metadata": {
    "collapsed": false
   },
   "outputs": [
    {
     "data": {
      "text/plain": [
       "['female.txt', 'male.txt']"
      ]
     },
     "execution_count": 10,
     "metadata": {},
     "output_type": "execute_result"
    }
   ],
   "source": [
    "names.fileids()"
   ]
  },
  {
   "cell_type": "code",
   "execution_count": 13,
   "metadata": {
    "collapsed": false
   },
   "outputs": [
    {
     "name": "stdout",
     "output_type": "stream",
     "text": [
      "[a]female: 98.3906770255272  male: 1.609322974472808\n",
      "[b]female: 30.0  male: 70.0\n",
      "[c]female: 0.0  male: 100.0\n",
      "[d]female: 14.606741573033707  male: 85.39325842696628\n",
      "[e]female: 75.36842105263158  male: 24.63157894736842\n",
      "[f]female: 7.4074074074074066  male: 92.5925925925926\n",
      "[g]female: 23.809523809523807  male: 76.19047619047619\n",
      "[h]female: 53.03030303030303  male: 46.96969696969697\n",
      "[i]female: 86.37602179836512  male: 13.623978201634879\n",
      "[j]female: 25.0  male: 75.0\n",
      "[k]female: 4.166666666666666  male: 95.83333333333334\n",
      "[l]female: 48.90710382513661  male: 51.09289617486339\n",
      "[m]female: 15.66265060240964  male: 84.33734939759037\n",
      "[n]female: 44.675925925925924  male: 55.32407407407407\n",
      "[o]female: 16.666666666666664  male: 83.33333333333334\n",
      "[p]female: 10.0  male: 90.0\n",
      "[r]female: 19.831223628691983  male: 80.16877637130801\n",
      "[s]female: 28.792569659442723  male: 71.20743034055728\n",
      "[t]female: 29.310344827586203  male: 70.6896551724138\n",
      "[u]female: 33.33333333333333  male: 66.66666666666666\n",
      "[v]female: 11.11111111111111  male: 88.88888888888889\n",
      "[w]female: 22.727272727272727  male: 77.27272727272727\n",
      "[x]female: 50.0  male: 50.0\n",
      "[y]female: 58.13366960907944  male: 41.86633039092055\n",
      "[z]female: 26.666666666666668  male: 73.33333333333333\n"
     ]
    }
   ],
   "source": [
    "female = nltk.corpus.names.raw('female.txt')\n",
    "male = nltk.corpus.names.raw('male.txt')\n",
    "words_female = female.split('\\n')\n",
    "words_male = male.split('\\n')\n",
    "\n",
    "chars = ['a','b','c','d','e','f','g','h','i','j','k','l','m','n','o','p','q','r','s','t','u','v','w','x','y','z']\n",
    "index=0\n",
    "while(index<26):\n",
    "    count_female = 0\n",
    "    count_male = 0\n",
    "    count = 0\n",
    "    #print(len(words_male))\n",
    "    #print(len(words_female))\n",
    "    for word in words_female:\n",
    "        if(word.endswith(chars[index])):\n",
    "            count_female = count_female + 1\n",
    "            count = count + 1\n",
    "    for word in words_male:\n",
    "        if(word.endswith(chars[index])):\n",
    "            count_male = count_male + 1\n",
    "            count = count + 1\n",
    "    #next word\n",
    "   \n",
    "    \n",
    "    if count!=0:\n",
    "        print(\"[\"+str(chars[index])+\"]\"+\"female: \"+str((count_female/count)*100)+\"  male: \"+str((count_male/count)*100))\n",
    "    index = index + 1\n",
    "        "
   ]
  },
  {
   "cell_type": "code",
   "execution_count": null,
   "metadata": {
    "collapsed": true
   },
   "outputs": [],
   "source": []
  },
  {
   "cell_type": "code",
   "execution_count": null,
   "metadata": {
    "collapsed": true
   },
   "outputs": [],
   "source": []
  },
  {
   "cell_type": "code",
   "execution_count": null,
   "metadata": {
    "collapsed": true
   },
   "outputs": [],
   "source": []
  },
  {
   "cell_type": "code",
   "execution_count": null,
   "metadata": {
    "collapsed": true
   },
   "outputs": [],
   "source": []
  },
  {
   "cell_type": "code",
   "execution_count": null,
   "metadata": {
    "collapsed": true
   },
   "outputs": [],
   "source": []
  },
  {
   "cell_type": "code",
   "execution_count": null,
   "metadata": {
    "collapsed": true
   },
   "outputs": [],
   "source": []
  },
  {
   "cell_type": "code",
   "execution_count": null,
   "metadata": {
    "collapsed": true
   },
   "outputs": [],
   "source": []
  },
  {
   "cell_type": "code",
   "execution_count": 26,
   "metadata": {
    "collapsed": false
   },
   "outputs": [
    {
     "data": {
      "text/plain": [
       "'Aamir\\nAaron\\nAbbey\\nAbbie\\nAbbot\\nAbbott\\nAbby\\nAbdel\\nAbdul\\nAbdulkarim\\nAbdullah\\nAbe\\nAbel\\nAbelard\\nAbner\\nAbraham\\nAbram\\nAce\\nAdair\\nAdam\\nAdams\\nAddie\\nAdger\\nAditya\\nAdlai\\nAdnan\\nAdolf\\nAdolfo\\nAdolph\\nAdolphe\\nAdolpho\\nAdolphus\\nAdrian\\nAdrick\\nAdrien\\nAgamemnon\\nAguinaldo\\nAguste\\nAgustin\\nAharon\\nAhmad\\nAhmed\\nAhmet\\nAjai\\nAjay\\nAl\\nAlaa\\nAlain\\nAlan\\nAlasdair\\nAlastair\\nAlbatros\\nAlbert\\nAlberto\\nAlbrecht\\nAlden\\nAldis\\nAldo\\nAldric\\nAldrich\\nAldus\\nAldwin\\nAlec\\nAleck\\nAlejandro\\nAleks\\nAleksandrs\\nAlessandro\\nAlex\\nAlexander\\nAlexei\\nAlexis\\nAlf\\nAlfie\\nAlfonse\\nAlfonso\\nAlfonzo\\nAlford\\nAlfred\\nAlfredo\\nAlgernon\\nAli\\nAlic\\nAlister\\nAlix\\nAllah\\nAllan\\nAllen\\nAlley\\nAllie\\nAllin\\nAllyn\\nAlonso\\nAlonzo\\nAloysius\\nAlphonse\\nAlphonso\\nAlston\\nAlton\\nAlvin\\nAlwin\\nAmadeus\\nAmbros\\nAmbrose\\nAmbrosi\\nAmbrosio\\nAmbrosius\\nAmery\\nAmory\\nAmos\\nAnatol\\nAnatole\\nAnatollo\\nAnatoly\\nAnders\\nAndie\\nAndonis\\nAndre\\nAndrea\\nAndreas\\nAndrej\\nAndres\\nAndrew\\nAndrey\\nAndri\\nAndros\\nAndrus\\nAndrzej\\nAndy\\nAngel\\nAngelico\\nAngelo\\nAngie\\nAngus\\nAnsel\\nAnsell\\nAnselm\\nAnson\\nAnthony\\nAntin\\nAntoine\\nAnton\\nAntone\\nAntoni\\nAntonin\\nAntonino\\nAntonio\\nAntonius\\nAntony\\nAnurag\\nApollo\\nApostolos\\nAram\\nArchibald\\nArchibold\\nArchie\\nArchon\\nArchy\\nArel\\nAri\\nArie\\nAriel\\nAristotle\\nArlo\\nArmand\\nArmando\\nArmond\\nArmstrong\\nArne\\nArnie\\nArnold\\nArnoldo\\nAron\\nArron\\nArt\\nArther\\nArthur\\nArtie\\nArtur\\nArturo\\nArvie\\nArvin\\nArvind\\nArvy\\nAsh\\nAshby\\nAshish\\nAshley\\nAshton\\nAub\\nAube\\nAubert\\nAubrey\\nAugie\\nAugust\\nAugustin\\nAugustine\\nAugusto\\nAugustus\\nAusten\\nAustin\\nAve\\nAverell\\nAveril\\nAverill\\nAvery\\nAvi\\nAvraham\\nAvram\\nAvrom\\nAxel\\nAylmer\\nAziz\\nBailey\\nBailie\\nBaillie\\nBaily\\nBaird\\nBaldwin\\nBancroft\\nBarbabas\\nBarclay\\nBard\\nBarde\\nBarn\\nBarnabas\\nBarnabe\\nBarnaby\\nBarnard\\nBarnebas\\nBarnett\\nBarney\\nBarnie\\nBarny\\nBaron\\nBarr\\nBarret\\nBarrett\\nBarri\\nBarrie\\nBarris\\nBarron\\nBarry\\nBart\\nBartel\\nBarth\\nBarthel\\nBartholemy\\nBartholomeo\\nBartholomeus\\nBartholomew\\nBartie\\nBartlet\\nBartlett\\nBartolemo\\nBartolomei\\nBartolomeo\\nBarton\\nBarty\\nBary\\nBasil\\nBatholomew\\nBaxter\\nBay\\nBayard\\nBeale\\nBealle\\nBear\\nBearnard\\nBeau\\nBeaufort\\nBeauregard\\nBeck\\nBela\\nBen\\nBenedict\\nBengt\\nBenito\\nBenjamen\\nBenjamin\\nBenji\\nBenjie\\nBenjy\\nBenn\\nBennet\\nBennett\\nBennie\\nBenny\\nBenson\\nBentley\\nBenton\\nBeowulf\\nBerchtold\\nBerk\\nBerke\\nBerkeley\\nBerkie\\nBerkley\\nBernard\\nBernardo\\nBernd\\nBernhard\\nBernie\\nBert\\nBertie\\nBertram\\nBertrand\\nBharat\\nBiff\\nBill\\nBillie\\nBilly\\nBing\\nBinky\\nBishop\\nBjorn\\nBjorne\\nBlaine\\nBlair\\nBlake\\nBlare\\nBlayne\\nBo\\nBob\\nBobbie\\nBobby\\nBogart\\nBogdan\\nBoniface\\nBoris\\nBoyce\\nBoyd\\nBrad\\nBraden\\nBradford\\nBradley\\nBradly\\nBrady\\nBrandon\\nBrandy\\nBrant\\nBrendan\\nBrent\\nBret\\nBrett\\nBrewer\\nBrewster\\nBrian\\nBrice\\nBriggs\\nBrinkley\\nBritt\\nBrock\\nBroddie\\nBroddy\\nBroderic\\nBroderick\\nBrodie\\nBrody\\nBronson\\nBrook\\nBrooke\\nBrooks\\nBruce\\nBruno\\nBryan\\nBryant\\nBryce\\nBryn\\nBryon\\nBubba\\nBuck\\nBucky\\nBud\\nBuddy\\nBurgess\\nBurke\\nBurl\\nBurnaby\\nBurt\\nBurton\\nBuster\\nButch\\nButler\\nByram\\nByron\\nCaesar\\nCain\\nCal\\nCaldwell\\nCaleb\\nCalhoun\\nCalvin\\nCam\\nCameron\\nCammy\\nCarey\\nCarl\\nCarleigh\\nCarlie\\nCarlin\\nCarlo\\nCarlos\\nCarlton\\nCarlyle\\nCarmine\\nCarroll\\nCarson\\nCarsten\\nCarter\\nCary\\nCaryl\\nCase\\nCasey\\nCaspar\\nCasper\\nCass\\nCat\\nCecil\\nCesar\\nChad\\nChadd\\nChaddie\\nChaddy\\nChadwick\\nChaim\\nChalmers\\nChan\\nChance\\nChancey\\nChanderjit\\nChandler\\nChane\\nChariot\\nCharles\\nCharleton\\nCharley\\nCharlie\\nCharlton\\nChas\\nChase\\nChaunce\\nChauncey\\nChe\\nChelton\\nChen\\nChester\\nCheston\\nChet\\nChev\\nChevalier\\nChevy\\nChip\\nChris\\nChrissy\\nChrist\\nChristian\\nChristiano\\nChristie\\nChristof\\nChristofer\\nChristoph\\nChristophe\\nChristopher\\nChristorpher\\nChristos\\nChristy\\nChrisy\\nChuck\\nChurchill\\nClair\\nClaire\\nClancy\\nClarance\\nClare\\nClarence\\nClark\\nClarke\\nClaude\\nClaudio\\nClaudius\\nClaus\\nClay\\nClayborn\\nClayborne\\nClaybourne\\nClayton\\nCleland\\nClem\\nClemens\\nClement\\nClemente\\nClemmie\\nCletus\\nCleveland\\nCliff\\nClifford\\nClifton\\nClint\\nClinten\\nClinton\\nClive\\nClyde\\nCob\\nCobb\\nCobbie\\nCobby\\nCody\\nColbert\\nCole\\nColeman\\nColin\\nCollin\\nCollins\\nConan\\nConnie\\nConnolly\\nConnor\\nConrad\\nConroy\\nConstantin\\nConstantine\\nConstantinos\\nConway\\nCooper\\nCorbin\\nCorby\\nCorey\\nCorky\\nCornelius\\nCornellis\\nCorrie\\nCortese\\nCorwin\\nCory\\nCosmo\\nCosta\\nCourtney\\nCraig\\nCrawford\\nCreighton\\nCris\\nCristopher\\nCurt\\nCurtice\\nCurtis\\nCy\\nCyril\\nCyrill\\nCyrille\\nCyrillus\\nCyrus\\nDabney\\nDaffy\\nDale\\nDallas\\nDalton\\nDamian\\nDamien\\nDamon\\nDan\\nDana\\nDane\\nDani\\nDanie\\nDaniel\\nDannie\\nDanny\\nDante\\nDarby\\nDarcy\\nDaren\\nDarian\\nDarien\\nDarin\\nDario\\nDarius\\nDarrel\\nDarrell\\nDarren\\nDarrick\\nDarrin\\nDarryl\\nDarth\\nDarwin\\nDaryl\\nDaryle\\nDave\\nDavey\\nDavid\\nDavidde\\nDavide\\nDavidson\\nDavie\\nDavin\\nDavis\\nDavon\\nDavoud\\nDavy\\nDawson\\nDean\\nDeane\\nDel\\nDelbert\\nDell\\nDelmar\\nDemetre\\nDemetri\\nDemetris\\nDemetrius\\nDemosthenis\\nDenis\\nDennie\\nDennis\\nDenny\\nDerby\\nDerek\\nDerick\\nDerk\\nDerrek\\nDerrick\\nDerrin\\nDerrol\\nDerron\\nDeryl\\nDesmond\\nDesmund\\nDevin\\nDevon\\nDewey\\nDewitt\\nDexter\\nDick\\nDickey\\nDickie\\nDiego\\nDieter\\nDietrich\\nDillon\\nDimitri\\nDimitrios\\nDimitris\\nDimitrou\\nDimitry\\nDino\\nDion\\nDionis\\nDionysus\\nDirk\\nDmitri\\nDom\\nDomenic\\nDomenico\\nDominic\\nDominick\\nDominique\\nDon\\nDonal\\nDonald\\nDonn\\nDonnie\\nDonny\\nDonovan\\nDorian\\nDory\\nDoug\\nDouggie\\nDougie\\nDouglas\\nDouglass\\nDouglis\\nDov\\nDoyle\\nDrake\\nDrew\\nDru\\nDryke\\nDuane\\nDudley\\nDuffie\\nDuffy\\nDugan\\nDuke\\nDunc\\nDuncan\\nDunstan\\nDurand\\nDurant\\nDurante\\nDurward\\nDustin\\nDwain\\nDwaine\\nDwane\\nDwayne\\nDwight\\nDylan\\nDyson\\nEarl\\nEarle\\nEaston\\nEben\\nEbeneser\\nEbenezer\\nEberhard\\nEd\\nEddie\\nEddy\\nEdgar\\nEdgardo\\nEdie\\nEdmond\\nEdmund\\nEdouard\\nEdsel\\nEduard\\nEduardo\\nEdward\\nEdwin\\nEfram\\nEgbert\\nEhud\\nElbert\\nElden\\nEldon\\nEli\\nElias\\nElihu\\nElijah\\nEliot\\nEliott\\nElisha\\nElliot\\nElliott\\nEllis\\nEllsworth\\nEllwood\\nElmer\\nElmore\\nElnar\\nElric\\nElroy\\nElton\\nElvin\\nElvis\\nElwin\\nElwood\\nElwyn\\nEly\\nEmanuel\\nEmerson\\nEmery\\nEmil\\nEmile\\nEmilio\\nEmmanuel\\nEmmery\\nEmmet\\nEmmett\\nEmmit\\nEmmott\\nEmmy\\nEmory\\nEnder\\nEngelbart\\nEngelbert\\nEnglebart\\nEnglebert\\nEnoch\\nEnrico\\nEnrique\\nEphraim\\nEphram\\nEphrayim\\nEphrem\\nEr\\nErasmus\\nErastus\\nErek\\nErhard\\nErhart\\nEric\\nErich\\nErick\\nErik\\nErin\\nErl\\nErnest\\nErnesto\\nErnie\\nErnst\\nErny\\nErrol\\nErvin\\nErwin\\nEsau\\nEsme\\nEsteban\\nEthan\\nEthelbert\\nEthelred\\nEtienne\\nEuclid\\nEugen\\nEugene\\nEustace\\nEv\\nEvan\\nEvelyn\\nEverard\\nEverett\\nEwan\\nEwart\\nEz\\nEzechiel\\nEzekiel\\nEzra\\nFabian\\nFabio\\nFairfax\\nFarley\\nFazeel\\nFederico\\nFelice\\nFelicio\\nFelipe\\nFelix\\nFerd\\nFerdie\\nFerdinand\\nFerdy\\nFergus\\nFerguson\\nFerinand\\nFernando\\nFidel\\nFilbert\\nFilip\\nFilipe\\nFilmore\\nFinley\\nFinn\\nFitz\\nFitzgerald\\nFlem\\nFleming\\nFlemming\\nFletch\\nFletcher\\nFlin\\nFlinn\\nFlint\\nFlipper\\nFlorian\\nFloyd\\nFlynn\\nFons\\nFonsie\\nFonz\\nFonzie\\nForbes\\nFord\\nForest\\nForester\\nForrest\\nForrester\\nForster\\nFoster\\nFowler\\nFox\\nFran\\nFrancesco\\nFrancis\\nFrancisco\\nFrancois\\nFrank\\nFrankie\\nFranklin\\nFranklyn\\nFranky\\nFrans\\nFranz\\nFraser\\nFrazier\\nFred\\nFreddie\\nFreddy\\nFrederic\\nFrederich\\nFrederick\\nFrederico\\nFrederik\\nFredric\\nFredrick\\nFreeman\\nFreemon\\nFremont\\nFrench\\nFriedric\\nFriedrich\\nFriedrick\\nFritz\\nFulton\\nFyodor\\nGabe\\nGabriel\\nGabriele\\nGabriell\\nGabriello\\nGail\\nGale\\nGalen\\nGallagher\\nGamaliel\\nGarcia\\nGarcon\\nGardener\\nGardiner\\nGardner\\nGarey\\nGarfield\\nGarfinkel\\nGarold\\nGarp\\nGarret\\nGarrett\\nGarrot\\nGarrott\\nGarry\\nGarth\\nGarv\\nGarvey\\nGarvin\\nGarvy\\nGarwin\\nGarwood\\nGary\\nGaspar\\nGasper\\nGaston\\nGav\\nGaven\\nGavin\\nGavriel\\nGay\\nGayle\\nGearard\\nGene\\nGeo\\nGeof\\nGeoff\\nGeoffrey\\nGeoffry\\nGeorg\\nGeorge\\nGeorges\\nGeorgia\\nGeorgie\\nGeorgy\\nGerald\\nGeraldo\\nGerard\\nGere\\nGerhard\\nGerhardt\\nGeri\\nGermaine\\nGerold\\nGerome\\nGerrard\\nGerri\\nGerrit\\nGerry\\nGershom\\nGershon\\nGiacomo\\nGian\\nGiancarlo\\nGiavani\\nGibb\\nGideon\\nGiff\\nGiffard\\nGiffer\\nGiffie\\nGifford\\nGiffy\\nGil\\nGilbert\\nGilberto\\nGilburt\\nGiles\\nGill\\nGilles\\nGinger\\nGino\\nGiordano\\nGiorgi\\nGiorgio\\nGiovanne\\nGiovanni\\nGiraldo\\nGiraud\\nGiuseppe\\nGlen\\nGlenn\\nGlynn\\nGodard\\nGodart\\nGoddard\\nGoddart\\nGodfree\\nGodfrey\\nGodfry\\nGodwin\\nGomer\\nGonzales\\nGonzalo\\nGoober\\nGoose\\nGordan\\nGordie\\nGordon\\nGrace\\nGrady\\nGraehme\\nGraeme\\nGraham\\nGraig\\nGrant\\nGranville\\nGreg\\nGregg\\nGreggory\\nGregor\\nGregorio\\nGregory\\nGretchen\\nGriff\\nGriffin\\nGriffith\\nGriswold\\nGrove\\nGrover\\nGuido\\nGuillaume\\nGuillermo\\nGunner\\nGunter\\nGunther\\nGus\\nGustaf\\nGustav\\nGustave\\nGustavo\\nGustavus\\nGuthrey\\nGuthrie\\nGuthry\\nGuy\\nHadleigh\\nHadley\\nHadrian\\nHagan\\nHagen\\nHailey\\nHakeem\\nHakim\\nHal\\nHale\\nHaleigh\\nHaley\\nHall\\nHallam\\nHalvard\\nHam\\nHamel\\nHamid\\nHamil\\nHamilton\\nHamish\\nHamlen\\nHamlet\\nHamlin\\nHammad\\nHamnet\\nHan\\nHanan\\nHanford\\nHank\\nHannibal\\nHans\\nHans-Peter\\nHansel\\nHanson\\nHarald\\nHarcourt\\nHari\\nHarlan\\nHarland\\nHarley\\nHarlin\\nHarman\\nHarmon\\nHarold\\nHarris\\nHarrison\\nHarrold\\nHarry\\nHart\\nHartley\\nHartwell\\nHarv\\nHarvard\\nHarvey\\nHarvie\\nHarwell\\nHasheem\\nHashim\\nHaskel\\nHaskell\\nHassan\\nHastings\\nHasty\\nHaven\\nHayden\\nHaydon\\nHayes\\nHayward\\nHaywood\\nHazel\\nHeath\\nHeathcliff\\nHebert\\nHector\\nHeinrich\\nHeinz\\nHelmuth\\nHenderson\\nHendrick\\nHendrik\\nHenri\\nHenrie\\nHenrik\\nHenrique\\nHenry\\nHerb\\nHerbert\\nHerbie\\nHerby\\nHercule\\nHercules\\nHerculie\\nHerman\\nHermann\\nHermon\\nHermy\\nHernando\\nHerold\\nHerrick\\nHerrmann\\nHersch\\nHerschel\\nHersh\\nHershel\\nHerve\\nHervey\\nHew\\nHewe\\nHewet\\nHewett\\nHewie\\nHewitt\\nHeywood\\nHezekiah\\nHiggins\\nHilary\\nHilbert\\nHill\\nHillard\\nHillary\\nHillel\\nHillery\\nHilliard\\nHilton\\nHiralal\\nHiram\\nHiro\\nHirsch\\nHobart\\nHodge\\nHogan\\nHollis\\nHolly\\nHomer\\nHorace\\nHoracio\\nHoratio\\nHoratius\\nHorst\\nHoward\\nHowie\\nHoyt\\nHubert\\nHudson\\nHuey\\nHugh\\nHugo\\nHumbert\\nHumphrey\\nHunt\\nHunter\\nHuntington\\nHuntlee\\nHuntley\\nHurley\\nHusain\\nHusein\\nHussein\\nHy\\nHyatt\\nHyman\\nHymie\\nIago\\nIain\\nIan\\nIbrahim\\nIchabod\\nIggie\\nIggy\\nIgnace\\nIgnacio\\nIgnacius\\nIgnatius\\nIgnaz\\nIgnazio\\nIgor\\nIke\\nIkey\\nImmanuel\\nIngamar\\nIngelbert\\nIngemar\\nInglebert\\nIngmar\\nIngram\\nInigo\\nIra\\nIrvin\\nIrvine\\nIrving\\nIrwin\\nIsa\\nIsaac\\nIsaak\\nIsador\\nIsadore\\nIsaiah\\nIshmael\\nIsidore\\nIsmail\\nIsrael\\nIstvan\\nIvan\\nIvor\\nIzaak\\nIzak\\nIzzy\\nJabez\\nJack\\nJackie\\nJackson\\nJacob\\nJacques\\nJae\\nJaime\\nJake\\nJakob\\nJames\\nJameson\\nJamey\\nJamie\\nJan\\nJanos\\nJanus\\nJared\\nJarrett\\nJarvis\\nJason\\nJasper\\nJavier\\nJay\\nJean\\nJean-Christophe\\nJean-Francois\\nJean-Lou\\nJean-Luc\\nJean-Marc\\nJean-Paul\\nJean-Pierre\\nJeb\\nJed\\nJedediah\\nJef\\nJeff\\nJefferey\\nJefferson\\nJeffery\\nJeffie\\nJeffrey\\nJeffry\\nJefry\\nJehu\\nJennings\\nJens\\nJephthah\\nJerald\\nJeramie\\nJere\\nJereme\\nJeremiah\\nJeremias\\nJeremie\\nJeremy\\nJermain\\nJermaine\\nJermayne\\nJerold\\nJerome\\nJeromy\\nJerri\\nJerrie\\nJerrold\\nJerrome\\nJerry\\nJervis\\nJerzy\\nJess\\nJesse\\nJessee\\nJessey\\nJessie\\nJesus\\nJeth\\nJethro\\nJim\\nJimbo\\nJimmie\\nJimmy\\nJo\\nJoab\\nJoachim\\nJoao\\nJoaquin\\nJob\\nJock\\nJodi\\nJodie\\nJody\\nJoe\\nJoel\\nJoey\\nJohan\\nJohann\\nJohannes\\nJohn\\nJohn-David\\nJohn-Patrick\\nJohnathan\\nJohnathon\\nJohnnie\\nJohnny\\nJohny\\nJon\\nJonah\\nJonas\\nJonathan\\nJonathon\\nJonny\\nJordan\\nJordon\\nJordy\\nJorge\\nJory\\nJose\\nJosef\\nJoseph\\nJosephus\\nJosh\\nJoshua\\nJoshuah\\nJosiah\\nJotham\\nJuan\\nJuanita\\nJud\\nJudah\\nJudas\\nJudd\\nJude\\nJudith\\nJudson\\nJudy\\nJuergen\\nJule\\nJules\\nJulian\\nJulie\\nJulio\\nJulius\\nJustin\\nJustis\\nKaiser\\nKaleb\\nKalil\\nKalle\\nKalman\\nKalvin\\nKam\\nKane\\nKareem\\nKarel\\nKarim\\nKarl\\nKarsten\\nKaspar\\nKeefe\\nKeenan\\nKeene\\nKeil\\nKeith\\nKellen\\nKelley\\nKelly\\nKelsey\\nKelvin\\nKelwin\\nKen\\nKendal\\nKendall\\nKendrick\\nKenn\\nKennedy\\nKenneth\\nKenny\\nKent\\nKenton\\nKenyon\\nKermie\\nKermit\\nKerry\\nKevan\\nKevin\\nKim\\nKimball\\nKimmo\\nKin\\nKincaid\\nKing\\nKingsley\\nKingsly\\nKingston\\nKip\\nKirby\\nKirk\\nKit\\nKlaus\\nKlee\\nKnox\\nKonrad\\nKonstantin\\nKory\\nKostas\\nKraig\\nKris\\nKrishna\\nKristian\\nKristopher\\nKristos\\nKurt\\nKurtis\\nKyle\\nLaird\\nLamar\\nLambert\\nLamont\\nLance\\nLancelot\\nLane\\nLangston\\nLanny\\nLarry\\nLars\\nLaurance\\nLauren\\nLaurence\\nLaurens\\nLaurent\\nLaurie\\nLawerence\\nLawrence\\nLawson\\nLawton\\nLay\\nLayton\\nLazar\\nLazare\\nLazaro\\nLazarus\\nLazlo\\nLee\\nLefty\\nLeif\\nLeigh\\nLeighton\\nLeland\\nLem\\nLemar\\nLemmie\\nLemmy\\nLemuel\\nLen\\nLenard\\nLennie\\nLenny\\nLeo\\nLeon\\nLeonard\\nLeonardo\\nLeonerd\\nLeonhard\\nLeonid\\nLeonidas\\nLeopold\\nLeroy\\nLes\\nLesley\\nLeslie\\nLester\\nLev\\nLevi\\nLevin\\nLevon\\nLevy\\nLew\\nLewis\\nLex\\nLiam\\nLin\\nLincoln\\nLind\\nLindsay\\nLindsey\\nLindy\\nLinoel\\nLinus\\nLion\\nLionel\\nLionello\\nLlewellyn\\nLloyd\\nLocke\\nLockwood\\nLogan\\nLon\\nLonnie\\nLonny\\nLoren\\nLorenzo\\nLorne\\nLorrie\\nLothar\\nLou\\nLouie\\nLouis\\nLovell\\nLowell\\nLucas\\nLuce\\nLucian\\nLuciano\\nLucien\\nLucio\\nLucius\\nLudvig\\nLudwig\\nLuigi\\nLuis\\nLukas\\nLuke\\nLuther\\nLyle\\nLyn\\nLyndon\\nLynn\\nMac\\nMace\\nMack\\nMackenzie\\nMaddie\\nMaddy\\nMadison\\nMagnum\\nMagnus\\nMahesh\\nMahmoud\\nMahmud\\nMaison\\nMajor\\nMalcolm\\nManfred\\nManish\\nManny\\nManuel\\nMarc\\nMarcel\\nMarcello\\nMarcellus\\nMarcelo\\nMarchall\\nMarcio\\nMarco\\nMarcos\\nMarcus\\nMarietta\\nMarilu\\nMario\\nMarion\\nMarius\\nMark\\nMarko\\nMarkos\\nMarkus\\nMarlin\\nMarlo\\nMarlon\\nMarlow\\nMarlowe\\nMarmaduke\\nMarsh\\nMarshal\\nMarshall\\nMart\\nMartainn\\nMarten\\nMartie\\nMartin\\nMartino\\nMarty\\nMartyn\\nMarv\\nMarve\\nMarven\\nMarvin\\nMarwin\\nMason\\nMateo\\nMathew\\nMathias\\nMatias\\nMatt\\nMatteo\\nMatthaeus\\nMattheus\\nMatthew\\nMatthias\\nMatthieu\\nMatthiew\\nMatthus\\nMattias\\nMattie\\nMatty\\nMaurice\\nMauricio\\nMaurie\\nMaurise\\nMaurits\\nMauritz\\nMaury\\nMax\\nMaxfield\\nMaxie\\nMaxim\\nMaximilian\\nMaximilien\\nMaxwell\\nMayer\\nMaynard\\nMaynord\\nMayor\\nMead\\nMeade\\nMeier\\nMeir\\nMel\\nMelvin\\nMelvyn\\nMenard\\nMendel\\nMendie\\nMeredeth\\nMeredith\\nMerell\\nMerill\\nMerle\\nMerlin\\nMerrel\\nMerrick\\nMerril\\nMerrill\\nMerry\\nMerv\\nMervin\\nMerwin\\nMeryl\\nMeyer\\nMic\\nMicah\\nMichael\\nMichail\\nMichal\\nMichale\\nMicheal\\nMicheil\\nMichel\\nMichele\\nMick\\nMickey\\nMickie\\nMicky\\nMiguel\\nMika\\nMikael\\nMike\\nMikel\\nMikey\\nMikhail\\nMiles\\nMillicent\\nMilo\\nMilt\\nMilton\\nMischa\\nMitch\\nMitchael\\nMitchel\\nMitchell\\nMoe\\nMohamad\\nMohamed\\nMohammad\\nMohammed\\nMohan\\nMoise\\nMoises\\nMoishe\\nMonroe\\nMontague\\nMonte\\nMontgomery\\nMonty\\nMoore\\nMordecai\\nMorgan\\nMorlee\\nMorley\\nMorly\\nMorrie\\nMorris\\nMorry\\nMorse\\nMort\\nMorten\\nMortie\\nMortimer\\nMorton\\nMorty\\nMose\\nMoses\\nMoshe\\nMoss\\nMuffin\\nMugsy\\nMuhammad\\nMunmro\\nMunroe\\nMurdoch\\nMurdock\\nMurphy\\nMurray\\nMustafa\\nMyke\\nMyles\\nMylo\\nMyron\\nNahum\\nNapoleon\\nNat\\nNatale\\nNate\\nNathan\\nNathanael\\nNathanial\\nNathaniel\\nNathanil\\nNeal\\nNeale\\nNeall\\nNealon\\nNealson\\nNealy\\nNed\\nNeddie\\nNeddy\\nNeel\\nNeil\\nNels\\nNelsen\\nNelson\\nNero\\nNeron\\nNester\\nNestor\\nNev\\nNevil\\nNevile\\nNeville\\nNevin\\nNevins\\nNewton\\nNiall\\nNiccolo\\nNicholas\\nNichole\\nNichols\\nNick\\nNickey\\nNickie\\nNickolas\\nNicky\\nNico\\nNicolas\\nNiels\\nNigel\\nNiki\\nNikita\\nNikki\\nNikolai\\nNikos\\nNiles\\nNils\\nNilson\\nNiven\\nNoach\\nNoah\\nNoam\\nNoble\\nNoe\\nNoel\\nNolan\\nNoland\\nNorbert\\nNorm\\nNorman\\nNormand\\nNormie\\nNorris\\nNorthrop\\nNorthrup\\nNorton\\nNorwood\\nNunzio\\nObadiah\\nObadias\\nOberon\\nObie\\nOctavius\\nOdell\\nOdie\\nOdin\\nOdysseus\\nOlaf\\nOlag\\nOle\\nOleg\\nOlin\\nOliver\\nOlivier\\nOlle\\nOllie\\nOmar\\nOral\\nOran\\nOrazio\\nOrbadiah\\nOren\\nOrin\\nOrion\\nOrlando\\nOrren\\nOrrin\\nOrson\\nOrton\\nOrville\\nOsbert\\nOsborn\\nOsborne\\nOsbourn\\nOsbourne\\nOscar\\nOsgood\\nOsmond\\nOsmund\\nOssie\\nOswald\\nOswell\\nOtes\\nOthello\\nOtho\\nOtis\\nOtto\\nOwen\\nOzzie\\nOzzy\\nPablo\\nPace\\nPaco\\nPaddie\\nPaddy\\nPadraig\\nPage\\nPaige\\nPail\\nPalmer\\nPaolo\\nPark\\nParke\\nParker\\nParnell\\nParrnell\\nParry\\nParsifal\\nPartha\\nPascal\\nPascale\\nPasquale\\nPat\\nPate\\nPatel\\nPaten\\nPatin\\nPaton\\nPatric\\nPatrice\\nPatricio\\nPatrick\\nPatrik\\nPatsy\\nPattie\\nPatty\\nPaul\\nPaulo\\nPavel\\nPearce\\nPedro\\nPeirce\\nPembroke\\nPen\\nPenn\\nPennie\\nPenny\\nPenrod\\nPepe\\nPepillo\\nPepito\\nPerceval\\nPercival\\nPercy\\nPerry\\nPete\\nPeter\\nPetey\\nPetr\\nPeyter\\nPeyton\\nPhil\\nPhilbert\\nPhilip\\nPhillip\\nPhillipe\\nPhillipp\\nPhineas\\nPhip\\nPierce\\nPierre\\nPierson\\nPiet\\nPieter\\nPietro\\nPiggy\\nPincas\\nPinchas\\nPincus\\nPiotr\\nPip\\nPlato\\nPooh\\nPorter\\nPoul\\nPowell\\nPraneetf\\nPrasad\\nPrasun\\nPrent\\nPrentice\\nPrentiss\\nPrescott\\nPreston\\nPrice\\nPrince\\nPryce\\nPuff\\nPurcell\\nPutnam\\nPyotr\\nQuent\\nQuentin\\nQuiggly\\nQuigly\\nQuigman\\nQuill\\nQuillan\\nQuincey\\nQuincy\\nQuinlan\\nQuinn\\nQuint\\nQuintin\\nQuinton\\nQuintus\\nRab\\nRabbi\\nRabi\\nRad\\nRadcliffe\\nRafael\\nRafe\\nRagnar\\nRahul\\nRaimund\\nRainer\\nRaj\\nRajeev\\nRaleigh\\nRalf\\nRalph\\nRam\\nRamesh\\nRamon\\nRamsay\\nRamsey\\nRand\\nRandal\\nRandall\\nRandell\\nRandi\\nRandie\\nRandolf\\nRandolph\\nRandy\\nRansell\\nRansom\\nRaoul\\nRaphael\\nRaul\\nRavi\\nRavil\\nRawley\\nRay\\nRaymond\\nRaymund\\nRaymundo\\nRaynard\\nRayner\\nRaynor\\nReagan\\nRed\\nRedford\\nRedmond\\nReece\\nReed\\nRees\\nReese\\nReg\\nRegan\\nRegen\\nReggie\\nReggis\\nReggy\\nReginald\\nReginauld\\nReid\\nReilly\\nReinhard\\nReinhold\\nRem\\nRemington\\nRemus\\nRenado\\nRenaldo\\nRenard\\nRenato\\nRenaud\\nRenault\\nRene\\nReube\\nReuben\\nReuven\\nRex\\nRey\\nReynard\\nReynold\\nReynolds\\nReza\\nRhett\\nRic\\nRicard\\nRicardo\\nRiccardo\\nRice\\nRich\\nRichard\\nRichardo\\nRichie\\nRichmond\\nRichy\\nRick\\nRickard\\nRickey\\nRicki\\nRickie\\nRicky\\nRik\\nRikki\\nRiley\\nRinaldo\\nRipley\\nRitch\\nRitchie\\nRoarke\\nRob\\nRobb\\nRobbert\\nRobbie\\nRobert\\nRoberto\\nRobin\\nRobinson\\nRochester\\nRock\\nRockwell\\nRocky\\nRod\\nRodd\\nRoddie\\nRoddy\\nRoderic\\nRoderich\\nRoderick\\nRoderigo\\nRodge\\nRodger\\nRodney\\nRodolfo\\nRodolph\\nRodolphe\\nRodrick\\nRodrigo\\nRodrique\\nRog\\nRoger\\nRogers\\nRoice\\nRoland\\nRolando\\nRolf\\nRolfe\\nRolland\\nRollin\\nRollins\\nRollo\\nRolph\\nRomain\\nRoman\\nRomeo\\nRon\\nRonald\\nRonen\\nRoni\\nRonnie\\nRonny\\nRoosevelt\\nRory\\nRoscoe\\nRoss\\nRoth\\nRourke\\nRowland\\nRoy\\nRoyal\\nRoyce\\nRube\\nRuben\\nRubin\\nRuby\\nRudd\\nRuddie\\nRuddy\\nRudie\\nRudiger\\nRudolf\\nRudolfo\\nRudolph\\nRudy\\nRudyard\\nRufe\\nRufus\\nRupert\\nRuperto\\nRuss\\nRussel\\nRussell\\nRustie\\nRustin\\nRusty\\nRutger\\nRutherford\\nRutledge\\nRutter\\nRyan\\nSal\\nSalem\\nSalim\\nSalman\\nSalmon\\nSalomo\\nSalomon\\nSalomone\\nSalvador\\nSalvatore\\nSalvidor\\nSam\\nSammie\\nSammy\\nSampson\\nSamson\\nSamuel\\nSamuele\\nSancho\\nSander\\nSanders\\nSanderson\\nSandor\\nSandro\\nSandy\\nSanford\\nSanson\\nSansone\\nSarge\\nSargent\\nSascha\\nSasha\\nSaul\\nSauncho\\nSaunder\\nSaunders\\nSaunderson\\nSaundra\\nSaw\\nSawyer\\nSawyere\\nSax\\nSaxe\\nSaxon\\nSay\\nSayer\\nSayers\\nSayre\\nSayres\\nScarface\\nSchroeder\\nSchuyler\\nScot\\nScott\\nScotti\\nScottie\\nScotty\\nSeamus\\nSean\\nSebastian\\nSebastiano\\nSebastien\\nSee\\nSelby\\nSelig\\nSerge\\nSergeant\\nSergei\\nSergent\\nSergio\\nSeth\\nSeymour\\nShadow\\nShaine\\nShalom\\nShamus\\nShanan\\nShane\\nShannan\\nShannon\\nShaughn\\nShaun\\nShaw\\nShawn\\nShay\\nShayne\\nShea\\nSheff\\nSheffie\\nSheffield\\nSheffy\\nShelby\\nShelden\\nSheldon\\nShell\\nShelley\\nShelton\\nShem\\nShep\\nShepard\\nShepherd\\nSheppard\\nShepperd\\nSheridan\\nSherlock\\nSherlocke\\nSherman\\nSherwin\\nSherwood\\nSherwynd\\nShimon\\nShlomo\\nSholom\\nShorty\\nShumeet\\nShurlock\\nShurlocke\\nShurwood\\nSi\\nSibyl\\nSid\\nSiddhartha\\nSidnee\\nSidney\\nSiegfried\\nSiffre\\nSig\\nSigfrid\\nSigfried\\nSigmund\\nSilas\\nSilvain\\nSilvan\\nSilvano\\nSilvanus\\nSilvester\\nSilvio\\nSim\\nSimeon\\nSimmonds\\nSimon\\nSimone\\nSinclair\\nSinclare\\nSivert\\nSiward\\nSkell\\nSkelly\\nSkip\\nSkipp\\nSkipper\\nSkippie\\nSkippy\\nSkipton\\nSky\\nSkye\\nSkylar\\nSkyler\\nSlade\\nSlim\\nSloan\\nSloane\\nSly\\nSmith\\nSmitty\\nSocrates\\nSol\\nSollie\\nSolly\\nSolomon\\nSomerset\\nSon\\nSonnie\\nSonny\\nSparky\\nSpence\\nSpencer\\nSpense\\nSpenser\\nSpike\\nSpiro\\nSpiros\\nSpud\\nSrinivas\\nStacy\\nStaffard\\nStafford\\nStaford\\nStan\\nStandford\\nStanfield\\nStanford\\nStanislaw\\nStanleigh\\nStanley\\nStanly\\nStanton\\nStanwood\\nStavros\\nStearn\\nStearne\\nStefan\\nStefano\\nSteffen\\nStephan\\nStephanus\\nStephen\\nSterling\\nStern\\nSterne\\nSteve\\nSteven\\nStevie\\nStevy\\nStew\\nSteward\\nStewart\\nStig\\nStillman\\nStillmann\\nSting\\nStinky\\nStirling\\nStu\\nStuart\\nSturgis\\nSullivan\\nSully\\nSumner\\nSunny\\nSutherland\\nSutton\\nSven\\nSwen\\nSyd\\nSydney\\nSylvan\\nSylvester\\nTab\\nTabb\\nTabbie\\nTabby\\nTaber\\nTabor\\nTad\\nTadd\\nTaddeo\\nTaddeus\\nTadeas\\nTailor\\nTait\\nTaite\\nTalbert\\nTalbot\\nTallie\\nTally\\nTam\\nTamas\\nTammie\\nTammy\\nTan\\nTann\\nTanner\\nTanney\\nTannie\\nTanny\\nTarrance\\nTarrant\\nTarzan\\nTate\\nTaylor\\nTeador\\nTed\\nTedd\\nTeddie\\nTeddy\\nTedie\\nTedman\\nTedmund\\nTedrick\\nTemp\\nTemple\\nTempleton\\nTeodoor\\nTeodor\\nTeodorico\\nTeodoro\\nTerence\\nTerencio\\nTerrance\\nTerrel\\nTerrell\\nTerrence\\nTerri\\nTerrill\\nTerry\\nThacher\\nThad\\nThaddeus\\nThaddius\\nThaddus\\nThadeus\\nThain\\nThaine\\nThane\\nTharen\\nThatch\\nThatcher\\nThaxter\\nThayne\\nThebault\\nThedric\\nThedrick\\nTheo\\nTheobald\\nTheodor\\nTheodore\\nTheodoric\\nTheophyllus\\nThibaud\\nThibaut\\nThom\\nThomas\\nThor\\nThorn\\nThorndike\\nThornie\\nThornton\\nThorny\\nThorpe\\nThorstein\\nThorsten\\nThorvald\\nThurstan\\nThurston\\nTibold\\nTiebold\\nTiebout\\nTiler\\nTim\\nTimmie\\nTimmy\\nTimothee\\nTimotheus\\nTimothy\\nTirrell\\nTito\\nTitos\\nTitus\\nTobe\\nTobiah\\nTobias\\nTobie\\nTobin\\nTobit\\nToby\\nTod\\nTodd\\nToddie\\nToddy\\nTom\\nTomas\\nTome\\nTomkin\\nTomlin\\nTommie\\nTommy\\nTonnie\\nTony\\nTore\\nTorey\\nTorin\\nTorr\\nTorrance\\nTorre\\nTorrence\\nTorrey\\nTorrin\\nTorry\\nTown\\nTowney\\nTownie\\nTownsend\\nTowny\\nTrace\\nTracey\\nTracie\\nTracy\\nTraver\\nTravers\\nTravis\\nTray\\nTre\\nTremain\\nTremaine\\nTremayne\\nTrent\\nTrenton\\nTrev\\nTrevar\\nTrever\\nTrevor\\nTrey\\nTrip\\nTristan\\nTroy\\nTruman\\nTuck\\nTucker\\nTuckie\\nTucky\\nTudor\\nTull\\nTulley\\nTully\\nTurner\\nTy\\nTybalt\\nTye\\nTyler\\nTymon\\nTymothy\\nTynan\\nTyrone\\nTyrus\\nTyson\\nUdale\\nUdall\\nUdell\\nUgo\\nUlberto\\nUli\\nUlick\\nUlises\\nUlric\\nUlrich\\nUlrick\\nUlysses\\nUmberto\\nUpton\\nUrbain\\nUrban\\nUrbano\\nUrbanus\\nUri\\nUriah\\nUriel\\nUrson\\nVachel\\nVaclav\\nVail\\nVal\\nValdemar\\nVale\\nValentin\\nValentine\\nVan\\nVance\\nVasili\\nVasilis\\nVasily\\nVassili\\nVassily\\nVaughan\\nVaughn\\nVenkat\\nVerge\\nVergil\\nVern\\nVerne\\nVernen\\nVerney\\nVernon\\nVernor\\nVibhu\\nVic\\nVick\\nVictor\\nVijay\\nVilhelm\\nVin\\nVince\\nVincent\\nVincents\\nVinnie\\nVinny\\nVinod\\nVirge\\nVirgie\\nVirgil\\nVirgilio\\nVite\\nVito\\nVlad\\nVladamir\\nVladimir\\nVoltaire\\nVon\\nWade\\nWadsworth\\nWain\\nWaine\\nWainwright\\nWait\\nWaite\\nWaiter\\nWake\\nWakefield\\nWald\\nWaldemar\\nWalden\\nWaldo\\nWaldon\\nWaleed\\nWalker\\nWallace\\nWallache\\nWallas\\nWallie\\nWallis\\nWally\\nWalsh\\nWalt\\nWalter\\nWalther\\nWalton\\nWang\\nWard\\nWarde\\nWarden\\nWare\\nWaring\\nWarner\\nWarren\\nWash\\nWashington\\nWat\\nWaverley\\nWaverly\\nWay\\nWaylan\\nWayland\\nWaylen\\nWaylin\\nWaylon\\nWayne\\nWeb\\nWebb\\nWeber\\nWebster\\nWeidar\\nWeider\\nWelbie\\nWelby\\nWelch\\nWells\\nWelsh\\nWendall\\nWendel\\nWendell\\nWerner\\nWes\\nWesley\\nWeslie\\nWest\\nWestbrook\\nWestbrooke\\nWestleigh\\nWestley\\nWeston\\nWeylin\\nWheeler\\nWhit\\nWhitaker\\nWhitby\\nWhitman\\nWhitney\\nWhittaker\\nWiatt\\nWilber\\nWilbert\\nWilbur\\nWilburn\\nWilburt\\nWilden\\nWildon\\nWilek\\nWiley\\nWilfred\\nWilfrid\\nWilhelm\\nWill\\nWillard\\nWilldon\\nWillem\\nWilley\\nWilli\\nWilliam\\nWillie\\nWillis\\nWillmott\\nWilly\\nWilmar\\nWilmer\\nWilson\\nWilt\\nWilton\\nWin\\nWindham\\nWinfield\\nWinford\\nWinfred\\nWinifield\\nWinn\\nWinnie\\nWinny\\nWinslow\\nWinston\\nWinthrop\\nWinton\\nWit\\nWitold\\nWittie\\nWitty\\nWojciech\\nWolf\\nWolfgang\\nWolfie\\nWolfram\\nWolfy\\nWoochang\\nWood\\nWoodie\\nWoodman\\nWoodrow\\nWoody\\nWorden\\nWorth\\nWorthington\\nWorthy\\nWright\\nWyatan\\nWyatt\\nWye\\nWylie\\nWyn\\nWyndham\\nWynn\\nWynton\\nXavier\\nXenos\\nXerxes\\nXever\\nXimenes\\nXimenez\\nXymenes\\nYaakov\\nYacov\\nYale\\nYanaton\\nYance\\nYancey\\nYancy\\nYank\\nYankee\\nYard\\nYardley\\nYehudi\\nYigal\\nYule\\nYuri\\nYves\\nZach\\nZacharia\\nZachariah\\nZacharias\\nZacharie\\nZachary\\nZacherie\\nZachery\\nZack\\nZackariah\\nZak\\nZalman\\nZane\\nZared\\nZary\\nZeb\\nZebadiah\\nZebedee\\nZebulen\\nZebulon\\nZechariah\\nZed\\nZedekiah\\nZeke\\nZelig\\nZerk\\nZeus\\nZippy\\nZollie\\nZolly\\nZorro\\n'"
      ]
     },
     "execution_count": 26,
     "metadata": {},
     "output_type": "execute_result"
    }
   ],
   "source": [
    "names.raw('male.txt')"
   ]
  },
  {
   "cell_type": "code",
   "execution_count": null,
   "metadata": {
    "collapsed": true
   },
   "outputs": [],
   "source": [
    "names.raw('female.text')"
   ]
  },
  {
   "cell_type": "code",
   "execution_count": null,
   "metadata": {
    "collapsed": true
   },
   "outputs": [],
   "source": []
  },
  {
   "cell_type": "code",
   "execution_count": null,
   "metadata": {
    "collapsed": true
   },
   "outputs": [],
   "source": []
  },
  {
   "cell_type": "code",
   "execution_count": null,
   "metadata": {
    "collapsed": true
   },
   "outputs": [],
   "source": []
  },
  {
   "cell_type": "code",
   "execution_count": null,
   "metadata": {
    "collapsed": true
   },
   "outputs": [],
   "source": []
  },
  {
   "cell_type": "code",
   "execution_count": null,
   "metadata": {
    "collapsed": true
   },
   "outputs": [],
   "source": []
  },
  {
   "cell_type": "code",
   "execution_count": null,
   "metadata": {
    "collapsed": true
   },
   "outputs": [],
   "source": []
  },
  {
   "cell_type": "code",
   "execution_count": null,
   "metadata": {
    "collapsed": true
   },
   "outputs": [],
   "source": []
  },
  {
   "cell_type": "code",
   "execution_count": null,
   "metadata": {
    "collapsed": true
   },
   "outputs": [],
   "source": [
    "a"
   ]
  }
 ],
 "metadata": {
  "anaconda-cloud": {},
  "kernelspec": {
   "display_name": "Python [conda root]",
   "language": "python",
   "name": "conda-root-py"
  },
  "language_info": {
   "codemirror_mode": {
    "name": "ipython",
    "version": 3
   },
   "file_extension": ".py",
   "mimetype": "text/x-python",
   "name": "python",
   "nbconvert_exporter": "python",
   "pygments_lexer": "ipython3",
   "version": "3.5.2"
  }
 },
 "nbformat": 4,
 "nbformat_minor": 1
}
