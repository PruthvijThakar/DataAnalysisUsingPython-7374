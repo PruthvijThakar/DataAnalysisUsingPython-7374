{
 "cells": [
  {
   "cell_type": "markdown",
   "metadata": {},
   "source": [
    "# Question 6\n",
    "--Under Inaugural Address package\n",
    "\n",
    "--For every president, find out how many unique words they used in speech.\n",
    "\n",
    "--We will just assume that President Bush means one person (technically it is incorrect but we will ignore it)\n"
   ]
  },
  {
   "cell_type": "code",
   "execution_count": 2,
   "metadata": {
    "collapsed": true
   },
   "outputs": [],
   "source": [
    "import nltk"
   ]
  },
  {
   "cell_type": "code",
   "execution_count": 3,
   "metadata": {
    "collapsed": false
   },
   "outputs": [
    {
     "data": {
      "text/plain": [
       "['1789-Washington.txt',\n",
       " '1793-Washington.txt',\n",
       " '1797-Adams.txt',\n",
       " '1801-Jefferson.txt',\n",
       " '1805-Jefferson.txt',\n",
       " '1809-Madison.txt',\n",
       " '1813-Madison.txt',\n",
       " '1817-Monroe.txt',\n",
       " '1821-Monroe.txt',\n",
       " '1825-Adams.txt',\n",
       " '1829-Jackson.txt',\n",
       " '1833-Jackson.txt',\n",
       " '1837-VanBuren.txt',\n",
       " '1841-Harrison.txt',\n",
       " '1845-Polk.txt',\n",
       " '1849-Taylor.txt',\n",
       " '1853-Pierce.txt',\n",
       " '1857-Buchanan.txt',\n",
       " '1861-Lincoln.txt',\n",
       " '1865-Lincoln.txt',\n",
       " '1869-Grant.txt',\n",
       " '1873-Grant.txt',\n",
       " '1877-Hayes.txt',\n",
       " '1881-Garfield.txt',\n",
       " '1885-Cleveland.txt',\n",
       " '1889-Harrison.txt',\n",
       " '1893-Cleveland.txt',\n",
       " '1897-McKinley.txt',\n",
       " '1901-McKinley.txt',\n",
       " '1905-Roosevelt.txt',\n",
       " '1909-Taft.txt',\n",
       " '1913-Wilson.txt',\n",
       " '1917-Wilson.txt',\n",
       " '1921-Harding.txt',\n",
       " '1925-Coolidge.txt',\n",
       " '1929-Hoover.txt',\n",
       " '1933-Roosevelt.txt',\n",
       " '1937-Roosevelt.txt',\n",
       " '1941-Roosevelt.txt',\n",
       " '1945-Roosevelt.txt',\n",
       " '1949-Truman.txt',\n",
       " '1953-Eisenhower.txt',\n",
       " '1957-Eisenhower.txt',\n",
       " '1961-Kennedy.txt',\n",
       " '1965-Johnson.txt',\n",
       " '1969-Nixon.txt',\n",
       " '1973-Nixon.txt',\n",
       " '1977-Carter.txt',\n",
       " '1981-Reagan.txt',\n",
       " '1985-Reagan.txt',\n",
       " '1989-Bush.txt',\n",
       " '1993-Clinton.txt',\n",
       " '1997-Clinton.txt',\n",
       " '2001-Bush.txt',\n",
       " '2005-Bush.txt',\n",
       " '2009-Obama.txt']"
      ]
     },
     "execution_count": 3,
     "metadata": {},
     "output_type": "execute_result"
    }
   ],
   "source": [
    "from nltk.corpus import inaugural\n",
    "inaugural.fileids()"
   ]
  },
  {
   "cell_type": "code",
   "execution_count": 15,
   "metadata": {
    "collapsed": false
   },
   "outputs": [
    {
     "name": "stdout",
     "output_type": "stream",
     "text": [
      "The length of list is: 1685\n",
      "{'filled', 'ardent', 'thence', 'hope', 'deficiencies', 'nor', 'acknowledge', 'exemplified', 'years', 'necessary', 'provision', 'declining', 'designates', 'States', 'auspiciously', 'service', 'in', 'day', 'or', 'consecrate', 'providential', 'purposes', 'strongly', 'continuance', 'there', 'maxims', 'decline', 'allotted', 'mislead', 'confidence', 'will', 'remain', 'no', 'inheriting', 'proof', 'thoroughly', 'trust', 'join', 'weighty', 'given', 'motives', 'you', 'favor', 'win', 'dare', 'freemen', 'requires', 'affairs', 'attention', 'personal', 'transcendent', 'impregnably', 'honor', 'gradual', 'seem', 'voluntary', 'carefully', 'selected', 'preservation', 'proper', 'such', 'depend', 'consulted', 'them', 'am', 'side', 'if', 'one', 'it', 'virtue', 'affectionate', 'eye', 'He', ',', 'wisest', 'tranquil', 'pleased', 'duty', 'world', 'by', 'every', 'expedient', 'recommendation', 'latter', 'From', 'It', 'an', 'execution', 'benefits', 'hopes', 'appreciation', 'felicity', 'regard', 'supplications', 'swayed', 'as', 'department', 'presides', 'substitute', 'chosen', 'indispensably', 'American', 'express', 'proceedings', 'united', 'power', 'wise', 'instituted', 'instrument', 'awaken', 'all', 'expenditures', 'nations', 'most', 'inclination', 'feelings', 'may', 'Among', 'decide', 'local', 'rights', 'cares', 'congenial', 'adorn', 'Constitution', 'step', 'endeavor', 'inapplicable', 'experiment', 'more', 'considered', 'economy', 'eternal', 'undertaking', 'supply', 'forced', 'themselves', 'citizens', 'honored', 'his', 'magnitude', 'ordinary', 'Author', 'less', 'propitious', 'hand', 'due', 'promoted', 'honest', 'concerns', 'distinguished', 'pursuit', 'pray', 'into', 'solid', 'station', 'adore', 'genuine', 'Citizens', 'again', 'and', 'Invisible', 'injunctions', 'disregards', 'important', 'rendered', 'partiality', 'benediction', 'enlarged', ')', 'myself', 'delegated', 'hear', 'they', 'Great', 'government', 'prospect', 'life', 'characters', 'deliberations', 'advanced', 'course', 'inspire', 'universe', 'voice', 'advantageously', 'ordained', 'form', 'sensibility', 'fifth', 'produced', 'execute', 'juncture', 'high', 'rewards', 'administration', 'estimates', 'place', 'rectitude', 'consequences', 'alteration', 'originated', 'reflections', 'another', 'incurring', 'included', 'are', 'America', 'revolution', 'our', 'Race', 'knowingly', 'Hand', 'official', 'task', 'public', 'misdirect', 'thus', 'surest', 'violated', 'brings', 'charge', 'hands', 'made', 'peculiarly', 'retreat', 'dispositions', 'Government', 'collect', 'asylum', 'untried', 'omit', 'disinclination', 'system', 'to', 'those', 'respect', 'inferior', 'Country', 'none', 'placed', 'affections', 'being', 'limited', 'entrusted', 'obedience', 'circumstances', 'comprehensive', 'oath', '(', 'which', 'whose', 'waste', 'preeminence', 'nation', 'your', 'entertain', 'incident', 'In', 'tranquillity', 'study', 'immutable', 'await', 'event', 'anxieties', 'observations', 'private', 'equal', 'men', 'deeply', 'can', 'take', 'arrive', 'ought', 'executive', 'acquit', 'imparted', 'sufficiently', 'defining', 'President', 'well', 'against', 'would', 'had', 'discernment', 'Senate', 'Fellow', 'add', 'perhaps', 'far', 'effective', 'truth', 'Having', 'pious', 'palliated', 'harmony', 'great', 'adopt', 'received', 'addition', 'homage', 'Representatives', 'upon', 'accordingly', 'under', '-', 'defect', 'Every', 'much', 'model', 'conflict', 'attachments', 'might', 'degree', 'health', 'staked', 'conspicuous', 'crisis', 'further', 'with', 'these', 'security', 'assure', 'brief', 'remembrance', 'deciding', 'mind', 'perfect', 'smiles', 'now', 'time', 'communities', 'agency', 'present', '.', 'decision', 'other', 'powers', 'duties', 'Previous', 'All', 'fire', 'foundation', 'summons', 'entering', 'token', 'has', 'supplication', 'judgment', '--', 'little', 'blessing', 'should', 'office', 'scrutiny', 'over', 'circumstance', 'flattering', 'blessings', 'establishing', 'willingly', 'endowments', 'animosities', 'first', 'No', 'thereof', 'notification', 'order', 'civil', 'before', 'derived', 'These', ':', 'at', 'own', ';', 'for', 'difficulty', 'Such', 'between', 'be', 'thought', 'prejudices', 'of', 'That', 'could', 'renounce', 'exists', 'called', 'many', 'character', 'shall', 'than', 'former', 'compared', 'refer', 'policy', 'destiny', 'struggle', 'repaired', 'temperate', 'instances', 'improper', 'equally', 'actuate', 'since', 'Almighty', 'fellow', 'liberties', 'opportunities', 'On', 'committed', 'good', 'Human', 'behold', 'therefore', 'qualifications', 'unparalleled', 'birth', 'a', 'summoned', 'large', 'me', 'conducts', 'governments', 'humble', 'meet', 'submitted', 'month', 'unanimity', 'measures', 'require', 'have', '14th', 'sufficient', 'satisfaction', 'distinct', 'any', 'but', 'too', 'impressions', 'their', 'greater', 'advancement', 'command', 'instance', 'return', 'future', 'devise', 'To', 'upbraidings', 'faithful', 'Parent', 'essential', 'way', 'accomplished', 'her', 'thinking', 'my', 'interruptions', 'The', 'actual', 'on', 'not', 'persuaded', 'arduous', 'affected', 'act', 'charter', 'frequent', 'Besides', 'consent', 'habit', 'some', 'we', 'emotions', 'avoid', 'question', 'morality', 'laid', 'from', 'leave', 'possible', 'error', 'anticipation', 'sense', '\"', 'honorable', 'ceremony', 'Chief', 'established', 'finally', 'along', 'this', 'exercise', 'resulted', 'prosperity', 'pecuniary', 'dwell', 'presence', 'distrustful', 'together', 'endanger', 'right', 'veneration', 'objects', 'objections', 'safely', 'recommendations', 'call', 'light', 'independent', 'overwhelm', 'experience', 'must', 'influence', 'about', 'principles', 'contemplated', 'without', 'besides', 'His', 'unpracticed', 'occasional', 'new', 'the', 'transmitted', 'consistent', 'give', 'functions', 'fortified', 'tendering', 'happiness', 'deliberating', 'despondence', 'love', 'people', 'You', 'party', 'grateful', 'advantage', 'particular', 'he', 'presage', 'Heaven', 'tribute', 'executing', 'fervent', 'aids', 'inquietude', 'recommend', 'entire', 'vicissitudes', 'just', 'talents', 'was', 'witnesses', 'still', 'watch', 'during', 'House', 'whilst', 'itself', 'When', 'permanent', 'By', 'that', 'either', 'magnanimous', 'urged', 'pure', 'share', 'employed', 'judge', 'lights', 'commence', 'human', 'success', 'Being', 'expected', 'awakened', 'indissoluble', 'experienced', 'article', 'patriotism', 'its', 'union', 'consultations', 'consideration', 'required', 'foregoing', 'punishment', 'conscious', 'assembled', 'seems', 'resolution', 'Instead', 'republican', 'found', 'us', 'separate', 'means', 'country', 'free', 'attributes', 'past', 'eve', 'suppressed', 'bound', 'so', 'solemn', 'never', 'rules', 'out', 'characteristic', 'constitutional', 'occasion', 'compensation', 'been', 'reposed', 'United', 'national', 'how', 'aver', 'councils', 'judged', 'interests', 'sacred', 'care', 'addressed', 'This', 'sentiments', 'gratitude', 'reverence', 'I', 'expresses', 'guided', 'benign', 'pledges', 'arising', 'properly', 'incapacity', 'departed', 'once', 'divine', 'fondest', 'nature', 'dear', 'subject', 'assemblage', 'enable', 'justly', 'emoluments', 'resorting', 'predilection', 'liberty', 'lessons', '.\"', 'who', 'views', 'is', 'then', 'Magistrate'}\n"
     ]
    }
   ],
   "source": [
    "filenames = [\n",
    "    '1789-Washington.txt',\n",
    "    '1793-Washington.txt'\n",
    "]\n",
    "inaugural = nltk.corpus.inaugural.words(filenames)\n",
    "print(\"The length of list is: \" + str(len(inaugural)))\n",
    "print(set(list(inaugural)))\n"
   ]
  },
  {
   "cell_type": "code",
   "execution_count": 16,
   "metadata": {
    "collapsed": false
   },
   "outputs": [
    {
     "name": "stdout",
     "output_type": "stream",
     "text": [
      "The length of list is: 5735\n",
      "{'accidents', 'sacredly', 'establishment', 'hope', 'carried', 'encouragement', 'meeting', 'acknowledge', 'natural', 'compact', 'source', 'States', 'hesitation', 'parties', 'gratification', 'unfolding', 'decline', 'remain', 'benefit', 'you', 'deputed', 'beyond', 'were', 'expressed', 'personal', 'honor', 'subordination', 'them', 'numbers', 'surveys', 'if', 'one', 'it', 'virtue', 'very', 'known', 'respective', 'judgments', 'consummation', 'commanded', 'preparing', 'revenue', 'exultation', 'by', 'preference', 'taxation', 'Legislature', 'decoration', 'mighty', 'swear', 'guidance', 'four', 'regard', 'sentiment', 'dominion', 'as', 'tillage', 'New', 'Chamber', 'undertake', 'everywhere', 'express', 'American', 'action', 'felt', 'conscientious', 'predecessor', 'power', 'pleasing', 'instituted', 'opening', 'gives', 'pride', 'forward', 'position', 'within', 'sacrifice', 'feel', 'may', 's', 'Can', 'limitation', 'slaves', 'rights', 'salvation', 'profound', 'tribes', 'weed', 'endeavor', 'colorable', 'investigate', 'need', 'determine', 'faith', 'clearly', 'resources', 'condition', 'With', 'themselves', 'supplying', 'his', 'State', 'throughout', 'energy', 'less', 'sympathies', 'mode', 'promise', 'denominations', 'concerns', 'desire', 'assistance', 'school', 'each', 'and', 'prevailed', 'maintain', 'departments', 'opportunity', 'persevering', 'important', 'formidable', 'decent', 'they', 'government', 'Lord', 'deliberations', 'deliberation', 'judiciary', 'concert', 'Patron', 'administration', 'press', 'embracing', 'another', 'differences', 'path', 'popular', 'public', 'ours', 'attachment', 'fraud', 'members', 'habits', 'prescribed', 'circumstances', 'interesting', 'regions', 'allayed', '(', 'yield', 'aged', 'Returning', 'altercation', 'induction', 'admit', 'ever', 'doubts', 'conformable', 'executive', 'guard', 'would', 'pursue', 'half', 'five', 'Senate', 'concernment', 'shades', 'upright', 'defend', 'baneful', 'bounded', 'forest', 'sea', 'upon', 'under', '-', 'same', 'times', 'himself', 'consists', 'degree', 'population', 'crisis', 'faculties', 'imperfection', 'commenced', 'security', 'perfect', 'rivalries', 'period', 'promptitude', 'lives', 'approbation', 'western', '.', 'knowing', 'republics', 'armies', 'eastern', 'apprehensive', 'back', 'peaceably', 'expounded', 'has', 'covenant', 'respectable', 'letters', 'choice', 'exclusively', 'first', 'sacrifices', 'peace', 'rational', 'enjoyed', 'disobedience', 'Under', 'for', 'home', 'distant', 'between', 'mankind', 'be', 'inclining', 'constituted', 'ends', 'fortunes', 'excited', 'coincidence', 'imposed', 'of', 'many', 'magnificence', 'majestic', 'violence', 'menaces', 'periods', 'least', 'composition', 'unlimited', 'conquest', 'danger', 'whom', 'liberties', 'habitual', 'parts', 'earthly', 'Subordinate', 'injustice', 'cost', 'broke', 'revered', 'exploring', 'a', 'pieces', 'me', 'alleviate', 'iron', 'humble', 'measures', 'divided', 'have', 'multiplied', 'schools', 'invention', 'interior', 'detail', 'artists', 'career', 'deliberate', 'determined', 'preserving', 'jarring', 'exact', 'convenience', 'essential', 'sustained', 'Protector', 'fleets', 'aspirations', 'Intentions', 'moral', 'foreign', 'question', 'alluring', 'Those', 'justice', 'possible', 'numerous', 'articles', 'see', 'General', 'guaranty', 'terror', 'until', 'inattention', 'launched', 'legislature', 'Whatsoever', 'disposition', 'indulge', 'presence', 'incidental', 'veneration', 'originate', 'holds', 'better', 'Revolutionary', 'fortitude', 'extended', 'cooperation', 'fulfillment', 'languor', 'principles', 'without', 'credit', 'expectations', 'exempt', 'the', 'arise', 'chains', 'reflected', 'give', 'indeed', 'functions', 'admiration', 'belongs', 'protected', 'work', 'eventful', 'difficulties', 'continent', 'people', 'illustrious', 'general', 'antiquity', 'improvements', 'particular', 'aqueducts', 'praises', 'equity', 'perceived', 'indicating', 'support', 'still', 'submission', 'become', 'injuries', 'obligations', 'sectional', 'direct', 'When', 'even', 'recommended', 'part', 'whether', 'enjoyments', 'existed', 'length', 'inestimable', 'govern', 'adoption', 'go', 'crowned', 'knit', 'expected', 'friendship', 'patriotism', 'its', 'apt', 'up', 'procured', 'conscious', 'minds', 'republican', 'existence', 'signally', 'founders', 'obscured', 'us', 'separate', 'means', 'aggravation', 'like', 'free', 'cities', 'exposed', 'suggested', 'cases', 'freedom', 'determination', 'surviving', 'diffidence', 'deserved', 'derive', 'councils', 'ten', 'interests', 'acquired', 'revised', 'confederated', 'once', 'ruins', 'appear', 'nature', 'who', 'views', 'extremities', 'reflecting', 'animated', 'woodsmen', 'two', 'hearts', 'nor', 'best', 'native', 'effectively', 'provision', 'outlines', 'in', 'Christians', 'continuance', 'sixty', 'six', 'will', 'happy', 'proof', 'potentates', 'heart', 'trust', 'mutual', 'settling', 'distributed', 'indebted', 'jubilee', 'burden', 'comfort', 'administrative', \"'\", 'heads', 'aggravated', 'common', 'evil', 'voluntary', 'selected', 'preservation', 'meliorate', 'patient', 'am', 'Helvetic', 'boundary', 'section', 'duty', 'bestowed', 'every', 'benevolent', 'soil', 'neighbors', 'Here', 'full', 'enacted', 'But', 'hopes', 'orderly', 'ideas', 'scruple', 'unexaggerated', 'review', 'different', 'noble', 'department', 'conventions', 'effected', 'war', 'extinguished', 'participation', 'exceeding', 'Of', 'pestilence', 'instrument', 'ordain', 'most', 'servants', 'inclination', 'traces', 'say', 'virtuous', 'concluded', 'more', 'considered', 'pursued', 'If', 'hesitate', 'secure', 'ordinary', 'hand', 'due', 'Ocean', 'overruling', 'honest', 'distinguished', 'legislation', 'results', 'twelve', 'defenses', 'moment', 'fair', 'collision', 'loss', 'Floridas', 'engraven', 'injunctions', 'Passing', 'bind', 'myself', 'Great', 'ties', 'look', 'life', 'basis', 'serious', 'frontier', 'ordained', 'form', 'separation', 'military', 'execute', 'place', 'congregations', 'dangerous', 'regulations', 'cherish', 'remote', 'America', 'defensive', 'demand', 'our', 'whatever', 'respectful', 'single', 'Government', 'those', 'formed', 'seen', 'road', 'universities', 'excusable', 'propagating', 'Administration', 'possessed', 'occasions', 'acknowledged', 'wars', 'tranquillity', 'commencing', 'generation', 'addressing', 'private', 'equal', 'posterity', 'political', 'can', 'zeal', 'perpetual', 'well', 'against', 'elements', 'bulwark', 'anything', 'add', 'armed', 'perhaps', 'topic', 'effective', 'truth', 'Europe', 'succeeding', 'regulated', 'precision', 'often', 'great', 'what', 'secured', 'discussions', 'much', 'assisted', 'amiable', 'countrymen', 'grandeur', 'with', 'adopted', 'proclaimed', 'indulgence', 'fall', 'abandoned', 'democracy', 'powers', 'duties', 'performance', 'All', 'immortal', 'venture', 'worn', 'little', 'industry', 'should', 'midst', 'over', 'conciliated', 'globe', 'forefathers', 'commonly', 'immediate', 'repealed', 'order', 'preserve', 'own', 'after', 'successors', 'delicious', 'legislatures', 'adapted', 'intrigue', 'That', 'could', 'called', 'outline', 'shall', 'resist', 'wealth', 'constituents', 'words', 'policy', 'winds', 'fellow', 'concurrence', 'therefore', 'sometimes', 'residence', 'governments', 'traffic', 'attend', 'sufficient', 'satisfaction', 'founded', 'pledge', 'temporary', 'any', 'spoil', 'consisting', 'lose', 'silent', 'their', 'second', 'ability', 'efficiency', 'applauded', 'sincere', 'Justice', 'not', 'doubly', 'causes', 'African', 'practical', 'dissolution', 'admitted', 'gone', 'bosom', 'highest', 'superior', 'election', 'sustain', 'protection', 'debt', 'alike', 'unconnected', 'quarters', 'rancor', 'august', 'swallowed', 'labors', 'Standing', 'convinced', 'peculiar', 'together', 'appeared', 'toward', 'establish', 'recommendations', 'social', 'call', 'ourselves', 'went', 'inflexible', 'about', 'fearless', 'only', 'new', 'millions', 'Christianity', 'Pacific', 'promises', 'point', 'discarding', 'love', 'You', 'merited', 'federative', 'otherwise', 'party', 'he', 'produce', 'abroad', 'ocean', 'embraced', 'commerce', 'just', 'talents', 'vote', 'models', 'prepossessions', 'uprooted', 'cultivation', 'promote', 'strict', 'solitary', 'wish', 'passion', 'issued', 'pure', 'transactions', 'hemisphere', 'justifiable', 'elapsed', 'consideration', 'claim', 'disappointed', 'cause', 'society', 'Measures', 'erected', 'forging', 'profligacy', 'extensive', 'Britain', 'expenditure', 'moneys', 'representative', 'regular', 'intention', 'coordinate', 'accountability', 'successor', 'occasion', 'according', 'transitory', 'though', 'how', 'directly', 'This', 'sentiments', 'gratitude', 'yielding', 'I', 'splendor', 'prepared', 'proceed', 'liberty', 'duration', 'confederacies', 'is', 'then', 'Magistrate', 'Liberty', 'combination', 'him', 'fallen', 'years', 'necessary', 'heated', 'comply', 'robes', 'idea', 'rigorous', 'soon', 'theory', 'day', 'formation', 'there', 'venerated', 'inviolable', 'relief', 'discharged', 'added', 'remained', 'affairs', 'earth', 'teem', 'early', 'suppression', 'providence', 'observe', 'lived', 'secret', 'such', 'Mississippi', 'divisions', 'conquests', 'result', 'ultimately', 'inhabitants', 'temperance', 'receive', 'world', 'blended', 'connected', 'From', 'an', 'concerning', 'agriculture', 'institution', 'beneficent', 'Providence', 'disinterested', 'supplications', 'jealousies', 'asunder', 'Congress', 'neutrality', 'reduce', 'wise', 'all', 'spheres', 'retirement', 'expenditures', 'nations', 'recollection', 'elected', 'manufactures', 'academies', 'effects', 'value', 'proposed', 'obvious', 'We', 'disease', 'infect', 'infirmity', 'experiment', 'watchman', 'advance', 'roads', 'fate', 'citizens', 'necessity', 'both', 'French', 'afte', 'unfaithful', 'constant', 'promoted', 'suffrage', 'into', 'alone', 'object', 'station', 'obligation', 'wrongs', 'usual', 'whole', 'beneficence', 'physical', 'science', 'profess', 'bee', 'strife', 'conformity', 'Union', 'daily', 'increase', 'total', 'progress', 'high', 'things', 'complaint', 'repeatedly', 'alteration', 'information', 'ages', 'boast', 'Irritated', 'strangers', 'amicable', 'exalted', 'warriors', 'man', 'left', 'laws', 'injunction', 'dominions', 'system', 'to', 'ornament', 'services', 'respect', 'revolutionary', 'inquiry', 'eight', 'which', 'objection', 'nation', 'harmonious', 'discipline', 'In', 'delight', 'instructive', 'shaken', 'waketh', 'melancholy', 'threaten', 'advancing', 'deceived', 'rod', 'springs', 'rule', 'discharge', 'enter', 'operation', 'far', 'riches', 'continue', 'line', 'enlightened', 'Indian', 'angel', 'nearly', 'reflection', 'glories', 'principle', 'conflict', 'attachments', 'antipathies', 'law', 'welfare', 'hunters', 'doubt', 'relations', 'seat', 'these', 'animation', 'insurrection', 'mind', 'reduced', 'now', 'time', ',\"', 'Treaties', 'other', 'calamity', 'difference', 'intellectual', 'preserved', 'lot', 'close', 'assuaged', 'city', 'pretense', 'indigent', 'blessings', 'effect', 'sophistry', 'supreme', 'before', 'civil', 'Ten', 'citizen', 'belligerent', 'trial', 'inspired', 'religion', 'sphere', 'apology', 'lands', 'amity', 'than', 'masters', 'imbittered', 'standards', 'metropolis', 'promoting', 'associated', 'twenty', 'On', 'committed', 'Order', 'certain', 'association', 'injury', 'kindled', 'example', 'Confederation', 'large', 'unceasing', 'unfolded', 'durable', 'but', 'Fountain', 'situation', 'too', 'future', 'chiefly', 'deference', 'solemnly', 'invariably', 'my', 'branches', 'seven', 'overthrow', 'strenuous', 'we', 'collisions', 'flattery', 'followed', 'error', 'barbarians', 'sense', 'Relying', 'venality', 'mere', 'solemnities', 'individual', 'majority', 'esteem', 'this', 'recur', 'prosperity', 'thousands', 'number', 'something', 'objects', 'wherever', 'caution', 'particulars', 'experience', 'interest', 'forth', 'recent', 'diversity', 'Executive', 'encourage', 'purity', 'His', 'intelligences', 'plan', 'center', 'admonition', 'limits', 'esteemed', 'There', 'suffered', 'annually', 'increasing', 'sagacious', 'ax', 'advantage', 'Heaven', 'preparation', 'settled', 'fervent', 'vicissitudes', 'Houses', 'passions', 'heretofore', 'precious', 'either', 'sovereignties', 'disquisitions', 'force', 'abuse', 'striking', 'urged', 'discouragement', 'Being', 'cut', 'vain', 'improvement', 'union', 'speculation', 'oftener', 'required', 'subsequent', 'looking', 'assembled', 'resolution', 'navigation', 'fruits', 'hazarded', 'religious', 'annals', 'country', 'resort', 'year', 'past', 'involved', 'approximated', 'bound', 'so', 'solemn', 'creed', 'never', 'constitutional', 'national', 'partial', 'open', 'uncontrollable', 'history', 'reverence', 'benign', 'provisions', 'dear', 'various', 'speak', 'abuses', 'generations', 'ardent', 'energies', 'survived', 'elevated', 'humanity', 'service', 'or', 'purposes', 'exhibited', 'allotted', 'confidence', 'no', 'marched', 'literary', 'weighty', 'management', 'legislative', 'favor', 'effort', 'debate', 'transmit', 'artifice', 'attention', 'negotiation', 'enumerates', 'age', 'consider', 'subordinate', 'transcendently', 'depend', 'unborn', 'saw', 'spectacle', ',', 'despotism', 'wishes', 'expedient', 'constitutions', 'eminent', 'Batavian', 'anxiety', 'passed', 'It', 'destruction', 'internal', 'devoted', 'encroachments', 'candid', 'scattered', 'unessential', 'where', 'inviolate', 'however', 'impartiality', 'universal', 'keep', 'principal', 'united', 'civilization', 'liberal', 'exercised', 'unexampled', 'terminated', 'when', 'feelings', 'represented', 'dispelled', 'friends', 'enemies', 'claims', 'Constitution', 'kept', 'perfected', 'construction', 'economy', 'points', 'splendid', 'ark', 'conviction', 'spirit', 'contests', 'foreseen', 'knowledge', 'long', 'intelligence', 'lay', 'dissenting', 'estimate', 'acquainted', 'rendered', 'benefactors', 'spotless', 'recognized', 'provide', ')', 'reparation', 'prospect', 'course', 'predecessors', 'voice', 'uncontrolled', 'firmest', 'courier', 'whitened', 'agreed', 'dissensions', 'read', 'insure', 'wholesome', 'involves', 'climate', 'middle', 'theirs', 'consequences', 'representatives', 'entertained', 'are', 'coeval', 'glory', 'cheering', 'authority', 'compass', 'burdens', 'made', 'Repeated', 'remains', 'opinions', 'heard', 'utmost', 'limited', 'Claiming', 'prejudice', 'unquestioned', 'declaration', 'impartial', 'your', 'entertain', 'live', 'chance', 'lastly', 'visitation', 'threatening', 'opinion', 'modes', 'taxes', 'discontents', 'equaled', 'did', 'men', 'deeply', 'friendly', 'Nor', 'away', 'elective', 'animosity', 'remnant', 'had', 'originating', 'Negligence', 'embrace', 'adverse', 'Fellow', 'Employed', 'frequency', 'harmony', 'bore', 'contributed', 'adopt', 'catastrophe', 'extraneous', 'imperishable', 'might', 'forms', 'Revolution', 'fortifications', 'Some', 'counsel', 'further', 'imitation', 'end', 'deserve', 'contempt', 'brief', 'projects', 'communion', 'certainly', 'language', 'badge', 'Navy', 'sanctioned', 'virtues', 'present', 'integrity', 'portion', 'unavoidable', 'inseparable', 'federal', 'descends', 'features', 'picture', '--', 'compliance', 'blessing', 'magnanimity', 'solved', 'office', 'several', 'combinations', 'land', 'Army', 'animosities', 'till', 'prompted', 'at', ';', 'earnest', 'Such', 'sight', 'geographical', 'exposition', 'lifted', 'thought', 'thirty', 'narrowest', 'prejudices', 'Federal', 'facts', 'enjoy', 'while', 'ancient', 'character', 'declares', 'altered', 'domestic', 'colleges', 'intentions', 'name', 'improve', 'through', 'prescribes', 'prudence', 'since', 'fresh', 'protect', 'good', 'fixed', 'sanguine', 'manufacturers', 'dissemination', 'scientific', 'effectual', 'classes', 'pledged', 'competent', '?', 'To', 'remove', 'faithful', 'accomplished', 'her', 'The', 'on', 'arduous', 'northern', 'some', 'laid', 'organization', 'from', 'do', 'farmers', '\"', 'Since', 'speculative', 'inauguration', 'established', 'delineated', 'relation', 'diamonds', 'destinies', 'resulted', 'right', 'ones', 'extent', 'objections', 'body', 'uncertainty', 'independent', 'must', 'painful', 'influence', 'discordant', 'lasting', 'aboriginal', 'genius', 'independence', 'conducting', 'rampart', 'perplexed', 'For', 'unshaken', 'southern', 'majesty', 'works', 'consistent', 'researches', 'happiness', 'legitimate', 'grateful', 'among', 'emphatically', 'constitution', 'individuals', 'patronize', 'unimpaired', 'assembly', 'diligent', 'was', 'commit', 'during', 'successive', 'removed', 'itself', 'stages', 'permanent', 'application', 'that', 'What', 'innocence', 'territory', 'turn', 'Our', 'A', 'human', 'success', 'Less', 'solidity', 'examples', 'rejection', 'actions', 'proved', 'institutions', 'make', 'inheritance', 'precisely', 'And', 'extend', 'delicacy', 'doubted', 'corruption', 'fraternity', 'obtained', 'affording', 'enjoyment', 'out', 'presented', 'benevolence', 'ardor', 'been', 'defense', 'United', 'intercourse', 'usage', 'conflicting', 'learn', 'process', 'stand', 'pledges', 'questions', 'except', 'frankly', 'continued', 'Administered', 'subject', 'enable', 'governed', 'lessons', 'elections', 'Rome', 'contention'}\n"
     ]
    }
   ],
   "source": [
    " filenames = [\n",
    "    '1797-Adams.txt',\n",
    "    '1825-Adams.txt'\n",
    "]\n",
    "inaugural = nltk.corpus.inaugural.words(filenames)\n",
    "print(\"The length of list is: \" + str(len(inaugural)))\n",
    "print(set(list(inaugural)))"
   ]
  },
  {
   "cell_type": "markdown",
   "metadata": {
    "collapsed": true
   },
   "source": [
    "--Thus in same way we can find the unique words for other presidents. assigning all thier text files under one file and then analyzing it"
   ]
  }
 ],
 "metadata": {
  "kernelspec": {
   "display_name": "Python [conda root]",
   "language": "python",
   "name": "conda-root-py"
  },
  "language_info": {
   "codemirror_mode": {
    "name": "ipython",
    "version": 3
   },
   "file_extension": ".py",
   "mimetype": "text/x-python",
   "name": "python",
   "nbconvert_exporter": "python",
   "pygments_lexer": "ipython3",
   "version": "3.5.2"
  }
 },
 "nbformat": 4,
 "nbformat_minor": 1
}
