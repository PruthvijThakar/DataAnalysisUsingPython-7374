{
 "cells": [
  {
   "cell_type": "markdown",
   "metadata": {},
   "source": [
    "# Question 2\n",
    "--Under package Gutenberg get content from file 'melville-moby_dick.txt.' (HINT: Words? Raw?)\n",
    "\n",
    "--Find out frequency of 26 characters. (Turn uppercase into lowercase and count as one character)\n",
    "\n",
    "--List all 26 characters in order base on their frequency. (From most frequent to least frequent)"
   ]
  },
  {
   "cell_type": "code",
   "execution_count": 2,
   "metadata": {
    "collapsed": true
   },
   "outputs": [],
   "source": [
    "import nltk"
   ]
  },
  {
   "cell_type": "code",
   "execution_count": 3,
   "metadata": {
    "collapsed": false
   },
   "outputs": [],
   "source": [
    "from nltk.corpus import gutenberg"
   ]
  },
  {
   "cell_type": "code",
   "execution_count": 4,
   "metadata": {
    "collapsed": true
   },
   "outputs": [],
   "source": [
    "#for importing string we need to run this command\n",
    "import string"
   ]
  },
  {
   "cell_type": "code",
   "execution_count": 6,
   "metadata": {
    "collapsed": false
   },
   "outputs": [
    {
     "name": "stdout",
     "output_type": "stream",
     "text": [
      "The frequency of words is\n",
      "117092 e\n",
      "87996 t\n",
      "77916 a\n",
      "69326 o\n",
      "65617 n\n",
      "65434 i\n",
      "64231 s\n",
      "62896 h\n",
      "52134 r\n",
      "42793 l\n",
      "38219 d\n",
      "26697 u\n",
      "23277 m\n",
      "22507 c\n",
      "22222 w\n",
      "20833 f\n",
      "20820 g\n",
      "17255 p\n",
      "16877 b\n",
      "16872 y\n",
      "8598 v\n",
      "8059 k\n",
      "1556 q\n",
      "1082 j\n",
      "1030 x\n",
      "632 z\n"
     ]
    }
   ],
   "source": [
    "melville = gutenberg.raw('melville-moby_dick.txt')\n",
    "melvillee = melville.lower()\n",
    "melvillee = melvillee.replace(' ','')\n",
    "exclude = set(string.punctuation)\n",
    "melvillee = ''.join(ch for ch in melvillee if ch not in exclude)\n",
    "\n",
    "occurance={}\n",
    "\n",
    "for letter in melvillee:\n",
    "    if letter not in occurance:\n",
    "        occurance[letter] = 1\n",
    "    else:\n",
    "        occurance[letter] = occurance[letter] + 1\n",
    "print (\"The frequency of words is\")\n",
    "max = 117092\n",
    "dict1={}\n",
    "for a,b in occurance.items():\n",
    "     if a.isalpha():\n",
    "            dict1[b] = a\n",
    "            \n",
    "for i in range (max,-1,-1):\n",
    "    try:\n",
    "        value = dict1[i]\n",
    "        print( str(i) +\" \" + str(value))\n",
    "    except:\n",
    "        continue       "
   ]
  },
  {
   "cell_type": "code",
   "execution_count": 144,
   "metadata": {
    "collapsed": false
   },
   "outputs": [
    {
     "data": {
      "text/plain": [
       "[('e', 117092),\n",
       " ('t', 87996),\n",
       " ('a', 77916),\n",
       " ('o', 69326),\n",
       " ('n', 65617),\n",
       " ('i', 65434),\n",
       " ('s', 64231),\n",
       " ('h', 62896),\n",
       " ('r', 52134),\n",
       " ('l', 42793)]"
      ]
     },
     "execution_count": 144,
     "metadata": {},
     "output_type": "execute_result"
    }
   ],
   "source": [
    "#show the top 10 most frequent letters and their frequency\n",
    "\n",
    "from collections import Counter\n",
    "import re\n",
    "Counter(occurance).most_common(10)"
   ]
  }
 ],
 "metadata": {
  "kernelspec": {
   "display_name": "Python [conda root]",
   "language": "python",
   "name": "conda-root-py"
  },
  "language_info": {
   "codemirror_mode": {
    "name": "ipython",
    "version": 3
   },
   "file_extension": ".py",
   "mimetype": "text/x-python",
   "name": "python",
   "nbconvert_exporter": "python",
   "pygments_lexer": "ipython3",
   "version": "3.5.2"
  }
 },
 "nbformat": 4,
 "nbformat_minor": 1
}
