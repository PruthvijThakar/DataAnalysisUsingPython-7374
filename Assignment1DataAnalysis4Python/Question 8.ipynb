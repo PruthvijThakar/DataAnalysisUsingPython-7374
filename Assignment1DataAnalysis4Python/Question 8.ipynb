{
 "cells": [
  {
   "cell_type": "markdown",
   "metadata": {},
   "source": [
    "# Question 8\n",
    "\n",
    "--Use nps_chat and wordlist corpus.\n",
    "\n",
    "--If you find a word in nps_chat but not in wordlist, it is considered an unusual word. (e.g. Heyyyy, gr8, 4ever can be considered unusual words for this analysis)\n",
    "\n",
    "--Find out how many unusual words people speak in chat (notice: usernames should not be counted)\n",
    "\n",
    "--Bonus: What if I want to  count : ) , : ( all these emoticons in. (optional)\n"
   ]
  },
  {
   "cell_type": "code",
   "execution_count": 9,
   "metadata": {
    "collapsed": false
   },
   "outputs": [],
   "source": [
    "from nltk.corpus import nps_chat, words"
   ]
  },
  {
   "cell_type": "code",
   "execution_count": 13,
   "metadata": {
    "collapsed": false
   },
   "outputs": [
    {
     "data": {
      "text/plain": [
       "['en', 'en-basic']"
      ]
     },
     "execution_count": 13,
     "metadata": {},
     "output_type": "execute_result"
    }
   ],
   "source": [
    "nps_chat.fileids()\n",
    "words.fileids()"
   ]
  },
  {
   "cell_type": "code",
   "execution_count": 11,
   "metadata": {
    "collapsed": false
   },
   "outputs": [],
   "source": [
    "occurance=dict()\n",
    "z=['10-19-20s_706posts.xml',\n",
    " '10-19-30s_705posts.xml',\n",
    " '10-19-40s_686posts.xml',\n",
    " '10-19-adults_706posts.xml',\n",
    " '10-24-40s_706posts.xml',\n",
    " '10-26-teens_706posts.xml',\n",
    " '11-06-adults_706posts.xml',\n",
    " '11-08-20s_705posts.xml',\n",
    " '11-08-40s_706posts.xml',\n",
    " '11-08-adults_705posts.xml',\n",
    " '11-08-teens_706posts.xml',\n",
    " '11-09-20s_706posts.xml',\n",
    " '11-09-40s_706posts.xml',\n",
    " '11-09-adults_706posts.xml',\n",
    " '11-09-teens_706posts.xml']\n",
    "\n",
    "for filename in z:\n",
    "    nps = nltk.corpus.nps_chat.words(filename)\n",
    "for word in nps:\n",
    "    if word not in occurance:\n",
    "        occurance[word] = 1\n",
    "    else:\n",
    "        occurance[word] = occurance[word] + 1  \n"
   ]
  },
  {
   "cell_type": "code",
   "execution_count": 15,
   "metadata": {
    "collapsed": false
   },
   "outputs": [
    {
     "name": "stdout",
     "output_type": "stream",
     "text": [
      "{'U820': 4, 'DO': 2, 'fkajslf': 1, 'hott': 1, 'Not': 1, 'nicks': 1, ',': 49, 'il': 1, '????': 2, 'But': 1, 'tastes': 1, '<33': 2, '100': 1, 'kicked': 1, 'H0rny': 1, 'Hey': 6, 'attempted': 1, '6': 4, \"'ll\": 5, 'P.': 1, 'An': 1, '??????': 2, 'U2': 1, 'rubs': 1, 'Amazingness': 1, 'Marlaya': 1, 'wanna': 19, 'U120': 3, 'GIRLS': 2, \"'s\": 11, 'Fingers': 1, 'HEY': 1, 'IS': 1, 'Temp.': 2, 'lawl': 2, 'U819': 4, 'pounds': 1, 'Chop': 1, 'Finding': 1, 'hgfhgfjgf': 1, 'w/': 1, 'chops': 2, '?!': 1, 'kidding': 1, 'talkiing': 1, 'Maps': 1, 'HolocaustYourMom': 1, '(.': 5, 'Tiff': 1, 'Lime': 5, 'names': 3, \"e'wjfghky\": 1, ':|': 2, 'U136': 1, 'MODE': 3, 'FACE': 1, '>.>': 1, 'eroticaust': 2, '...........': 1, 'tisk': 2, 'U104': 4, 'o_O': 2, ')': 7, 'How': 1, 'U3': 6, 'U172': 1, 'cramps': 1, '!?': 1, 'Someone': 1, 'walks': 1, '=D': 1, \"='s\": 1, 'baord': 1, ';-)': 1, 'HAVE': 2, 'wildcard': 1, '59%': 1, 'Of': 1, '!!!!!!!!!!!!!!!!!!!!!!!!!!!!!!!!!!!!!!!!!!!!!!!!!!!!!!': 1, \"'d\": 2, \"'n'\": 1, 'poeple': 1, 'plays': 1, 'lol': 12, 'listens': 1, 'GOING': 1, 'WHO': 1, 'lmao': 2, 'Indeed': 1, 'WA': 2, '16': 2, 'plz': 1, 'SEEN': 1, '!!!!!!!!': 2, 'Dude': 1, 'sexi': 1, 'any1': 1, '=/': 2, 'girls': 14, 'U142': 1, 'goths': 1, 'myspace': 3, '28147': 1, 'If': 2, 'aussies': 1, \"'.\": 1, 'latina': 1, 'Booyah': 1, 'Something': 1, '!': 14, 'kool': 1, 'uh': 1, 'Video': 1, 'U117': 4, 'It': 2, 'Lampert': 1, 'duh': 1, 'Were': 1, 'gals': 1, '65%': 1, 'insuklting': 1, 'U156': 4, ':P': 2, '@': 7, '224': 1, '?': 41, 'coughs': 1, 'ny': 1, 'Food': 1, 'lisa': 1, 'Because': 2, '..': 22, 'U98': 8, 'confusing': 1, 'TO': 2, 'telllin': 1, 'caps': 1, ':O': 1, 'U9': 1, 'pm': 32, 'feeds': 1, 'bored': 3, '>.>->': 1, '246': 1, '-stay-': 1, 'Oh': 1, '3333333': 1, '12%': 5, 'o.O': 1, 'Heys': 1, 'flippin': 1, 'boed': 1, 'proud': 1, 'ppl': 5, 'Player': 5, \"N'T\": 3, 'brb': 2, '185': 1, 'USA': 1, 'sighs': 1, 'Louisville': 1, 'tv': 3, '!!!!!!!': 1, '...': 7, 'U57': 4, 'AND': 3, 'bbbbbyyyyyyyeeeeeeeee': 1, '*': 1, 'U181': 1, 'Apocalypse': 1, 'Okay': 2, 'msg': 1, 'Does': 1, 'removes': 1, 'U153': 3, 'And': 3, 'Hi': 3, 'fl': 5, \"'re\": 3, 'currious': 1, 'feet': 1, '8': 1, 'Web': 1, 'Supreme': 1, 'tacoma': 2, 'NOT': 1, 'pokkies': 1, 'Mooooooooooooooooooooooooooo': 1, 'les': 2, 'Kittie': 4, 'YOU': 2, 'kinda': 1, \"n't\": 7, 'RUN': 1, '......': 1, '19': 8, 'xD': 2, 'Last': 2, 'COME': 1, 'nm': 1, '.)': 5, '>': 1, 'U197': 6, 'bois': 1, 'asked': 1, 'psh': 1, '3': 1, 'U148': 1, 'o.o': 4, '=': 3, '11': 1, 'wants': 4, '33982': 1, 'Meh': 1, '6:41': 1, 'EVEN': 1, 'AI': 1, 'guys': 11, 'finds': 1, 'ok': 2, 'In': 1, 'Images': 1, 'asl': 3, 'humple': 1, 'loves': 1, \"'\": 3, 'Yeh': 1, 'U25': 2, 'S3x0r': 1, 'drags': 1, 'temples': 1, 'qwertyuiop': 1, '15': 1, 'pms': 1, 'U35': 2, 'Nevermind': 1, 'SEE': 1, 'Who': 2, 'U168': 1, 'checking': 1, 'Crazy': 1, '280': 1, 'ussy': 1, 'ACTION': 23, 'Cookies': 1, 'wazz': 3, 'P.ussy': 1, 'heya': 1, 'peeps': 1, 'wheeeeeeeeeeeeeeeeeeeeeeeeeeeeeeeeee': 1, 'KNOW': 1, 'BAAAAALLLLLLLLIIIIIIINNNNNNNNNNN': 1, '1': 4, '+': 3, 'Hahhaa': 1, 'MOUTH': 1, 'Actually': 1, 'U149': 1, '/': 27, 'england': 2, 'mspace': 1, 'Cream': 1, '.': 159, 'computor': 1, '<33333': 1, 'toes': 3, 'msn': 1, '=p': 1, ':D': 1, 'LoL': 2, 'slaps': 3, 'U33': 2, 'gonna': 1, 'ME': 2, 'MAN': 1, '=(': 2, 'goodbye': 1, ':/': 1, 'wanted': 2, 'Post-haste': 1, 'ONE': 1, '9': 5, 'U34': 15, 'Birdgang': 1, 'DAMN': 1, 'sincy': 1, 'THE': 1, 'U72': 1, '.........': 1, 'OK': 1, 'dj': 1, 'argh': 1, 'OF': 2, 'SHOWS': 1, 'TYPR': 1, 'Yes': 2, 'luv': 1, 'scared': 1, ':(': 1, 'Froogle': 1, 'dsklgjsdk': 2, 'Reading': 1, 'YES': 1, 'They': 1, 'yall': 2, 'ENOUGH': 1, 'minutes': 3, 'MSN': 1, 'irl': 1, '(': 3, 'YOUR': 2, 'Groups': 1, 'knows': 1, '!!!!': 1, '\"': 12, 'U150': 1, 'hands': 2, 'Whats': 1, 'lets': 1, 'YALL': 1, 'SO': 1, 'NICK': 1, 'has': 1, 'IF': 1, '#14-19teens': 3, 'having': 1, '17': 3, 'SAY': 2, 'brwn': 1, 'Song': 5, 'Watching': 1, '12': 1, 'im': 9, '6:53': 1, 'NO': 1, 'Sup': 1, 'Now': 2, 'Hahaaaa': 1, 'Lol': 2, 'Do': 2, 'When': 2, 'uk': 4, 'ballin': 1, '>_>': 1, 'happened': 1, 'Heyyy': 1, 'waddles': 1, 'What': 3, ':]': 1, '18': 22, 'chatt': 1, 'fries': 1, 'SOMETHING': 1, 'asking': 1, 'usa': 1, 'FreesBee': 1, 'florida': 1, '!!!!!!!!!': 1, 'omg': 3, 'Yarrrr': 1, 'hav': 1, '<3333': 2, \"<3's\": 1, 'Uh': 1, 'Its': 3, 'gurls': 1, 'Good': 1, 'THAT': 2, 'News': 1, 'BOOTY': 3, ':)': 1, 'wz': 2, 'peoples': 1, 'finers': 1, 'Dipset': 1, '!!': 1, 'BIG': 1, 'wana': 2, 'IT': 2, 'Her': 1, 'd=': 1, 'RULES': 1, '<3': 4, 'hhehe': 1, '-': 1, 'MY': 3, 'Course': 1, 'tenn': 1, 'hours': 1, 'Yeah': 1, 'WOMAN': 1, 'CUZ': 1, 'Rutger': 2, 'Books': 1, 'tryin': 16, 'looks': 2, 'throws': 1, 'adreniline': 1, 'FL': 2, 'U60': 1, 'U164': 1, 'Define': 2, '7:45': 1, '???': 1, 'women': 1, 'Bloooooooood': 1, '!=': 1, 'AROUND': 1, 'Gorda': 1, 'Thats': 1, '!!!!!': 1, 'google': 1, 'U190': 2, '45': 1, 'shit': 1, 'DJ': 1, 'yoll': 1, 'bied': 1, '<empty>': 5, 'Salisbury': 1, 'Very': 1, 'U144': 1, 'Lmao': 2, 'JUST': 1, 'JOIN': 139, 'NONE': 2, 'atl': 1, 'fingers': 3, 'cusion': 1, 'pwns': 1, 'tx': 2, 'Punta': 1, \"'m\": 9, 'PART': 128, 'results': 1, 'sits': 1, 'lil': 1, 'GUYS': 1, 'burryed': 1, 'Bloooooooooooood': 1, '=]': 1, 'Bloooooooooood': 1, 'Tisk': 2, 'things': 1, 'North': 1, 'woah': 1, 'TELLIN': 1, 'PM': 4, '423': 5, 'You': 5, 'vs.': 1, 'About': 1, 'n e': 3, ':': 6, 'WILL': 1, '2': 3, '\\\\': 1, 'EST': 2, 'Hello': 2, 'aim.com': 1, 'reschedual': 1, 'yum': 1, 'Uhhh': 1, 'impressed': 1, 'latins': 1, '247': 1, '99': 1, 'ovr': 1, 'Horace': 2, 'U114': 4, 'nothin': 1, '--': 2, 'fraggle': 1, 'ahh': 1, 'U121': 1, 'o<|=D': 1, 'OR': 1, 'pics': 3, '<333333333': 2, 'U122': 8, 'whos': 1}\n"
     ]
    }
   ],
   "source": [
    "v = ['en', 'en-basic']\n",
    "\n",
    "for filename in v:\n",
    "    a = nltk.corpus.words.words(filename)\n",
    "    for word in a:\n",
    "        if word in occurance:\n",
    "            del occurance[word]\n",
    "            \n",
    "print(occurance)"
   ]
  }
 ],
 "metadata": {
  "anaconda-cloud": {},
  "kernelspec": {
   "display_name": "Python [conda root]",
   "language": "python",
   "name": "conda-root-py"
  },
  "language_info": {
   "codemirror_mode": {
    "name": "ipython",
    "version": 3
   },
   "file_extension": ".py",
   "mimetype": "text/x-python",
   "name": "python",
   "nbconvert_exporter": "python",
   "pygments_lexer": "ipython3",
   "version": "3.5.2"
  }
 },
 "nbformat": 4,
 "nbformat_minor": 1
}
