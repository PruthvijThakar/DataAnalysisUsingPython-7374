{
 "cells": [
  {
   "cell_type": "markdown",
   "metadata": {},
   "source": [
    "# Question 4\n",
    "--Under package nps_chat, see what files are in it.\n",
    "\n",
    "--Find 'user121' and see how many posts he posted in all.\n",
    "\n",
    "--Find out how many unique user in each age range group. (20s, 30s,...)(Hint: files' name)"
   ]
  },
  {
   "cell_type": "code",
   "execution_count": 2,
   "metadata": {
    "collapsed": true
   },
   "outputs": [],
   "source": [
    "import nltk"
   ]
  },
  {
   "cell_type": "code",
   "execution_count": 94,
   "metadata": {
    "collapsed": false
   },
   "outputs": [
    {
     "data": {
      "text/plain": [
       "['10-19-20s_706posts.xml',\n",
       " '10-19-30s_705posts.xml',\n",
       " '10-19-40s_686posts.xml',\n",
       " '10-19-adults_706posts.xml',\n",
       " '10-24-40s_706posts.xml',\n",
       " '10-26-teens_706posts.xml',\n",
       " '11-06-adults_706posts.xml',\n",
       " '11-08-20s_705posts.xml',\n",
       " '11-08-40s_706posts.xml',\n",
       " '11-08-adults_705posts.xml',\n",
       " '11-08-teens_706posts.xml',\n",
       " '11-09-20s_706posts.xml',\n",
       " '11-09-40s_706posts.xml',\n",
       " '11-09-adults_706posts.xml',\n",
       " '11-09-teens_706posts.xml']"
      ]
     },
     "execution_count": 94,
     "metadata": {},
     "output_type": "execute_result"
    }
   ],
   "source": [
    "from nltk.corpus import nps_chat as nps\n",
    "nps.fileids()"
   ]
  },
  {
   "cell_type": "code",
   "execution_count": 80,
   "metadata": {
    "collapsed": false
   },
   "outputs": [
    {
     "data": {
      "text/plain": [
       "10567"
      ]
     },
     "execution_count": 80,
     "metadata": {},
     "output_type": "execute_result"
    }
   ],
   "source": [
    "len(a)"
   ]
  },
  {
   "cell_type": "code",
   "execution_count": 3,
   "metadata": {
    "collapsed": false
   },
   "outputs": [
    {
     "name": "stdout",
     "output_type": "stream",
     "text": [
      "36\n"
     ]
    }
   ],
   "source": [
    "count = 0\n",
    "data = nltk.corpus.nps_chat.tagged_words()\n",
    "for i in data:\n",
    "    if(i[0]==\"U121\"):\n",
    "        count = count +1\n",
    "print(count)"
   ]
  },
  {
   "cell_type": "code",
   "execution_count": 9,
   "metadata": {
    "collapsed": false
   },
   "outputs": [
    {
     "name": "stdout",
     "output_type": "stream",
     "text": [
      "The user in agegroup 20's are: 785\n"
     ]
    }
   ],
   "source": [
    "files = ['10-19-20s_706posts.xml','11-08-20s_705posts.xml','11-09-20s_706posts.xml' ]\n",
    "count = 0\n",
    "data = nltk.corpus.nps_chat.tagged_words(files)\n",
    "for i in data:\n",
    "    if(i[1]==\"NNP\"):\n",
    "        count = count +1\n",
    "print(\"The user in age group 20's are: \" + str(count))"
   ]
  },
  {
   "cell_type": "code",
   "execution_count": 11,
   "metadata": {
    "collapsed": false
   },
   "outputs": [
    {
     "name": "stdout",
     "output_type": "stream",
     "text": [
      "The user in agegroup 30's are: 281\n"
     ]
    }
   ],
   "source": [
    "files = ['10-19-30s_705posts.xml' ]\n",
    "count = 0\n",
    "data = nltk.corpus.nps_chat.tagged_words(files)\n",
    "for i in data:\n",
    "    if(i[1]==\"NNP\"):\n",
    "        count = count +1\n",
    "print(\"The user in age group 30's are: \" + str(count))"
   ]
  },
  {
   "cell_type": "code",
   "execution_count": 13,
   "metadata": {
    "collapsed": false
   },
   "outputs": [
    {
     "name": "stdout",
     "output_type": "stream",
     "text": [
      "The user in age group 40's are: 1817\n"
     ]
    }
   ],
   "source": [
    "files = [ '10-19-40s_686posts.xml','10-24-40s_706posts.xml','11-08-40s_706posts.xml','11-09-40s_706posts.xml' ]\n",
    "count = 0\n",
    "data = nltk.corpus.nps_chat.tagged_words(files)\n",
    "for i in data:\n",
    "    if(i[1]==\"NNP\"):\n",
    "        count = count +1\n",
    "print(\"The user in age group 40's are: \" + str(count))"
   ]
  },
  {
   "cell_type": "code",
   "execution_count": 16,
   "metadata": {
    "collapsed": false
   },
   "outputs": [
    {
     "name": "stdout",
     "output_type": "stream",
     "text": [
      "The user in age group adults are: 1120\n"
     ]
    }
   ],
   "source": [
    "files = [ '10-19-adults_706posts.xml','11-06-adults_706posts.xml',  '11-08-adults_705posts.xml','11-09-adults_706posts.xml']\n",
    "count = 0\n",
    "data = nltk.corpus.nps_chat.tagged_words(files)\n",
    "for i in data:\n",
    "    if(i[1]==\"NNP\"):\n",
    "        count = count +1\n",
    "print(\"The user in age group adults are: \" + str(count))"
   ]
  },
  {
   "cell_type": "code",
   "execution_count": 15,
   "metadata": {
    "collapsed": false
   },
   "outputs": [
    {
     "name": "stdout",
     "output_type": "stream",
     "text": [
      "The user in age group teens are: 603\n"
     ]
    }
   ],
   "source": [
    "files = [ '10-26-teens_706posts.xml','11-08-teens_706posts.xml', '11-09-teens_706posts.xml']\n",
    "count = 0\n",
    "data = nltk.corpus.nps_chat.tagged_words(files)\n",
    "for i in data:\n",
    "    if(i[1]==\"NNP\"):\n",
    "        count = count +1\n",
    "print(\"The user in age group teens are: \" + str(count))"
   ]
  }
 ],
 "metadata": {
  "kernelspec": {
   "display_name": "Python [conda root]",
   "language": "python",
   "name": "conda-root-py"
  },
  "language_info": {
   "codemirror_mode": {
    "name": "ipython",
    "version": 3
   },
   "file_extension": ".py",
   "mimetype": "text/x-python",
   "name": "python",
   "nbconvert_exporter": "python",
   "pygments_lexer": "ipython3",
   "version": "3.5.2"
  }
 },
 "nbformat": 4,
 "nbformat_minor": 1
}
