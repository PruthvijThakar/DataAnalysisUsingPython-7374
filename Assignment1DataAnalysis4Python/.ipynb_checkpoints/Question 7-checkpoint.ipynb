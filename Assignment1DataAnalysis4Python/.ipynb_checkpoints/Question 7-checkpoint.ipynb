{
 "cells": [
  {
   "cell_type": "markdown",
   "metadata": {},
   "source": [
    "# Question 7\n",
    "--Use Name corpus, calculate the probability of a name being of a male or female base on the last character(s) of name.\n",
    "\n",
    "--Sample steps:\n",
    "For char ‘a’:\n",
    "\n",
    "\ttotal_names = sum(names ending with ‘a’)\n",
    "\n",
    "    male_names = sum(male names ending with ‘a’)\n",
    "\t\n",
    "    female_names = sum(female names ending with ‘a’)\n",
    "\t\n",
    "    Probability of name being male = 100 * male_names / total_names\n",
    "\n",
    "2. Do this for all characters. \n",
    "\n",
    "--Output must come with proper title (e.g. [a] male: 25%, female: 60%)\n"
   ]
  },
  {
   "cell_type": "code",
   "execution_count": null,
   "metadata": {
    "collapsed": true
   },
   "outputs": [],
   "source": []
  }
 ],
 "metadata": {
  "kernelspec": {
   "display_name": "Python [conda root]",
   "language": "python",
   "name": "conda-root-py"
  },
  "language_info": {
   "codemirror_mode": {
    "name": "ipython",
    "version": 3
   },
   "file_extension": ".py",
   "mimetype": "text/x-python",
   "name": "python",
   "nbconvert_exporter": "python",
   "pygments_lexer": "ipython3",
   "version": "3.5.2"
  }
 },
 "nbformat": 4,
 "nbformat_minor": 1
}
