{
 "cells": [
  {
   "cell_type": "markdown",
   "metadata": {},
   "source": [
    "# Question 1\n",
    "--Under package Gutenberg, see what files are in it.\n",
    "\n",
    "--Find out how many words and how many unique words in file 'austen-persuasion.txt'.\n",
    "\n",
    "--Calculate the frequency for each words and show the top 10 most frequent words and their frequency.\u000b",
    "Try NOT to use FreqDist module.\n",
    "\n",
    "--Keep the punctuation and stop words in this question.\n"
   ]
  },
  {
   "cell_type": "code",
   "execution_count": 3,
   "metadata": {
    "collapsed": true
   },
   "outputs": [],
   "source": [
    "import nltk"
   ]
  },
  {
   "cell_type": "code",
   "execution_count": 5,
   "metadata": {
    "collapsed": false
   },
   "outputs": [
    {
     "data": {
      "text/plain": [
       "['austen-emma.txt',\n",
       " 'austen-persuasion.txt',\n",
       " 'austen-sense.txt',\n",
       " 'bible-kjv.txt',\n",
       " 'blake-poems.txt',\n",
       " 'bryant-stories.txt',\n",
       " 'burgess-busterbrown.txt',\n",
       " 'carroll-alice.txt',\n",
       " 'chesterton-ball.txt',\n",
       " 'chesterton-brown.txt',\n",
       " 'chesterton-thursday.txt',\n",
       " 'edgeworth-parents.txt',\n",
       " 'melville-moby_dick.txt',\n",
       " 'milton-paradise.txt',\n",
       " 'shakespeare-caesar.txt',\n",
       " 'shakespeare-hamlet.txt',\n",
       " 'shakespeare-macbeth.txt',\n",
       " 'whitman-leaves.txt']"
      ]
     },
     "execution_count": 5,
     "metadata": {},
     "output_type": "execute_result"
    }
   ],
   "source": [
    "from nltk.corpus import gutenberg\n",
    "gutenberg.fileids()"
   ]
  },
  {
   "cell_type": "code",
   "execution_count": 9,
   "metadata": {
    "collapsed": false
   },
   "outputs": [
    {
     "data": {
      "text/plain": [
       "98171"
      ]
     },
     "execution_count": 9,
     "metadata": {},
     "output_type": "execute_result"
    }
   ],
   "source": [
    "#number of words in 'austen-persuasion.txt'\n",
    "persuasion = nltk.corpus.gutenberg.words('austen-persuasion.txt')\n",
    "len(persuasion) "
   ]
  },
  {
   "cell_type": "code",
   "execution_count": 11,
   "metadata": {
    "collapsed": false
   },
   "outputs": [
    {
     "data": {
      "text/plain": [
       "6132"
      ]
     },
     "execution_count": 11,
     "metadata": {},
     "output_type": "execute_result"
    }
   ],
   "source": [
    "#number of unique words in 'austen-persuasion.txt'\n",
    "len(set(persuasion))"
   ]
  },
  {
   "cell_type": "code",
   "execution_count": 47,
   "metadata": {
    "collapsed": false
   },
   "outputs": [
    {
     "name": "stdout",
     "output_type": "stream",
     "text": [
      "The frequency of words is\n",
      "6750 ,\n",
      "3120 the\n",
      "2775 to\n",
      "2741 .\n",
      "2739 and\n",
      "2564 of\n",
      "1529 a\n",
      "1346 in\n",
      "1330 was\n",
      "1290 ;\n",
      "1177 had\n",
      "1159 her\n",
      "1124 I\n",
      "949 be\n",
      "926 not\n",
      "857 it\n",
      "853 that\n",
      "819 she\n",
      "793 \"\n",
      "787 as\n",
      "736 he\n",
      "695 for\n",
      "643 with\n",
      "625 his\n",
      "583 have\n",
      "553 but\n",
      "548 you\n",
      "525 '\n",
      "519 at\n",
      "517 all\n",
      "497 Anne\n",
      "496 been\n",
      "485 s\n",
      "467 him\n",
      "444 could\n",
      "426 were\n",
      "425 very\n",
      "415 which\n",
      "411 by\n",
      "393 is\n",
      "386 on\n",
      "369 .\"\n",
      "351 would\n",
      "338 so\n",
      "327 She\n",
      "323 they\n",
      "309 no\n",
      "308 -\n",
      "297 Captain\n",
      "291 Mrs\n",
      "290 from\n",
      "288 Elliot\n",
      "274 or\n",
      "273 their\n",
      "270 them\n",
      "269 more\n",
      "256 Mr\n",
      "253 !\n",
      "243 than\n",
      "238 an\n",
      "228 must\n",
      "225 He\n",
      "221 one\n",
      "220 being\n",
      "218 Wentworth\n",
      "216 there\n",
      "214 only\n",
      "213 ,\"\n",
      "209 The\n",
      "205 much\n",
      "200 this\n",
      "198 any\n",
      "196 when\n",
      "194 my\n",
      "191 Lady\n",
      "190 do\n",
      "188 me\n",
      "186 who\n",
      "185 should\n",
      "181 It\n",
      "175 little\n",
      "173 said\n",
      "172 what\n",
      "166 Charles\n",
      "163 own\n",
      "162 if\n",
      "158 herself\n",
      "157 did\n",
      "153 never\n",
      "151 time\n",
      "149 think\n",
      "148 Russell\n",
      "144 Sir\n",
      "142 other\n",
      "141 well\n",
      "138 Mary\n",
      "137 am\n",
      "135 some\n",
      "133 man\n",
      "131 nothing\n",
      "130 Musgrove\n",
      "127 too\n",
      "124 :\n",
      "123 see\n",
      "122 ?\n",
      "121 soon\n",
      "117 father\n",
      "116 great\n",
      "113 before\n",
      "112 first\n",
      "111 Louisa\n",
      "110 They\n",
      "109 always\n",
      "107 though\n",
      "106 without\n",
      "104 --\n",
      "100 can\n",
      "99 Bath\n",
      "98 into\n",
      "96 made\n",
      "95 out\n",
      "93 seemed\n",
      "90 up\n",
      "89 Elizabeth\n",
      "88 how\n",
      "87 make\n",
      "84 same\n",
      "83 found\n",
      "82 sister\n",
      "80 You\n",
      "79 family\n",
      "78 away\n",
      "77 day\n",
      "75 Harville\n",
      "74 done\n",
      "73 sure\n",
      "72 still\n",
      "71 moment\n",
      "70 Benwick\n",
      "69 (\n",
      "68 Smith\n",
      "67 Lyme\n",
      "66 A\n",
      "65 just\n",
      "64 upon\n",
      "63 happy\n",
      "62 our\n",
      "61 something\n",
      "60 rather\n",
      "58 years\n",
      "55 shall\n",
      "54 look\n",
      "53 Oh\n",
      "52 once\n",
      "51 gone\n",
      "50 place\n",
      "49 dear\n",
      "48 us\n",
      "47 side\n",
      "46 where\n",
      "45 near\n",
      "44 under\n",
      "43 interest\n",
      "42 looked\n",
      "41 spirits\n",
      "40 passed\n",
      "39 does\n",
      "38 agreeable\n",
      "37 feeling\n",
      "36 world\n",
      "35 head\n",
      "34 His\n",
      "33 glad\n",
      "32 set\n",
      "31 men\n",
      "30 able\n",
      "29 My\n",
      "28 Dalrymple\n",
      "27 else\n",
      "26 week\n",
      "25 forward\n",
      "24 Crofts\n",
      "23 making\n",
      "22 ready\n",
      "21 bear\n",
      "20 understanding\n",
      "19 wonder\n",
      "18 Harvilles\n",
      "17 months\n",
      "16 meaning\n",
      "15 remain\n",
      "14 introduced\n",
      "13 opportunity\n",
      "12 navy\n",
      "11 putting\n",
      "10 joined\n",
      "9 follow\n",
      "8 story\n",
      "7 sought\n",
      "6 recover\n",
      "5 constancy\n",
      "4 prospect\n",
      "3 paying\n",
      "2 composedly\n",
      "1 sounding\n"
     ]
    }
   ],
   "source": [
    "#Calculate the frequency for each words\n",
    "gutenberg = nltk.corpus.gutenberg.words('austen-persuasion.txt')\n",
    "occurance={}\n",
    "\n",
    "for word in gutenberg:\n",
    "    if word not in occurance:\n",
    "        occurance[word] = 1\n",
    "    else:\n",
    "        occurance[word] = occurance[word] + 1\n",
    "print (\"The frequency of words is\")\n",
    "max = 6750\n",
    "dict1={}\n",
    "for a,b in occurance.items():\n",
    "     dict1[b] = a\n",
    "\n",
    "for i in range (max,-1,-1):\n",
    "    try:\n",
    "        value = dict1[i]\n",
    "        print( str(i) +\" \" + str(value))\n",
    "    except:\n",
    "        continue  "
   ]
  },
  {
   "cell_type": "code",
   "execution_count": 34,
   "metadata": {
    "collapsed": false
   },
   "outputs": [
    {
     "data": {
      "text/plain": [
       "[(',', 6750),\n",
       " ('the', 3120),\n",
       " ('to', 2775),\n",
       " ('.', 2741),\n",
       " ('and', 2739),\n",
       " ('of', 2564),\n",
       " ('a', 1529),\n",
       " ('in', 1346),\n",
       " ('was', 1330),\n",
       " (';', 1290)]"
      ]
     },
     "execution_count": 34,
     "metadata": {},
     "output_type": "execute_result"
    }
   ],
   "source": [
    "#show the top 10 most frequent words and their frequency\n",
    "\n",
    "from collections import Counter\n",
    "import re\n",
    "Counter(occurance).most_common(10)"
   ]
  }
 ],
 "metadata": {
  "anaconda-cloud": {},
  "kernelspec": {
   "display_name": "Python [conda root]",
   "language": "python",
   "name": "conda-root-py"
  },
  "language_info": {
   "codemirror_mode": {
    "name": "ipython",
    "version": 3
   },
   "file_extension": ".py",
   "mimetype": "text/x-python",
   "name": "python",
   "nbconvert_exporter": "python",
   "pygments_lexer": "ipython3",
   "version": "3.5.2"
  }
 },
 "nbformat": 4,
 "nbformat_minor": 1
}
