{
 "cells": [
  {
   "cell_type": "markdown",
   "metadata": {},
   "source": [
    "# Question 5\n",
    "--Use Gutenberg and Web_text data. Find out what are the top 5 words that Shakespeare used but we do not use in currently.\n",
    "\n",
    "--Take top 50 words from Shakespeare (all 3 books) and top 50 from Web_text (all the records).\n",
    "\n",
    "--Remove punctuation and stop words.\n",
    "\n",
    "--Remove the words we still use today, and get the unused list. Show the top 5 elements. \n"
   ]
  },
  {
   "cell_type": "code",
   "execution_count": 2,
   "metadata": {
    "collapsed": true
   },
   "outputs": [],
   "source": [
    "import nltk"
   ]
  },
  {
   "cell_type": "code",
   "execution_count": 3,
   "metadata": {
    "collapsed": false
   },
   "outputs": [],
   "source": [
    "from nltk.corpus import gutenberg, webtext"
   ]
  },
  {
   "cell_type": "code",
   "execution_count": 14,
   "metadata": {
    "collapsed": false
   },
   "outputs": [
    {
     "data": {
      "text/plain": [
       "['austen-emma.txt',\n",
       " 'austen-persuasion.txt',\n",
       " 'austen-sense.txt',\n",
       " 'bible-kjv.txt',\n",
       " 'blake-poems.txt',\n",
       " 'bryant-stories.txt',\n",
       " 'burgess-busterbrown.txt',\n",
       " 'carroll-alice.txt',\n",
       " 'chesterton-ball.txt',\n",
       " 'chesterton-brown.txt',\n",
       " 'chesterton-thursday.txt',\n",
       " 'edgeworth-parents.txt',\n",
       " 'melville-moby_dick.txt',\n",
       " 'milton-paradise.txt',\n",
       " 'shakespeare-caesar.txt',\n",
       " 'shakespeare-hamlet.txt',\n",
       " 'shakespeare-macbeth.txt',\n",
       " 'whitman-leaves.txt']"
      ]
     },
     "execution_count": 14,
     "metadata": {},
     "output_type": "execute_result"
    }
   ],
   "source": [
    "gutenberg.fileids()"
   ]
  },
  {
   "cell_type": "code",
   "execution_count": 17,
   "metadata": {
    "collapsed": false
   },
   "outputs": [
    {
     "data": {
      "text/plain": [
       "['firefox.txt',\n",
       " 'grail.txt',\n",
       " 'overheard.txt',\n",
       " 'pirates.txt',\n",
       " 'singles.txt',\n",
       " 'wine.txt']"
      ]
     },
     "execution_count": 17,
     "metadata": {},
     "output_type": "execute_result"
    }
   ],
   "source": [
    "webtext.fileids()"
   ]
  },
  {
   "cell_type": "code",
   "execution_count": 42,
   "metadata": {
    "collapsed": false
   },
   "outputs": [
    {
     "name": "stdout",
     "output_type": "stream",
     "text": [
      "The top 50 words which are used in webtext corpus are: \n",
      "[('.', 2772), (',', 1536), ('-', 832), ('a', 821), ('and', 787), ('the', 706), ('***', 498), ('of', 482), ('but', 474), ('I', 392), ('it', 318), ('to', 309), ('fruit', 296), ('with', 260), ('good', 250), (\"'\", 239), ('A', 230), ('wine', 229), ('this', 227), ('bit', 217), ('in', 215), ('Very', 211), ('quite', 204), ('Top', 182), ('is', 178), ('****', 177), ('very', 169), ('**', 162), ('that', 152), ('nose', 151), ('touch', 146), ('for', 145), ('on', 142), ('Bare', 133), ('more', 124), ('not', 124), ('at', 121), ('(', 121), ('palate', 121), ('dry', 121), ('Good', 113), ('be', 112), ('***(*)', 101), ('Not', 100), ('nice', 99), ('Quite', 99), ('than', 93), ('rather', 90), ('t', 87), ('fine', 86)]\n"
     ]
    }
   ],
   "source": [
    "import operator \n",
    "filenames = ['firefox.txt',\n",
    " 'grail.txt',\n",
    " 'overheard.txt',\n",
    " 'pirates.txt',\n",
    " 'singles.txt',\n",
    " 'wine.txt'\n",
    "]\n",
    "\n",
    "occurance=dict()\n",
    "\n",
    "for filename in filenames:\n",
    "    web = nltk.corpus.webtext.words(filename)\n",
    "for word in web:\n",
    "    if word not in occurance:\n",
    "        occurance[word] = 1\n",
    "    else:\n",
    "        occurance[word] = occurance[word] + 1  \n",
    "        \n",
    "print('The top 50 words which are used in webtext corpus are: ')\n",
    "\n",
    "sorted_y = sorted(occurance.items(), key=operator.itemgetter(1))\n",
    "sorted_y.reverse()\n",
    "print((sorted_y)[:50]) "
   ]
  },
  {
   "cell_type": "code",
   "execution_count": 50,
   "metadata": {
    "collapsed": false
   },
   "outputs": [],
   "source": [
    "import operator \n",
    "filenames = [\n",
    "    \"shakespeare-caesar.txt\",\n",
    "    \"shakespeare-hamlet.txt\",\n",
    "    \"shakespeare-macbeth.txt\"\n",
    "]\n",
    "\n",
    "occurance=dict()\n",
    "\n",
    "for filename in filenames:\n",
    "    gutenberg = nltk.corpus.gutenberg.words(filename)\n",
    "for word in gutenberg:\n",
    "    if word not in occurance:\n",
    "        occurance[word] = 1\n",
    "    else:\n",
    "        occurance[word] = occurance[word] + 1  \n",
    "\n",
    "\n",
    "   \n",
    "#print('The top 50 words which shakespeare used in his books are: ')\n",
    "\n",
    "#sorted_y = sorted(occurance.items(), key=operator.itemgetter(1))\n",
    "#sorted_y.reverse()\n",
    "#print((sorted_y)[:50])       \n"
   ]
  },
  {
   "cell_type": "code",
   "execution_count": 51,
   "metadata": {
    "collapsed": false
   },
   "outputs": [
    {
     "name": "stdout",
     "output_type": "stream",
     "text": [
      "the top 5 words which shakespeare used and we dont today are: \n",
      "[('Macb', 137), ('haue', 117), ('Macbeth', 61), ('Macd', 58), ('vpon', 51)]\n",
      "----------------------------------------------------------------------------------------------------\n"
     ]
    },
    {
     "data": {
      "text/plain": [
       "[('Macb', 137), ('haue', 117), ('Macbeth', 61), ('Macd', 58), ('vpon', 51)]"
      ]
     },
     "execution_count": 51,
     "metadata": {},
     "output_type": "execute_result"
    }
   ],
   "source": [
    "filenames = ['firefox.txt',\n",
    " 'grail.txt',\n",
    " 'overheard.txt',\n",
    " 'pirates.txt',\n",
    " 'singles.txt',\n",
    " 'wine.txt'\n",
    "]\n",
    "\n",
    "for filename in filenames:\n",
    "    webtext = nltk.corpus.webtext.words(filename)\n",
    "    for word in webtext:\n",
    "        if word in occurance:\n",
    "            del occurance[word]\n",
    "\n",
    "sorted_x = sorted(occurance.items(), key=operator.itemgetter(1))\n",
    "sorted_x.reverse()\n",
    "print('the top 5 words which shakespeare used and we dont today are: ')\n",
    "print((sorted_x)[:5])\n",
    "print('--------------------'* 5)\n",
    "\n",
    "# (sorted_x) is the list with words used by shakespere that we dont use today.\n",
    "\n",
    "#Use Gutenberg and Web_text data. Find out what are the top 5 words that Shakespeare used but we do not use in currently.\n",
    "from collections import Counter\n",
    "import re\n",
    "Counter(occurance).most_common(5)"
   ]
  }
 ],
 "metadata": {
  "kernelspec": {
   "display_name": "Python [conda root]",
   "language": "python",
   "name": "conda-root-py"
  },
  "language_info": {
   "codemirror_mode": {
    "name": "ipython",
    "version": 3
   },
   "file_extension": ".py",
   "mimetype": "text/x-python",
   "name": "python",
   "nbconvert_exporter": "python",
   "pygments_lexer": "ipython3",
   "version": "3.5.2"
  }
 },
 "nbformat": 4,
 "nbformat_minor": 1
}
