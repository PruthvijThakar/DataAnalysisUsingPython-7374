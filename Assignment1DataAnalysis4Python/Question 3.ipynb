{
 "cells": [
  {
   "cell_type": "markdown",
   "metadata": {},
   "source": [
    "# Question 3\n",
    "--Under package Webtext, see what files are in it.\n",
    "\n",
    "--Get content in file 'pirates.txt'.\n",
    "\n",
    "--According to the number of lines for Jack Sparrow and Will Turner, find out who is the real leading man in this movie.\n"
   ]
  },
  {
   "cell_type": "code",
   "execution_count": 2,
   "metadata": {
    "collapsed": true
   },
   "outputs": [],
   "source": [
    "import nltk"
   ]
  },
  {
   "cell_type": "code",
   "execution_count": 3,
   "metadata": {
    "collapsed": false
   },
   "outputs": [],
   "source": [
    "from nltk.corpus import webtext"
   ]
  },
  {
   "cell_type": "code",
   "execution_count": 4,
   "metadata": {
    "collapsed": false
   },
   "outputs": [
    {
     "data": {
      "text/plain": [
       "['firefox.txt',\n",
       " 'grail.txt',\n",
       " 'overheard.txt',\n",
       " 'pirates.txt',\n",
       " 'singles.txt',\n",
       " 'wine.txt']"
      ]
     },
     "execution_count": 4,
     "metadata": {},
     "output_type": "execute_result"
    }
   ],
   "source": [
    "webtext.fileids()"
   ]
  },
  {
   "cell_type": "code",
   "execution_count": 34,
   "metadata": {
    "collapsed": false
   },
   "outputs": [
    {
     "name": "stdout",
     "output_type": "stream",
     "text": [
      "The leading man of the movie is jack sparrow with 193 lines\n"
     ]
    }
   ],
   "source": [
    "text = webtext.raw('pirates.txt')\n",
    "text = str(text)\n",
    "wt = 0\n",
    "js = 0\n",
    "conversations = text.split('\\n')\n",
    "#print(text.split('\\n'))\n",
    "for line in conversations:\n",
    "    arr = line.split(\":\")\n",
    "    if(arr[0] == \"WILL TURNER\"):\n",
    "        wt = wt+1\n",
    "    if(arr[0] ==\"JACK SPARROW\"):\n",
    "        js = js+1\n",
    "if (js>wt):\n",
    "    print('The leading man of the movie is jack sparrow with ' + str(js) + ' lines')\n",
    "if (js<wt):\n",
    "    print('The leading man of the movie is will turner with ' + str(wt) +' lines')  "
   ]
  }
 ],
 "metadata": {
  "anaconda-cloud": {},
  "kernelspec": {
   "display_name": "Python [conda root]",
   "language": "python",
   "name": "conda-root-py"
  },
  "language_info": {
   "codemirror_mode": {
    "name": "ipython",
    "version": 3
   },
   "file_extension": ".py",
   "mimetype": "text/x-python",
   "name": "python",
   "nbconvert_exporter": "python",
   "pygments_lexer": "ipython3",
   "version": "3.5.2"
  }
 },
 "nbformat": 4,
 "nbformat_minor": 1
}
