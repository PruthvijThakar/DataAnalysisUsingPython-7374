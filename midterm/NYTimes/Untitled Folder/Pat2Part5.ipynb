{
 "cells": [
  {
   "cell_type": "code",
   "execution_count": 19,
   "metadata": {
    "collapsed": false
   },
   "outputs": [],
   "source": [
    "import os\n",
    "key = os.getenv('auth_key')\n",
    "\n",
    "import logging\n",
    "import urllib.request\n",
    "import time\n",
    "from urllib.request import urlopen\n",
    "import json\n",
    "from urllib.error import HTTPError\n",
    "\n",
    "def filename(name, page, json_file_path):\n",
    "    json_file_name = \".\".join([str(name),str(page),'json'])\n",
    "    json_file_name = \"\".join([json_file_path,json_file_name])\n",
    "    return json_file_name\n",
    "\n",
    "def apilink(apistring,pages,apikey,fileName,searchquery=\" \"):\n",
    "    for page in range(pages):\n",
    "        try:\n",
    "            if searchquery!=\" \":\n",
    "                request_string=apistring+\"?\"+ \"q=\"+searchquery +\"&page=\"+str(page) + \"&api-key=\"+apikey\n",
    "            else:\n",
    "                request_string=apistring+\"?\"+\"&page=\"+str(page) + \"&api-key=\"+apikey\n",
    "            request1=urllib.request.Request(request_string)\n",
    "            response = urlopen(request1)\n",
    "            content = response.read().decode('utf8')  \n",
    "            if content:\n",
    "                articles = json.loads(content)\n",
    "                if len(articles[\"response\"][\"docs\"]) >= 1:\n",
    "                    json_file_name = filename(fileName, str(page),\"json\") \n",
    "                    json_file = open(json_file_name, 'w')\n",
    "                    json_file.write(content)\n",
    "                    json_file.close()\n",
    "            time.sleep(1)\n",
    "        except HTTPError as e:\n",
    "            logging.error(\"HTTPError on page %s on (err no. %s: %s) Here's the URL of the call: %s\", page, e.code, e.reason, request_string)"
   ]
  },
  {
   "cell_type": "code",
   "execution_count": 18,
   "metadata": {
    "collapsed": false
   },
   "outputs": [],
   "source": [
    "apilink(\"http://api.nytimes.com/svc/search/v2/articlesearch.json\",120,key,\"facebook\",\"facebook\")"
   ]
  },
  {
   "cell_type": "code",
   "execution_count": 20,
   "metadata": {
    "collapsed": false
   },
   "outputs": [
    {
     "name": "stderr",
     "output_type": "stream",
     "text": [
      "ERROR:root:HTTPError on page 5 on (err no. 504: GATEWAY_TIMEOUT) Here's the URL of the call: http://api.nytimes.com/svc/search/v2/articlesearch.json?q=snapchat&page=5&api-key=4beb89ef9dca4d329759697119b5b531\n",
      "ERROR:root:HTTPError on page 6 on (err no. 429: ) Here's the URL of the call: http://api.nytimes.com/svc/search/v2/articlesearch.json?q=snapchat&page=6&api-key=4beb89ef9dca4d329759697119b5b531\n",
      "ERROR:root:HTTPError on page 7 on (err no. 429: ) Here's the URL of the call: http://api.nytimes.com/svc/search/v2/articlesearch.json?q=snapchat&page=7&api-key=4beb89ef9dca4d329759697119b5b531\n",
      "ERROR:root:HTTPError on page 8 on (err no. 429: ) Here's the URL of the call: http://api.nytimes.com/svc/search/v2/articlesearch.json?q=snapchat&page=8&api-key=4beb89ef9dca4d329759697119b5b531\n",
      "ERROR:root:HTTPError on page 9 on (err no. 429: ) Here's the URL of the call: http://api.nytimes.com/svc/search/v2/articlesearch.json?q=snapchat&page=9&api-key=4beb89ef9dca4d329759697119b5b531\n",
      "ERROR:root:HTTPError on page 10 on (err no. 429: ) Here's the URL of the call: http://api.nytimes.com/svc/search/v2/articlesearch.json?q=snapchat&page=10&api-key=4beb89ef9dca4d329759697119b5b531\n",
      "ERROR:root:HTTPError on page 11 on (err no. 429: ) Here's the URL of the call: http://api.nytimes.com/svc/search/v2/articlesearch.json?q=snapchat&page=11&api-key=4beb89ef9dca4d329759697119b5b531\n"
     ]
    }
   ],
   "source": [
    "apilink(\"http://api.nytimes.com/svc/search/v2/articlesearch.json\",120,key,\"snapchat\",\"snapchat\")"
   ]
  },
  {
   "cell_type": "code",
   "execution_count": 89,
   "metadata": {
    "collapsed": false
   },
   "outputs": [
    {
     "data": {
      "text/plain": [
       "[('2012-05', 2),\n",
       " ('2012-12', 3),\n",
       " ('2013-01', 1),\n",
       " ('2013-03', 2),\n",
       " ('2013-06', 5),\n",
       " ('2013-07', 4),\n",
       " ('2013-08', 9),\n",
       " ('2013-09', 1),\n",
       " ('2013-10', 2),\n",
       " ('2013-11', 18),\n",
       " ('2013-12', 9),\n",
       " ('2014-01', 27),\n",
       " ('2014-02', 19),\n",
       " ('2014-03', 18),\n",
       " ('2014-04', 10),\n",
       " ('2014-05', 25),\n",
       " ('2014-06', 13),\n",
       " ('2014-07', 5),\n",
       " ('2014-08', 18),\n",
       " ('2014-09', 8),\n",
       " ('2014-10', 25),\n",
       " ('2014-11', 14),\n",
       " ('2014-12', 12),\n",
       " ('2015-01', 26),\n",
       " ('2015-02', 17),\n",
       " ('2015-03', 44),\n",
       " ('2015-04', 19),\n",
       " ('2015-05', 24),\n",
       " ('2015-06', 12),\n",
       " ('2015-07', 14),\n",
       " ('2015-08', 20),\n",
       " ('2015-09', 20),\n",
       " ('2015-10', 12),\n",
       " ('2015-11', 21),\n",
       " ('2015-12', 21),\n",
       " ('2016-01', 19),\n",
       " ('2016-02', 20),\n",
       " ('2016-03', 22),\n",
       " ('2016-04', 31),\n",
       " ('2016-05', 27),\n",
       " ('2016-06', 31),\n",
       " ('2016-07', 32),\n",
       " ('2016-08', 39),\n",
       " ('2016-09', 26),\n",
       " ('2016-10', 47),\n",
       " ('2016-11', 54),\n",
       " ('2016-12', 21),\n",
       " ('2017-01', 41),\n",
       " ('2017-02', 79),\n",
       " ('2017-03', 120),\n",
       " ('2017-04', 21)]"
      ]
     },
     "execution_count": 89,
     "metadata": {},
     "output_type": "execute_result"
    }
   ],
   "source": [
    "dateList = []\n",
    "for filename in  glob.iglob('snapchat/*.json'):\n",
    "\n",
    "    with open(filename) as data_file:      #iterating through each file\n",
    "        data = json.load(data_file)\n",
    "        for book in data[\"response\"].get(\"docs\"):\n",
    "            date = book[\"pub_date\"]\n",
    "            dateList.append(date[:7]) \n",
    "\n",
    "dateListFreq  = FreqDist(dateList)\n",
    "sorted_words = sorted(dateListFreq.items(), key=lambda dateListFreq: dateListFreq[0])\n",
    "sorted_words"
   ]
  },
  {
   "cell_type": "code",
   "execution_count": 95,
   "metadata": {
    "collapsed": false
   },
   "outputs": [
    {
     "data": {
      "text/plain": [
       "<matplotlib.text.Text at 0x15dd9d3b668>"
      ]
     },
     "execution_count": 95,
     "metadata": {},
     "output_type": "execute_result"
    },
    {
     "data": {
      "image/png": "[encoded data removed]",
      "text/plain": [
       "<matplotlib.figure.Figure at 0x15dd9cf8940>"
      ]
     },
     "metadata": {},
     "output_type": "display_data"
    }
   ],
   "source": [
    "import time\n",
    "import datetime \n",
    "from datetime import datetime\n",
    "%matplotlib inline\n",
    "from matplotlib import pyplot as plt\n",
    "\n",
    "\n",
    "datetimeList = []\n",
    "for item in sorted_words:\n",
    "    date = datetime.strptime(item[0], '%Y-%m')\n",
    "    datetimeList.append(date)\n",
    "\n",
    "\n",
    "z_list = [z for [x, z] in sorted_words]\n",
    "\n",
    "plt.plot_date(datetimeList, z_list)\n",
    "plt.xticks(rotation='vertical')\n",
    "plt.xlabel('Date')\n",
    "plt.ylabel('Frequency')\n",
    "plt.title(\"Rise of Snapchat\")"
   ]
  },
  {
   "cell_type": "markdown",
   "metadata": {},
   "source": [
    "# The rise of snapchat can be seen by the number of articles published in NY times articles over a period of last five years"
   ]
  },
  {
   "cell_type": "code",
   "execution_count": null,
   "metadata": {
    "collapsed": true
   },
   "outputs": [],
   "source": []
  },
  {
   "cell_type": "code",
   "execution_count": null,
   "metadata": {
    "collapsed": true
   },
   "outputs": [],
   "source": []
  }
 ],
 "metadata": {
  "anaconda-cloud": {},
  "kernelspec": {
   "display_name": "Python [conda root]",
   "language": "python",
   "name": "conda-root-py"
  },
  "language_info": {
   "codemirror_mode": {
    "name": "ipython",
    "version": 3
   },
   "file_extension": ".py",
   "mimetype": "text/x-python",
   "name": "python",
   "nbconvert_exporter": "python",
   "pygments_lexer": "ipython3",
   "version": "3.5.2"
  }
 },
 "nbformat": 4,
 "nbformat_minor": 2
}
