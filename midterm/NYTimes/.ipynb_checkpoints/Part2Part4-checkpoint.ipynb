{
 "cells": [
  {
   "cell_type": "code",
   "execution_count": 13,
   "metadata": {
    "collapsed": false
   },
   "outputs": [],
   "source": [
    "import os\n",
    "key = os.getenv('auth_key')\n"
   ]
  },
  {
   "cell_type": "code",
   "execution_count": 17,
   "metadata": {
    "collapsed": true
   },
   "outputs": [],
   "source": [
    "import logging\n",
    "import urllib.request\n",
    "import time\n",
    "from urllib.request import urlopen\n",
    "import json"
   ]
  },
  {
   "cell_type": "code",
   "execution_count": 15,
   "metadata": {
    "collapsed": true
   },
   "outputs": [],
   "source": [
    "def filename(name, page, json_file_path):\n",
    "    json_file_name = \".\".join([str(name),str(page),'json'])\n",
    "    json_file_name = \"\".join([json_file_path,json_file_name])\n",
    "    return json_file_name\n",
    "\n",
    "def apilink(apistring,pages,apikey,filename,searchquery=\" \"):\n",
    "    for page in range(pages):\n",
    "        try:\n",
    "            if searchquery!=\" \":\n",
    "                request_string=apistring+\"?\"+ \"q=\"+searchquery +\"&page=\"+str(page) + \"&api-key=\"+apikey\n",
    "            else:\n",
    "                request_string=apistring+\"?\"+\"&page=\"+str(page) + \"&api-key=\"+apikey\n",
    "            request1=urllib.request.Request(request_string)\n",
    "            response = urlopen(request1)\n",
    "            content = response.read().decode('utf8')  \n",
    "            if content:\n",
    "                articles = json.loads(content)\n",
    "                if len(articles[\"response\"][\"docs\"]) >= 1:\n",
    "                    json_file_name = fileName(filename, str(page),\"ALL_JSON\") \n",
    "                    json_file = open(json_file_name, 'w')\n",
    "                    json_file.write(content)\n",
    "                    json_file.close()\n",
    "apilink(\"http://api.nytimes.com/svc/search/v2/articlesearch.json\",120,key,\"Trump\",\"Trump\")\n",
    "apilink(\"http://api.nytimes.com/svc/search/v2/articlesearch.json\",120,key,\"Obama\",\"Obama\")"
   ]
  },
  {
   "cell_type": "code",
   "execution_count": 32,
   "metadata": {
    "collapsed": false
   },
   "outputs": [],
   "source": [
    "import os.path\n",
    "import json\n",
    "from glob import glob\n",
    "obama_data = []\n",
    "\n",
    "pattern = os.path.join('C:/Users/pruth/OneDrive/Documents/GitHub/thakar_pruthvij_spring17/midterm/NYTimes/ObamaData', '*.json')\n",
    "for file_name in glob(pattern):\n",
    "    with open(file_name) as f:\n",
    "        obama_data.append(json.load(f))     \n",
    "        with open('obamasinglefile.txt', 'w') as outfile:\n",
    "            json.dump(obama_data, outfile)\n",
    "        "
   ]
  },
  {
   "cell_type": "code",
   "execution_count": 45,
   "metadata": {
    "collapsed": true
   },
   "outputs": [],
   "source": [
    "import glob\n",
    "import os\n",
    "import re\n",
    "import datetime\n",
    "import string\n",
    "from nltk.corpus import stopwords\n",
    "from collections import Counter"
   ]
  },
  {
   "cell_type": "code",
   "execution_count": 83,
   "metadata": {
    "collapsed": false
   },
   "outputs": [
    {
     "data": {
      "text/plain": [
       "195104"
      ]
     },
     "execution_count": 83,
     "metadata": {},
     "output_type": "execute_result"
    }
   ],
   "source": [
    "files=glob.glob('C:/Users/pruth/OneDrive/Documents/GitHub/thakar_pruthvij_spring17/midterm/NYTimes/TrumpData/*')\n",
    "newsWords=[]\n",
    "for file in files:\n",
    "    with open(file) as data_file:    \n",
    "        data = json.load(data_file)\n",
    "        x=data['response']['docs']\n",
    "        for each in x:\n",
    "            snippet=str(each['snippet'])\n",
    "            words=re.findall(r'(\\b[A-Za-z][a-z]{2,9}\\b)', snippet)        \n",
    "            newsWords.append(words)\n",
    "newsWords=sum(newsWords,[])\n",
    "strnewswords = str(newsWords)\n"
   ]
  },
  {
   "cell_type": "code",
   "execution_count": 87,
   "metadata": {
    "collapsed": true
   },
   "outputs": [],
   "source": [
    "\n",
    "newsWords=[''.join(c for c in s if c not in string.punctuation) for s in newsWords]\n",
    "newsWords = [s for s in newsWords if s]"
   ]
  },
  {
   "cell_type": "code",
   "execution_count": 89,
   "metadata": {
    "collapsed": false
   },
   "outputs": [
    {
     "data": {
      "text/plain": [
       "15111"
      ]
     },
     "execution_count": 89,
     "metadata": {},
     "output_type": "execute_result"
    }
   ],
   "source": [
    "stop = stopwords.words('english')\n",
    "newsWords2 = [word for word in newsWords if word not in stop]\n",
    "len(newsWords2)"
   ]
  },
  {
   "cell_type": "code",
   "execution_count": 92,
   "metadata": {
    "collapsed": false
   },
   "outputs": [
    {
     "data": {
      "text/plain": [
       "Sentiment(classification='neg', p_pos=0.49512644597387406, p_neg=0.5048735540261258)"
      ]
     },
     "execution_count": 92,
     "metadata": {},
     "output_type": "execute_result"
    }
   ],
   "source": [
    "from textblob import TextBlob\n",
    "from textblob.sentiments import NaiveBayesAnalyzer\n",
    "blob = TextBlob(str(newsWords2), analyzer=NaiveBayesAnalyzer())\n",
    "blob.sentiment"
   ]
  },
  {
   "cell_type": "markdown",
   "metadata": {},
   "source": [
    "# The sentiment analyzer classifies the vocublary used for Trumps articles as negetive"
   ]
  },
  {
   "cell_type": "code",
   "execution_count": 120,
   "metadata": {
    "collapsed": false
   },
   "outputs": [
    {
     "name": "stdout",
     "output_type": "stream",
     "text": [
      "60 White\n",
      "49 But\n",
      "48 first\n",
      "47 people\n",
      "46 United\n",
      "45 American\n",
      "43 States\n",
      "41 could\n",
      "38 health\n",
      "35 York\n",
      "34 plan\n",
      "32 government\n",
      "30 China\n",
      "29 news\n",
      "28 Republican\n",
      "27 Obama\n",
      "26 year\n",
      "25 business\n",
      "24 Times\n",
      "23 military\n",
      "22 make\n",
      "21 media\n",
      "20 budget\n",
      "19 trade\n",
      "18 jobs\n",
      "17 next\n",
      "16 officials\n",
      "15 decision\n",
      "14 group\n",
      "13 met\n",
      "12 behind\n",
      "11 named\n",
      "10 set\n",
      "9 Deal\n",
      "8 Semitism\n",
      "7 cities\n",
      "6 civil\n",
      "5 push\n",
      "4 approach\n",
      "3 bestowed\n",
      "2 tool\n",
      "1 extreme\n"
     ]
    }
   ],
   "source": [
    "import csv\n",
    "import matplotlib.pyplot as plt\n",
    "occurance={}\n",
    "\n",
    "for word in newsWords2:\n",
    "    if word not in occurance:\n",
    "        occurance[word] = 1\n",
    "    else:\n",
    "        occurance[word] = occurance[word] + 1\n",
    "\n",
    "max = 60\n",
    "dict1={}\n",
    "\n",
    "\n",
    "for a,b in occurance.items():\n",
    "     dict1[b] = a\n",
    "\n",
    "with open('dict.csv', 'w') as csv_file:\n",
    "    writer = csv.writer(csv_file)\n",
    "    for key, value in occurance.items():\n",
    "        writer.writerow([key, value])\n",
    "        \n",
    "for i in range (max,-1,-1):\n",
    "    try:\n",
    "        value = dict1[i]\n",
    "        print( str(i) +\" \" + str(value))\n",
    "    \n",
    "\n",
    "        \n",
    "    except:\n",
    "        continue\n",
    "  "
   ]
  },
  {
   "cell_type": "code",
   "execution_count": 161,
   "metadata": {
    "collapsed": false
   },
   "outputs": [],
   "source": [
    "# occurance.values()"
   ]
  },
  {
   "cell_type": "code",
   "execution_count": 178,
   "metadata": {
    "collapsed": false
   },
   "outputs": [
    {
     "name": "stdout",
     "output_type": "stream",
     "text": [
      "10\n",
      "{48: 'first', 49: 'But', 35: 'York', 38: 'health', 41: 'could', 43: 'States', 60: 'White', 45: 'American', 46: 'United', 47: 'people'}\n"
     ]
    },
    {
     "data": {
      "image/png": "[encoded data removed]",
      "text/plain": [
       "<matplotlib.figure.Figure at 0x1f138de3fd0>"
      ]
     },
     "metadata": {},
     "output_type": "display_data"
    }
   ],
   "source": [
    "d = {k : v for k,v in dict1.items() if k in [60,49,48,47,46,45,43,41,38,35]}\n",
    "print(len(d))\n",
    "print(d)\n",
    "plt.bar(range(len(d)), d.keys(), align=\"center\")\n",
    "plt.xticks(range(len(d)), list(d.values()), rotation='vertical')         \n",
    "plt.show()"
   ]
  },
  {
   "cell_type": "markdown",
   "metadata": {},
   "source": [
    "# These are the common words used in the article related to President Trump in NYtimes recent articles"
   ]
  }
 ],
 "metadata": {
  "anaconda-cloud": {},
  "kernelspec": {
   "display_name": "Python [conda root]",
   "language": "python",
   "name": "conda-root-py"
  },
  "language_info": {
   "codemirror_mode": {
    "name": "ipython",
    "version": 3
   },
   "file_extension": ".py",
   "mimetype": "text/x-python",
   "name": "python",
   "nbconvert_exporter": "python",
   "pygments_lexer": "ipython3",
   "version": "3.5.2"
  }
 },
 "nbformat": 4,
 "nbformat_minor": 2
}
