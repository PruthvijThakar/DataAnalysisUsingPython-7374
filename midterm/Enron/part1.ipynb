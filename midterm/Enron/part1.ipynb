{
 "cells": [
  {
   "cell_type": "code",
   "execution_count": 3,
   "metadata": {
    "collapsed": false
   },
   "outputs": [],
   "source": [
    "import os\n",
    "\n",
    "rootdir = \"C:\\\\Users\\\\pruth\\\\Documents\\\\midterm\\\\data\\\\enron\\\\maildir\\\\\"\n",
    "\n",
    "\n",
    "\n",
    "from collections import Counter\n",
    "\n",
    "from email.parser import Parser\n",
    "# for directory, subdirectory, filenames in  os.walk(rootdir):\n",
    "#     print(directory, subdirectory, len(filenames))\n"
   ]
  },
  {
   "cell_type": "code",
   "execution_count": 4,
   "metadata": {
    "collapsed": false
   },
   "outputs": [
    {
     "name": "stdout",
     "output_type": "stream",
     "text": [
      "\n",
      "To:  mmilken@knowledgeu.com\n",
      "\n",
      " From:  rosalee.fleming@enron.com\n",
      "\n",
      " Subject:  Re: testing\n",
      "\n",
      " \n",
      " Body:  Hi -\n",
      "\n",
      "We did receive the e-mail.\n",
      "\n",
      "Rosalee for Ken Lay\n",
      "\n",
      "\n",
      "\n",
      "\n",
      "\n",
      "\"Michael Milken\" <mmilken@knowledgeu.com> on 07/02/99 10:21:40 AM\n",
      "To: Kenneth Lay/Corp/Enron@Enron\n",
      "cc:  \n",
      "Subject: testing\n",
      "\n",
      "\n",
      "\n",
      "\n",
      "\n",
      "\n",
      "\n"
     ]
    }
   ],
   "source": [
    "from email.parser import Parser\n",
    "\n",
    "file_to_read = \"C:\\\\Users\\\\pruth\\\\Documents\\\\midterm\\\\data\\\\enron\\\\maildir\\\\lay-k\\\\all_documents\\\\1\"\n",
    "\n",
    "with open(file_to_read, \"r\") as f:\n",
    "    data = f.read()\n",
    "\n",
    "#print(data)\n",
    "\n",
    "email = Parser().parsestr(data)\n",
    "\n",
    "print(\"\\nTo: \" , email['to'])\n",
    "print(\"\\n From: \" , email['from'])\n",
    "\n",
    "print(\"\\n Subject: \" , email['subject'])\n",
    "\n",
    "print(\"\\n \\n Body: \" , email.get_payload())"
   ]
  },
  {
   "cell_type": "code",
   "execution_count": 17,
   "metadata": {
    "collapsed": false
   },
   "outputs": [],
   "source": [
    "import os\n",
    "from email.parser import Parser\n",
    "rootdir = \"C:\\\\Users\\\\pruth\\\\Documents\\\\midterm\\\\data\\\\enron\\\\maildir\\\\lay-k\\\\family\"\n",
    "\n",
    "\n",
    "def email_analyse(inputfile, to_email_list, from_email_list, email_body):\n",
    "    with open(inputfile, \"r\") as f:\n",
    "        data = f.read()\n",
    "\n",
    "    email = Parser().parsestr(data)\n",
    "\n",
    "    to_email_list.append(email['to'])\n",
    "    from_email_list.append(email['from'])\n",
    "\n",
    "    email_body.append(email.get_payload())\n",
    "\n",
    "\n",
    "to_email_list = []\n",
    "from_email_list = []\n",
    "email_body = []\n",
    "\n",
    "for directory, subdirectory, filenames in  os.walk(rootdir):\n",
    "    for filename in filenames:\n",
    "        email_analyse(os.path.join(directory, filename), to_email_list, from_email_list, email_body )\n",
    "\n",
    "\n",
    "with open(\"C:\\\\Users\\\\pruth\\\\Documents\\\\midterm\\\\data\\\\result1data\\\\datato_email_list.txt\", \"w\") as f:\n",
    "    for to_email in to_email_list:\n",
    "        if to_email:\n",
    "            f.write(to_email)\n",
    "            f.write(\"\\n\")\n",
    "\n",
    "with open(\"C:\\\\Users\\\\pruth\\\\Documents\\\\midterm\\\\data\\\\result1data\\\\from_email_list.txt\", \"w\") as f:\n",
    "    for from_email in from_email_list:\n",
    "        if from_email:\n",
    "            f.write(from_email)\n",
    "            f.write(\"\\n\")        \n",
    "\n",
    "with open(\"C:\\\\Users\\\\pruth\\\\Documents\\\\midterm\\\\data\\\\result1data\\\\email_body.txt\", \"w\") as f:\n",
    "    for email_bod in email_body:\n",
    "        if email_bod:\n",
    "            f.write(email_bod)\n",
    "            f.write(\"\\n\")     \n",
    "#Analysis 1 : Storing files by saperating them in txt files with lists of to and from email addresses and data in different txt file."
   ]
  },
  {
   "cell_type": "code",
   "execution_count": 31,
   "metadata": {
    "collapsed": false
   },
   "outputs": [
    {
     "name": "stdout",
     "output_type": "stream",
     "text": [
      "\n",
      "To email adresses: \n",
      "\n",
      "[('jeff.skilling@enron.com', 1738), ('kenneth.lay@enron.com', 286), ('jskilli@enron.com', 234), ('greg.whalley@enron.com', 204), ('mark.frevert@enron.com', 190), ('louise.kitchen@enron.com', 190), ('steven.kean@enron.com', 183), ('john.sherriff@enron.com', 174), ('smu-betas@yahoogroups.com', 167), ('mike.mcconnell@enron.com', 162)]\n",
      "\n",
      "From email adresses: \n",
      "\n",
      "[('sherri.sera@enron.com', 662), ('markskilling@hotmail.com', 156), ('joannie.williamson@enron.com', 147), ('40enron@enron.com', 140), ('jeff.skilling@enron.com', 98), ('fredinvt@juno.com', 91), ('no.address@enron.com', 77), ('sherri.reinartz@enron.com', 57), ('lisa.connolly@enron.com', 55), ('katherine.brown@enron.com', 46)]\n"
     ]
    }
   ],
   "source": [
    "\n",
    "rootdir = \"C:\\\\Users\\\\pruth\\\\Documents\\\\midterm\\\\data\\\\enron\\\\maildir\\\\skilling-j\\\\\"\n",
    "\n",
    "\n",
    "def email_analyse(inputfile, to_email_list, from_email_list, email_body):\n",
    "    with open(inputfile, \"r\") as f:\n",
    "        data = f.read()\n",
    "\n",
    "    email = Parser().parsestr(data)\n",
    "    \n",
    "    if email['to']:\n",
    "        email_to = email['to']\n",
    "        email_to = email_to.replace(\"\\n\", \"\")\n",
    "        email_to = email_to.replace(\"\\t\", \"\")\n",
    "        email_to = email_to.replace(\" \", \"\")\n",
    "\n",
    "        email_to = email_to.split(\",\")\n",
    "\n",
    "        for email_to_1 in email_to:\n",
    "            to_email_list.append(email_to_1)\n",
    "\n",
    "    from_email_list.append(email['from'])\n",
    "\n",
    "    email_body.append(email.get_payload())\n",
    "\n",
    "\n",
    "to_email_list = []\n",
    "from_email_list = []\n",
    "email_body = []\n",
    "\n",
    "for directory, subdirectory, filenames in  os.walk(rootdir):\n",
    "    for filename in filenames:\n",
    "        email_analyse(os.path.join(directory, filename), to_email_list, from_email_list, email_body )\n",
    "\n",
    "print(\"\\nTo email adresses: \\n\")\n",
    "print(Counter(to_email_list).most_common(10))\n",
    "\n",
    "print(\"\\nFrom email adresses: \\n\")\n",
    "print(Counter(from_email_list).most_common(10))"
   ]
  },
  {
   "cell_type": "code",
   "execution_count": 33,
   "metadata": {
    "collapsed": false
   },
   "outputs": [
    {
     "name": "stdout",
     "output_type": "stream",
     "text": [
      "\n",
      "To email adresses: \n",
      "\n",
      "[('kenneth.lay@enron.com', 2039), ('klay@enron.com', 1903), ('jeff.skilling@enron.com', 372), ('mark.koenig@enron.com', 313), ('greg.whalley@enron.com', 304), ('mark.frevert@enron.com', 304), ('steven.kean@enron.com', 278), ('mike.mcconnell@enron.com', 261), ('jeffrey.mcmahon@enron.com', 251), ('john.sherriff@enron.com', 244)]\n",
      "\n",
      "From email adresses: \n",
      "\n",
      "[('rosalee.fleming@enron.com', 856), ('brown_mary_jo@lilly.com', 82), ('leonardo.pacheco@enron.com', 78), ('savont@email.msn.com', 66), ('tori.wells@enron.com', 58), ('elizabeth.davis@compaq.com', 50), ('no.address@enron.com', 47), ('katherine.brown@enron.com', 47), ('mrslinda@lplpi.com', 40), ('lizard_ar@yahoo.com', 36)]\n"
     ]
    }
   ],
   "source": [
    "\n",
    "rootdir = \"C:\\\\Users\\\\pruth\\\\Documents\\\\midterm\\\\data\\\\enron\\\\maildir\\\\lay-k\\\\\"\n",
    "\n",
    "\n",
    "def email_analyse(inputfile, to_email_list, from_email_list, email_body):\n",
    "    with open(inputfile, \"r\") as f:\n",
    "        data = f.read()\n",
    "\n",
    "    email = Parser().parsestr(data)\n",
    "    \n",
    "    if email['to']:\n",
    "        email_to = email['to']\n",
    "        email_to = email_to.replace(\"\\n\", \"\")\n",
    "        email_to = email_to.replace(\"\\t\", \"\")\n",
    "        email_to = email_to.replace(\" \", \"\")\n",
    "\n",
    "        email_to = email_to.split(\",\")\n",
    "\n",
    "        for email_to_1 in email_to:\n",
    "            to_email_list.append(email_to_1)\n",
    "\n",
    "    from_email_list.append(email['from'])\n",
    "\n",
    "    email_body.append(email.get_payload())\n",
    "\n",
    "\n",
    "to_email_list1 = []\n",
    "from_email_list1 = []\n",
    "email_body1 = []\n",
    "\n",
    "for directory, subdirectory, filenames in  os.walk(rootdir):\n",
    "    for filename in filenames:\n",
    "        email_analyse(os.path.join(directory, filename), to_email_list1, from_email_list1, email_body1 )\n",
    "\n",
    "print(\"\\nTo email adresses: \\n\")\n",
    "print(Counter(to_email_list1).most_common(10))\n",
    "\n",
    "print(\"\\nFrom email adresses: \\n\")\n",
    "\n",
    "print(Counter(from_email_list1).most_common(10))"
   ]
  },
  {
   "cell_type": "code",
   "execution_count": 58,
   "metadata": {
    "collapsed": false
   },
   "outputs": [
    {
     "name": "stdout",
     "output_type": "stream",
     "text": [
      "Kenneth Lay top Connections:\n",
      "{'jeff.skilling@enron.com', 'sherri.sera@enron.com', 'tomskilljr@aol.com'}\n",
      "Skilling top Connections:\n",
      "{'rosalee.fleming@enron.com', 'kenneth.lay@enron.com'}\n"
     ]
    }
   ],
   "source": [
    "#Analysis 2\n",
    "\n",
    "#Showing people having max to and from connections with joint CEO's \n",
    "print('Kenneth Lay top Connections:')\n",
    "a = [i for i, j in zip(to_email_list, from_email_list) if i == j] \n",
    "print(set(a))\n",
    "print('Skilling top Connections:')\n",
    "b = [i for i, j in zip(to_email_list1, from_email_list1) if i == j] \n",
    "print(set(b))"
   ]
  },
  {
   "cell_type": "code",
   "execution_count": 44,
   "metadata": {
    "collapsed": false
   },
   "outputs": [
    {
     "name": "stdout",
     "output_type": "stream",
     "text": [
      "[('I', 19), ('--', 12), ('would', 10), ('2000', 8), ('like', 7), ('Lay', 6), ('July', 6), ('Fund', 5), ('Pate', 5), ('Zach', 5), ('address', 4), ('4', 4), ('Linda', 4), ('Herrold', 4), ('birth', 4), ('Howard', 4), ('Beau', 4), ('know', 3), ('Natalie', 3), ('new', 3), ('To', 3), ('Message', 3), ('Love', 3), ('June', 3), ('Family', 3), ('Sent', 3), ('VERY', 3), ('e-mail', 3), ('aol.com', 3), ('photos', 3), ('If', 3), ('We', 3), ('Subject', 3), ('att1.htm', 3), ('time', 3), ('house', 3), ('David', 3), ('From', 3), ('Mark', 3), ('PM', 3), ('love', 2), ('fill', 2), ('first', 2), ('Vermeil', 2), ('Since', 2), ('Daddy', 2), (\"''\", 2), ('Big', 2), ('mailto', 2), ('back', 2), ('since', 2), ('dealing', 2), ('January', 2), ('Tuesday', 2), ('beau', 2), ('Houston', 2), ('sure', 2), ('He', 2), ('Dear', 2), ('one', 2), ('well', 2), ('This', 2), ('looks', 2), ('rep', 2), ('two', 2), ('Carson', 2), ('10', 2), ('TCW', 2), (\"'s\", 2), ('also', 2), ('``', 2), ('Baby', 2), ('asked', 2), ('-Original', 2), ('Re', 2), ('So', 2), ('mrslinda', 2), ('2nd.', 2), ('Ken', 2), ('houston.rr.com', 2), ('force', 2), ('send', 2), ('Growth', 2), ('please', 2), ('stay', 2), ('return', 2), ('great', 2), ('let', 2), ('Equities', 2), ('Poppopindc', 2), ('aka', 2), ('LPL', 2), ('tell', 2), ('December', 2), ('lplpi.com', 2), ('good', 2), ('meet', 2), ('Momie', 1), ('13', 1), ('Private', 1)]\n"
     ]
    }
   ],
   "source": [
    "import nltk\n",
    "from nltk.tokenize import word_tokenize\n",
    "from nltk.corpus import stopwords\n",
    "import string\n",
    "#C:\\Users\\pruth\\Documents\\midterm\\data\\result1data\n",
    "with open(\"C:\\\\Users\\\\pruth\\\\Documents\\\\midterm\\\\data\\\\result1data\\\\email_body.txt\", \"r\") as f:\n",
    "    data = f.read()\n",
    "\n",
    "\n",
    "words= word_tokenize(data)\n",
    "\n",
    "all_words = [word  for word in words if word not in stopwords.words('English')]\n",
    "exclude = set(string.punctuation)\n",
    "data=[x for x in all_words if x not in exclude] \n",
    "frequency = nltk.FreqDist(data)\n",
    "\n",
    "print(frequency.most_common(100))\n",
    "\n",
    "#Analysis 3: Sorting out top words spoken by CEO Lay Kenneth to get an overview of his chats."
   ]
  }
 ],
 "metadata": {
  "anaconda-cloud": {},
  "kernelspec": {
   "display_name": "Python [conda root]",
   "language": "python",
   "name": "conda-root-py"
  },
  "language_info": {
   "codemirror_mode": {
    "name": "ipython",
    "version": 3
   },
   "file_extension": ".py",
   "mimetype": "text/x-python",
   "name": "python",
   "nbconvert_exporter": "python",
   "pygments_lexer": "ipython3",
   "version": "3.5.2"
  }
 },
 "nbformat": 4,
 "nbformat_minor": 1
}
