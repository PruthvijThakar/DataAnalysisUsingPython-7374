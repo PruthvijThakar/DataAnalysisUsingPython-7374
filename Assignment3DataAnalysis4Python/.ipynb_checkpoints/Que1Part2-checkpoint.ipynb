{
 "cells": [
  {
   "cell_type": "code",
   "execution_count": 50,
   "metadata": {
    "collapsed": true
   },
   "outputs": [],
   "source": [
    "import numpy as np\n",
    "import pandas as pd\n",
    "import csv,ast\n",
    "import calendar\n",
    "from pandas import DataFrame"
   ]
  },
  {
   "cell_type": "code",
   "execution_count": 55,
   "metadata": {
    "collapsed": false
   },
   "outputs": [
    {
     "name": "stdout",
     "output_type": "stream",
     "text": [
      "4498\n",
      "4980\n",
      "2024\n",
      "1962\n",
      "759\n"
     ]
    }
   ],
   "source": [
    "vc= pd.read_csv('vehicle_collisions.csv')\n",
    "\n",
    "new_vc = vc[['BOROUGH','VEHICLE 1 TYPE','VEHICLE 2 TYPE','VEHICLE 3 TYPE','VEHICLE 4 TYPE','VEHICLE 5 TYPE']].copy()\n",
    "for borough in(new_vc[new_vc['BOROUGH'].notnull()]['BOROUGH'].unique()):\n",
    "    manhattan=new_vc[new_vc['BOROUGH'] == borough]\n",
    "    total=pd.isnull(manhattan)\n",
    "    oneveh=((total['VEHICLE 1 TYPE'] == ast.literal_eval('False'))& (total['VEHICLE 2 TYPE'] == ast.literal_eval('True'))).sum()\n",
    "    twoveh=((total['VEHICLE 1 TYPE'] == ast.literal_eval('False')) & (total['VEHICLE 2 TYPE'] == ast.literal_eval('False')) & (total['VEHICLE 3 TYPE'] == ast.literal_eval('True'))).sum()\n",
    "    threeveh=((total['VEHICLE 1 TYPE'] == ast.literal_eval('False')) & (total['VEHICLE 2 TYPE'] == ast.literal_eval('False')) & (total['VEHICLE 3 TYPE'] == ast.literal_eval('False')) & (total['VEHICLE 4 TYPE'] == ast.literal_eval('True'))).sum()\n",
    "    extraveh=len(total)-(oneveh+twoveh+threeveh)\n",
    "    print(threeveh)"
   ]
  },
  {
   "cell_type": "code",
   "execution_count": 59,
   "metadata": {
    "collapsed": false
   },
   "outputs": [
    {
     "data": {
      "text/html": [
       "<div>\n",
       "<table border=\"1\" class=\"dataframe\">\n",
       "  <thead>\n",
       "    <tr style=\"text-align: right;\">\n",
       "      <th></th>\n",
       "      <th>BOROUGH</th>\n",
       "      <th>ONE_VEHICLE_INVOLVED</th>\n",
       "      <th>TWO_VEHICLES_INVOLVED</th>\n",
       "      <th>THREE_VEHICLES_INVOLVED</th>\n",
       "      <th>MORE_VEHICLES_INVOLVED</th>\n",
       "    </tr>\n",
       "  </thead>\n",
       "  <tbody>\n",
       "    <tr>\n",
       "      <th>0</th>\n",
       "      <td>QUEENS</td>\n",
       "      <td>12962</td>\n",
       "      <td>70260</td>\n",
       "      <td>4498</td>\n",
       "      <td>1935</td>\n",
       "    </tr>\n",
       "    <tr>\n",
       "      <th>1</th>\n",
       "      <td>BROOKLYN</td>\n",
       "      <td>17375</td>\n",
       "      <td>80207</td>\n",
       "      <td>4980</td>\n",
       "      <td>2399</td>\n",
       "    </tr>\n",
       "    <tr>\n",
       "      <th>2</th>\n",
       "      <td>MANHATTAN</td>\n",
       "      <td>13318</td>\n",
       "      <td>66958</td>\n",
       "      <td>2024</td>\n",
       "      <td>1302</td>\n",
       "    </tr>\n",
       "    <tr>\n",
       "      <th>3</th>\n",
       "      <td>BRONX</td>\n",
       "      <td>8627</td>\n",
       "      <td>34385</td>\n",
       "      <td>1962</td>\n",
       "      <td>1150</td>\n",
       "    </tr>\n",
       "    <tr>\n",
       "      <th>4</th>\n",
       "      <td>STATEN ISLAND</td>\n",
       "      <td>2343</td>\n",
       "      <td>10676</td>\n",
       "      <td>759</td>\n",
       "      <td>270</td>\n",
       "    </tr>\n",
       "  </tbody>\n",
       "</table>\n",
       "</div>"
      ],
      "text/plain": [
       "         BOROUGH  ONE_VEHICLE_INVOLVED  TWO_VEHICLES_INVOLVED  \\\n",
       "0         QUEENS                 12962                  70260   \n",
       "1       BROOKLYN                 17375                  80207   \n",
       "2      MANHATTAN                 13318                  66958   \n",
       "3          BRONX                  8627                  34385   \n",
       "4  STATEN ISLAND                  2343                  10676   \n",
       "\n",
       "   THREE_VEHICLES_INVOLVED  MORE_VEHICLES_INVOLVED  \n",
       "0                     4498                    1935  \n",
       "1                     4980                    2399  \n",
       "2                     2024                    1302  \n",
       "3                     1962                    1150  \n",
       "4                      759                     270  "
      ]
     },
     "execution_count": 59,
     "metadata": {},
     "output_type": "execute_result"
    }
   ],
   "source": [
    "\n",
    "vc= pd.read_csv('vehicle_collisions.csv')\n",
    "\n",
    "new_vc = vc[['BOROUGH','VEHICLE 1 TYPE','VEHICLE 2 TYPE','VEHICLE 3 TYPE','VEHICLE 4 TYPE','VEHICLE 5 TYPE']].copy()\n",
    "\n",
    "d_trim = {'BOROUGH':[],'ONE_VEHICLE_INVOLVED':[],'TWO_VEHICLES_INVOLVED':[],'THREE_VEHICLES_INVOLVED':[],'MORE_VEHICLES_INVOLVED':[]}\n",
    "\n",
    "\n",
    "        \n",
    "for borough in(new_vc[new_vc['BOROUGH'].notnull()]['BOROUGH'].unique()):\n",
    "    manhattan=new_vc[new_vc['BOROUGH'] == borough]\n",
    "    total=pd.isnull(manhattan)\n",
    "    oneveh=((total['VEHICLE 1 TYPE'] == ast.literal_eval('False'))& (total['VEHICLE 2 TYPE'] == ast.literal_eval('True'))).sum()\n",
    "    twoveh=((total['VEHICLE 1 TYPE'] == ast.literal_eval('False')) & (total['VEHICLE 2 TYPE'] == ast.literal_eval('False')) & (total['VEHICLE 3 TYPE'] == ast.literal_eval('True'))).sum()\n",
    "    threeveh=((total['VEHICLE 1 TYPE'] == ast.literal_eval('False')) & (total['VEHICLE 2 TYPE'] == ast.literal_eval('False')) & (total['VEHICLE 3 TYPE'] == ast.literal_eval('False')) & (total['VEHICLE 4 TYPE'] == ast.literal_eval('True'))).sum()\n",
    "    extraveh=len(total)-(oneveh+twoveh+threeveh)\n",
    "\n",
    "    d_trim['BOROUGH'].append(borough)\n",
    "    d_trim['ONE_VEHICLE_INVOLVED'].append(oneveh)\n",
    "    d_trim['TWO_VEHICLES_INVOLVED'].append(twoveh)\n",
    "    d_trim['THREE_VEHICLES_INVOLVED'].append(threeveh)\n",
    "    d_trim['MORE_VEHICLES_INVOLVED'].append(extraveh)\n",
    "\n",
    "            \n",
    "df = DataFrame(d_trim, columns=['BOROUGH','ONE_VEHICLE_INVOLVED','TWO_VEHICLES_INVOLVED','THREE_VEHICLES_INVOLVED','MORE_VEHICLES_INVOLVED'])\n",
    "df.to_csv('Que1Part2.csv')\n",
    "df.head()"
   ]
  },
  {
   "cell_type": "code",
   "execution_count": null,
   "metadata": {
    "collapsed": true
   },
   "outputs": [],
   "source": []
  }
 ],
 "metadata": {
  "kernelspec": {
   "display_name": "Python [conda root]",
   "language": "python",
   "name": "conda-root-py"
  },
  "language_info": {
   "codemirror_mode": {
    "name": "ipython",
    "version": 3
   },
   "file_extension": ".py",
   "mimetype": "text/x-python",
   "name": "python",
   "nbconvert_exporter": "python",
   "pygments_lexer": "ipython3",
   "version": "3.5.2"
  }
 },
 "nbformat": 4,
 "nbformat_minor": 2
}
