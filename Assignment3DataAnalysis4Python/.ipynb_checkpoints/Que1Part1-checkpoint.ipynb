{
 "cells": [
  {
   "cell_type": "code",
   "execution_count": 46,
   "metadata": {
    "collapsed": true
   },
   "outputs": [],
   "source": []
  },
  {
   "cell_type": "code",
   "execution_count": 80,
   "metadata": {
    "collapsed": true
   },
   "outputs": [],
   "source": []
  },
  {
   "cell_type": "code",
   "execution_count": 81,
   "metadata": {
    "collapsed": false
   },
   "outputs": [
    {
     "data": {
      "text/html": [
       "<div>\n",
       "<table border=\"1\" class=\"dataframe\">\n",
       "  <thead>\n",
       "    <tr style=\"text-align: right;\">\n",
       "      <th></th>\n",
       "      <th>MONTH</th>\n",
       "      <th>MANHATTAN</th>\n",
       "      <th>NYC</th>\n",
       "      <th>PERCENTAGE</th>\n",
       "    </tr>\n",
       "  </thead>\n",
       "  <tbody>\n",
       "    <tr>\n",
       "      <th>0</th>\n",
       "      <td>January</td>\n",
       "      <td>3178</td>\n",
       "      <td>18101</td>\n",
       "      <td>0.18</td>\n",
       "    </tr>\n",
       "    <tr>\n",
       "      <th>1</th>\n",
       "      <td>February</td>\n",
       "      <td>3195</td>\n",
       "      <td>15985</td>\n",
       "      <td>0.20</td>\n",
       "    </tr>\n",
       "    <tr>\n",
       "      <th>2</th>\n",
       "      <td>March</td>\n",
       "      <td>3479</td>\n",
       "      <td>18471</td>\n",
       "      <td>0.19</td>\n",
       "    </tr>\n",
       "    <tr>\n",
       "      <th>3</th>\n",
       "      <td>April</td>\n",
       "      <td>3540</td>\n",
       "      <td>18331</td>\n",
       "      <td>0.19</td>\n",
       "    </tr>\n",
       "    <tr>\n",
       "      <th>4</th>\n",
       "      <td>May</td>\n",
       "      <td>3432</td>\n",
       "      <td>20052</td>\n",
       "      <td>0.17</td>\n",
       "    </tr>\n",
       "  </tbody>\n",
       "</table>\n",
       "</div>"
      ],
      "text/plain": [
       "      MONTH  MANHATTAN    NYC  PERCENTAGE\n",
       "0   January       3178  18101        0.18\n",
       "1  February       3195  15985        0.20\n",
       "2     March       3479  18471        0.19\n",
       "3     April       3540  18331        0.19\n",
       "4       May       3432  20052        0.17"
      ]
     },
     "execution_count": 81,
     "metadata": {},
     "output_type": "execute_result"
    }
   ],
   "source": [
    "import numpy as np\n",
    "import pandas as pd\n",
    "import csv\n",
    "import calendar\n",
    "from pandas import DataFrame\n",
    "\n",
    "Collisions = pd.read_csv('vehicle_collisions.csv')\n",
    "\n",
    "d_trim = {'MONTH':[],'MANHATTAN':[],'NYC':[],'PERCENTAGE':[]}\n",
    "\n",
    "\n",
    "for a in range(1,13):\n",
    "    \n",
    "    year=Collisions[(Collisions['BOROUGH'] ==\"MANHATTAN\") & (Collisions['DATE'].apply(lambda x:x.split(\"/\")[2]) == \"16\") ]\n",
    "    new_york=((Collisions['DATE'].apply(lambda x:x.split(\"/\")[2]) == \"16\") & (Collisions['DATE'].apply(lambda x:x.split(\"/\")[0]) == str(a))).sum()\n",
    "    manhattan=(year['DATE'].apply(lambda x:x.split(\"/\")[0]) == str(a)).sum()\n",
    "    percentage=(manhattan/new_york).round(2)\n",
    "    \n",
    "    d_trim['MONTH'].append(calendar.month_name[int(a)])\n",
    "    d_trim['MANHATTAN'].append(manhattan)\n",
    "    d_trim['NYC'].append(new_york)\n",
    "    d_trim['PERCENTAGE'].append(percentage)\n",
    "        \n",
    "\n",
    "        \n",
    "df = DataFrame(d_trim, columns=['MONTH','MANHATTAN','NYC','PERCENTAGE'])\n",
    "df.to_csv('Que1Part1.csv')\n",
    "df.head()      "
   ]
  },
  {
   "cell_type": "code",
   "execution_count": null,
   "metadata": {
    "collapsed": true
   },
   "outputs": [],
   "source": []
  },
  {
   "cell_type": "code",
   "execution_count": null,
   "metadata": {
    "collapsed": true
   },
   "outputs": [],
   "source": []
  }
 ],
 "metadata": {
  "anaconda-cloud": {},
  "kernelspec": {
   "display_name": "Python [conda root]",
   "language": "python",
   "name": "conda-root-py"
  },
  "language_info": {
   "codemirror_mode": {
    "name": "ipython",
    "version": 3
   },
   "file_extension": ".py",
   "mimetype": "text/x-python",
   "name": "python",
   "nbconvert_exporter": "python",
   "pygments_lexer": "ipython3",
   "version": "3.5.2"
  }
 },
 "nbformat": 4,
 "nbformat_minor": 2
}
