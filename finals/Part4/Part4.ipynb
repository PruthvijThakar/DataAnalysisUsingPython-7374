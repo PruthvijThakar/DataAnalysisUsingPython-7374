{
 "cells": [
  {
   "cell_type": "code",
   "execution_count": 2,
   "metadata": {
    "collapsed": true
   },
   "outputs": [],
   "source": [
    "import time\n",
    "import datetime \n",
    "from datetime import datetime\n",
    "%matplotlib inline\n",
    "from matplotlib import pyplot as plt\n",
    "import csv\n",
    "import numpy as np\n",
    "import pandas as pd\n",
    "import nltk\n",
    "import plotly.plotly as py"
   ]
  },
  {
   "cell_type": "code",
   "execution_count": 3,
   "metadata": {
    "collapsed": false
   },
   "outputs": [
    {
     "data": {
      "text/html": [
       "<div>\n",
       "<table border=\"1\" class=\"dataframe\">\n",
       "  <thead>\n",
       "    <tr style=\"text-align: right;\">\n",
       "      <th></th>\n",
       "      <th>YEAR</th>\n",
       "      <th>MONTH</th>\n",
       "      <th>DAY</th>\n",
       "      <th>DAY_OF_WEEK</th>\n",
       "      <th>AIRLINE</th>\n",
       "      <th>FLIGHT_NUMBER</th>\n",
       "      <th>TAIL_NUMBER</th>\n",
       "      <th>ORIGIN_AIRPORT</th>\n",
       "      <th>DESTINATION_AIRPORT</th>\n",
       "      <th>SCHEDULED_DEPARTURE</th>\n",
       "      <th>...</th>\n",
       "      <th>ARRIVAL_TIME</th>\n",
       "      <th>ARRIVAL_DELAY</th>\n",
       "      <th>DIVERTED</th>\n",
       "      <th>CANCELLED</th>\n",
       "      <th>CANCELLATION_REASON</th>\n",
       "      <th>AIR_SYSTEM_DELAY</th>\n",
       "      <th>SECURITY_DELAY</th>\n",
       "      <th>AIRLINE_DELAY</th>\n",
       "      <th>LATE_AIRCRAFT_DELAY</th>\n",
       "      <th>WEATHER_DELAY</th>\n",
       "    </tr>\n",
       "  </thead>\n",
       "  <tbody>\n",
       "    <tr>\n",
       "      <th>0</th>\n",
       "      <td>2015</td>\n",
       "      <td>1</td>\n",
       "      <td>1</td>\n",
       "      <td>4</td>\n",
       "      <td>AS</td>\n",
       "      <td>98</td>\n",
       "      <td>N407AS</td>\n",
       "      <td>ANC</td>\n",
       "      <td>SEA</td>\n",
       "      <td>5</td>\n",
       "      <td>...</td>\n",
       "      <td>408.0</td>\n",
       "      <td>-22.0</td>\n",
       "      <td>0</td>\n",
       "      <td>0</td>\n",
       "      <td>NaN</td>\n",
       "      <td>NaN</td>\n",
       "      <td>NaN</td>\n",
       "      <td>NaN</td>\n",
       "      <td>NaN</td>\n",
       "      <td>NaN</td>\n",
       "    </tr>\n",
       "    <tr>\n",
       "      <th>1</th>\n",
       "      <td>2015</td>\n",
       "      <td>1</td>\n",
       "      <td>1</td>\n",
       "      <td>4</td>\n",
       "      <td>AA</td>\n",
       "      <td>2336</td>\n",
       "      <td>N3KUAA</td>\n",
       "      <td>LAX</td>\n",
       "      <td>PBI</td>\n",
       "      <td>10</td>\n",
       "      <td>...</td>\n",
       "      <td>741.0</td>\n",
       "      <td>-9.0</td>\n",
       "      <td>0</td>\n",
       "      <td>0</td>\n",
       "      <td>NaN</td>\n",
       "      <td>NaN</td>\n",
       "      <td>NaN</td>\n",
       "      <td>NaN</td>\n",
       "      <td>NaN</td>\n",
       "      <td>NaN</td>\n",
       "    </tr>\n",
       "  </tbody>\n",
       "</table>\n",
       "<p>2 rows × 31 columns</p>\n",
       "</div>"
      ],
      "text/plain": [
       "   YEAR  MONTH  DAY  DAY_OF_WEEK AIRLINE  FLIGHT_NUMBER TAIL_NUMBER  \\\n",
       "0  2015      1    1            4      AS             98      N407AS   \n",
       "1  2015      1    1            4      AA           2336      N3KUAA   \n",
       "\n",
       "  ORIGIN_AIRPORT DESTINATION_AIRPORT  SCHEDULED_DEPARTURE      ...        \\\n",
       "0            ANC                 SEA                    5      ...         \n",
       "1            LAX                 PBI                   10      ...         \n",
       "\n",
       "   ARRIVAL_TIME  ARRIVAL_DELAY  DIVERTED  CANCELLED  CANCELLATION_REASON  \\\n",
       "0         408.0          -22.0         0          0                  NaN   \n",
       "1         741.0           -9.0         0          0                  NaN   \n",
       "\n",
       "   AIR_SYSTEM_DELAY  SECURITY_DELAY  AIRLINE_DELAY  LATE_AIRCRAFT_DELAY  \\\n",
       "0               NaN             NaN            NaN                  NaN   \n",
       "1               NaN             NaN            NaN                  NaN   \n",
       "\n",
       "   WEATHER_DELAY  \n",
       "0            NaN  \n",
       "1            NaN  \n",
       "\n",
       "[2 rows x 31 columns]"
      ]
     },
     "execution_count": 3,
     "metadata": {},
     "output_type": "execute_result"
    }
   ],
   "source": [
    "df_airports = pd.read_csv('C:/Users/pruth/Desktop/Datasets/flights.csv/airports.csv')\n",
    "\n",
    "df_flight_paths =pd.read_csv('C:/Users/pruth/Desktop/Datasets/flights.csv/flights.csv',low_memory=False)\n",
    "df_flight_paths.head(2)"
   ]
  },
  {
   "cell_type": "code",
   "execution_count": 8,
   "metadata": {
    "collapsed": true
   },
   "outputs": [],
   "source": [
    "airlinename = pd.read_csv('C:/Users/pruth/Desktop/Datasets/flights.csv/airlines.csv')"
   ]
  },
  {
   "cell_type": "code",
   "execution_count": 13,
   "metadata": {
    "collapsed": false
   },
   "outputs": [
    {
     "data": {
      "text/plain": [
       "{'AA': 'American Airlines Inc.',\n",
       " 'AS': 'Alaska Airlines Inc.',\n",
       " 'B6': 'JetBlue Airways',\n",
       " 'DL': 'Delta Air Lines Inc.',\n",
       " 'EV': 'Atlantic Southeast Airlines',\n",
       " 'F9': 'Frontier Airlines Inc.',\n",
       " 'HA': 'Hawaiian Airlines Inc.',\n",
       " 'MQ': 'American Eagle Airlines Inc.',\n",
       " 'NK': 'Spirit Air Lines',\n",
       " 'OO': 'Skywest Airlines Inc.',\n",
       " 'UA': 'United Air Lines Inc.',\n",
       " 'US': 'US Airways Inc.',\n",
       " 'VX': 'Virgin America',\n",
       " 'WN': 'Southwest Airlines Co.'}"
      ]
     },
     "execution_count": 13,
     "metadata": {},
     "output_type": "execute_result"
    }
   ],
   "source": [
    "airlines_desc = dict(zip(airlinename['IATA_CODE'],airlinename['AIRLINE']))\n",
    "airlines_desc"
   ]
  },
  {
   "cell_type": "code",
   "execution_count": 20,
   "metadata": {
    "collapsed": false
   },
   "outputs": [
    {
     "data": {
      "text/plain": [
       "[('ADQ', 'Kodiak Airport'),\n",
       " ('MRY', 'Monterey Regional Airport\\xa0(Monterey Peninsula Airport)'),\n",
       " ('ORD', \"Chicago O'Hare International Airport\"),\n",
       " ('ABR', 'Aberdeen Regional Airport'),\n",
       " ('LBE', 'Arnold Palmer Regional Airport'),\n",
       " ('PPG', 'Pago Pago International Airport (Tafuna Airport)'),\n",
       " ('ABQ', 'Albuquerque International Sunport'),\n",
       " ('BQN', 'Rafael Hernández Airport'),\n",
       " ('BDL', 'Bradley International Airport'),\n",
       " ('PSP', 'Palm Springs International Airport')]"
      ]
     },
     "execution_count": 20,
     "metadata": {},
     "output_type": "execute_result"
    }
   ],
   "source": [
    "\n",
    "airport_desc = dict(zip(df_airports['IATA_CODE'],df_airports['AIRPORT']))\n",
    "\n",
    "from itertools import islice\n",
    "\n",
    "def take(n, iterable):\n",
    "    \"Return first n items of the iterable as a list\"\n",
    "    return list(islice(iterable, n))\n",
    "\n",
    "\n",
    "n_items = take(10, airport_desc.items())\n",
    "n_items"
   ]
  },
  {
   "cell_type": "code",
   "execution_count": 11,
   "metadata": {
    "collapsed": true
   },
   "outputs": [],
   "source": [
    "df_flight_paths = df_flight_paths[df_flight_paths.ORIGIN_AIRPORT.str.len() == 3]"
   ]
  },
  {
   "cell_type": "code",
   "execution_count": 29,
   "metadata": {
    "collapsed": false
   },
   "outputs": [],
   "source": [
    "df_flight_paths['Origin_desc']=df_flight_paths['ORIGIN_AIRPORT'].apply(lambda x:airport_desc[x])\n",
    "\n",
    "df_flight_paths['Arrival_desc']=df_flight_paths['DESTINATION_AIRPORT'].apply(lambda x:airport_desc[x])\n"
   ]
  },
  {
   "cell_type": "code",
   "execution_count": 130,
   "metadata": {
    "collapsed": false
   },
   "outputs": [
    {
     "data": {
      "text/html": [
       "<div>\n",
       "<table border=\"1\" class=\"dataframe\">\n",
       "  <thead>\n",
       "    <tr style=\"text-align: right;\">\n",
       "      <th></th>\n",
       "      <th>Total_Scheduled_Departure</th>\n",
       "      <th>Canceled_Flights</th>\n",
       "      <th>Operated_Flights</th>\n",
       "    </tr>\n",
       "    <tr>\n",
       "      <th>Origin_desc</th>\n",
       "      <th></th>\n",
       "      <th></th>\n",
       "      <th></th>\n",
       "    </tr>\n",
       "  </thead>\n",
       "  <tbody>\n",
       "    <tr>\n",
       "      <th>Aberdeen Regional Airport</th>\n",
       "      <td>671</td>\n",
       "      <td>8</td>\n",
       "      <td>663</td>\n",
       "    </tr>\n",
       "    <tr>\n",
       "      <th>Abilene Regional Airport</th>\n",
       "      <td>2329</td>\n",
       "      <td>97</td>\n",
       "      <td>2232</td>\n",
       "    </tr>\n",
       "    <tr>\n",
       "      <th>Abraham Lincoln Capital Airport</th>\n",
       "      <td>1587</td>\n",
       "      <td>65</td>\n",
       "      <td>1522</td>\n",
       "    </tr>\n",
       "    <tr>\n",
       "      <th>Adak Airport</th>\n",
       "      <td>96</td>\n",
       "      <td>7</td>\n",
       "      <td>89</td>\n",
       "    </tr>\n",
       "    <tr>\n",
       "      <th>Akron-Canton Regional Airport</th>\n",
       "      <td>6100</td>\n",
       "      <td>100</td>\n",
       "      <td>6000</td>\n",
       "    </tr>\n",
       "  </tbody>\n",
       "</table>\n",
       "</div>"
      ],
      "text/plain": [
       "                                 Total_Scheduled_Departure  Canceled_Flights  \\\n",
       "Origin_desc                                                                    \n",
       "Aberdeen Regional Airport                              671                 8   \n",
       "Abilene Regional Airport                              2329                97   \n",
       "Abraham Lincoln Capital Airport                       1587                65   \n",
       "Adak Airport                                            96                 7   \n",
       "Akron-Canton Regional Airport                         6100               100   \n",
       "\n",
       "                                 Operated_Flights  \n",
       "Origin_desc                                        \n",
       "Aberdeen Regional Airport                     663  \n",
       "Abilene Regional Airport                     2232  \n",
       "Abraham Lincoln Capital Airport              1522  \n",
       "Adak Airport                                   89  \n",
       "Akron-Canton Regional Airport                6000  "
      ]
     },
     "execution_count": 130,
     "metadata": {},
     "output_type": "execute_result"
    }
   ],
   "source": [
    "airport_rank = pd.DataFrame(df_flight_paths.groupby('Origin_desc')['SCHEDULED_DEPARTURE'].count())\n",
    "airport_rank['Canceled_Flights']=df_flight_paths.groupby('Origin_desc')['CANCELLED'].sum()\n",
    "airport_rank['Operated_Flights']=airport_rank['SCHEDULED_DEPARTURE']-airport_rank['Canceled_Flights']\n",
    "airport_rank.rename(columns={'SCHEDULED_DEPARTURE' : 'Total_Scheduled_Departure'}, inplace=True)\n",
    "airport_rank.head()   "
   ]
  },
  {
   "cell_type": "code",
   "execution_count": 35,
   "metadata": {
    "collapsed": true
   },
   "outputs": [],
   "source": [
    "airport_rank.to_csv('AirportsEfficiency.csv')"
   ]
  },
  {
   "cell_type": "code",
   "execution_count": 44,
   "metadata": {
    "collapsed": false
   },
   "outputs": [
    {
     "data": {
      "text/html": [
       "<div>\n",
       "<table border=\"1\" class=\"dataframe\">\n",
       "  <thead>\n",
       "    <tr style=\"text-align: right;\">\n",
       "      <th></th>\n",
       "      <th>Total_Scheduled_Departure</th>\n",
       "      <th>Canceled_Flights</th>\n",
       "      <th>Operated_Flights</th>\n",
       "    </tr>\n",
       "    <tr>\n",
       "      <th>Origin_desc</th>\n",
       "      <th></th>\n",
       "      <th></th>\n",
       "      <th></th>\n",
       "    </tr>\n",
       "  </thead>\n",
       "  <tbody>\n",
       "    <tr>\n",
       "      <th>Chicago O'Hare International Airport</th>\n",
       "      <td>285884</td>\n",
       "      <td>8548</td>\n",
       "      <td>277336</td>\n",
       "    </tr>\n",
       "    <tr>\n",
       "      <th>Dallas/Fort Worth International Airport</th>\n",
       "      <td>239551</td>\n",
       "      <td>6254</td>\n",
       "      <td>233297</td>\n",
       "    </tr>\n",
       "    <tr>\n",
       "      <th>LaGuardia Airport (Marine Air Terminal)</th>\n",
       "      <td>99605</td>\n",
       "      <td>4531</td>\n",
       "      <td>95074</td>\n",
       "    </tr>\n",
       "    <tr>\n",
       "      <th>Newark Liberty International Airport</th>\n",
       "      <td>101772</td>\n",
       "      <td>3110</td>\n",
       "      <td>98662</td>\n",
       "    </tr>\n",
       "    <tr>\n",
       "      <th>Gen. Edward Lawrence Logan International Airport</th>\n",
       "      <td>107847</td>\n",
       "      <td>2654</td>\n",
       "      <td>105193</td>\n",
       "    </tr>\n",
       "    <tr>\n",
       "      <th>Hartsfield-Jackson Atlanta International Airport</th>\n",
       "      <td>346836</td>\n",
       "      <td>2557</td>\n",
       "      <td>344279</td>\n",
       "    </tr>\n",
       "    <tr>\n",
       "      <th>Los Angeles International Airport</th>\n",
       "      <td>194673</td>\n",
       "      <td>2164</td>\n",
       "      <td>192509</td>\n",
       "    </tr>\n",
       "    <tr>\n",
       "      <th>San Francisco International Airport</th>\n",
       "      <td>148008</td>\n",
       "      <td>2148</td>\n",
       "      <td>145860</td>\n",
       "    </tr>\n",
       "    <tr>\n",
       "      <th>George Bush Intercontinental Airport</th>\n",
       "      <td>146622</td>\n",
       "      <td>2130</td>\n",
       "      <td>144492</td>\n",
       "    </tr>\n",
       "    <tr>\n",
       "      <th>Denver International Airport</th>\n",
       "      <td>196055</td>\n",
       "      <td>2123</td>\n",
       "      <td>193932</td>\n",
       "    </tr>\n",
       "  </tbody>\n",
       "</table>\n",
       "</div>"
      ],
      "text/plain": [
       "                                                  Total_Scheduled_Departure  \\\n",
       "Origin_desc                                                                   \n",
       "Chicago O'Hare International Airport                                 285884   \n",
       "Dallas/Fort Worth International Airport                              239551   \n",
       "LaGuardia Airport (Marine Air Terminal)                               99605   \n",
       "Newark Liberty International Airport                                 101772   \n",
       "Gen. Edward Lawrence Logan International Airport                     107847   \n",
       "Hartsfield-Jackson Atlanta International Airport                     346836   \n",
       "Los Angeles International Airport                                    194673   \n",
       "San Francisco International Airport                                  148008   \n",
       "George Bush Intercontinental Airport                                 146622   \n",
       "Denver International Airport                                         196055   \n",
       "\n",
       "                                                  Canceled_Flights  \\\n",
       "Origin_desc                                                          \n",
       "Chicago O'Hare International Airport                          8548   \n",
       "Dallas/Fort Worth International Airport                       6254   \n",
       "LaGuardia Airport (Marine Air Terminal)                       4531   \n",
       "Newark Liberty International Airport                          3110   \n",
       "Gen. Edward Lawrence Logan International Airport              2654   \n",
       "Hartsfield-Jackson Atlanta International Airport              2557   \n",
       "Los Angeles International Airport                             2164   \n",
       "San Francisco International Airport                           2148   \n",
       "George Bush Intercontinental Airport                          2130   \n",
       "Denver International Airport                                  2123   \n",
       "\n",
       "                                                  Operated_Flights  \n",
       "Origin_desc                                                         \n",
       "Chicago O'Hare International Airport                        277336  \n",
       "Dallas/Fort Worth International Airport                     233297  \n",
       "LaGuardia Airport (Marine Air Terminal)                      95074  \n",
       "Newark Liberty International Airport                         98662  \n",
       "Gen. Edward Lawrence Logan International Airport            105193  \n",
       "Hartsfield-Jackson Atlanta International Airport            344279  \n",
       "Los Angeles International Airport                           192509  \n",
       "San Francisco International Airport                         145860  \n",
       "George Bush Intercontinental Airport                        144492  \n",
       "Denver International Airport                                193932  "
      ]
     },
     "execution_count": 44,
     "metadata": {},
     "output_type": "execute_result"
    }
   ],
   "source": [
    "cancel_max = airport_rank.nlargest(10, 'Canceled_Flights', keep='first')\n",
    "\n",
    "cancel_max"
   ]
  },
  {
   "cell_type": "markdown",
   "metadata": {},
   "source": [
    "# This dataframe displays the airport with most amount of Cancelled Flights and Chicago O'Hare International Airport being at the top."
   ]
  },
  {
   "cell_type": "code",
   "execution_count": 57,
   "metadata": {
    "collapsed": false
   },
   "outputs": [
    {
     "data": {
      "text/html": [
       "<div>\n",
       "<table border=\"1\" class=\"dataframe\">\n",
       "  <thead>\n",
       "    <tr style=\"text-align: right;\">\n",
       "      <th></th>\n",
       "      <th>Canceled_Flights</th>\n",
       "    </tr>\n",
       "    <tr>\n",
       "      <th>Origin_desc</th>\n",
       "      <th></th>\n",
       "    </tr>\n",
       "  </thead>\n",
       "  <tbody>\n",
       "    <tr>\n",
       "      <th>Chicago O'Hare International Airport</th>\n",
       "      <td>8548</td>\n",
       "    </tr>\n",
       "    <tr>\n",
       "      <th>Dallas/Fort Worth International Airport</th>\n",
       "      <td>6254</td>\n",
       "    </tr>\n",
       "    <tr>\n",
       "      <th>LaGuardia Airport (Marine Air Terminal)</th>\n",
       "      <td>4531</td>\n",
       "    </tr>\n",
       "    <tr>\n",
       "      <th>Newark Liberty International Airport</th>\n",
       "      <td>3110</td>\n",
       "    </tr>\n",
       "    <tr>\n",
       "      <th>Gen. Edward Lawrence Logan International Airport</th>\n",
       "      <td>2654</td>\n",
       "    </tr>\n",
       "    <tr>\n",
       "      <th>Hartsfield-Jackson Atlanta International Airport</th>\n",
       "      <td>2557</td>\n",
       "    </tr>\n",
       "    <tr>\n",
       "      <th>Los Angeles International Airport</th>\n",
       "      <td>2164</td>\n",
       "    </tr>\n",
       "    <tr>\n",
       "      <th>San Francisco International Airport</th>\n",
       "      <td>2148</td>\n",
       "    </tr>\n",
       "    <tr>\n",
       "      <th>George Bush Intercontinental Airport</th>\n",
       "      <td>2130</td>\n",
       "    </tr>\n",
       "    <tr>\n",
       "      <th>Denver International Airport</th>\n",
       "      <td>2123</td>\n",
       "    </tr>\n",
       "  </tbody>\n",
       "</table>\n",
       "</div>"
      ],
      "text/plain": [
       "                                                  Canceled_Flights\n",
       "Origin_desc                                                       \n",
       "Chicago O'Hare International Airport                          8548\n",
       "Dallas/Fort Worth International Airport                       6254\n",
       "LaGuardia Airport (Marine Air Terminal)                       4531\n",
       "Newark Liberty International Airport                          3110\n",
       "Gen. Edward Lawrence Logan International Airport              2654\n",
       "Hartsfield-Jackson Atlanta International Airport              2557\n",
       "Los Angeles International Airport                             2164\n",
       "San Francisco International Airport                           2148\n",
       "George Bush Intercontinental Airport                          2130\n",
       "Denver International Airport                                  2123"
      ]
     },
     "execution_count": 57,
     "metadata": {},
     "output_type": "execute_result"
    }
   ],
   "source": [
    "new_cancel_max = cancel_max.filter(['Canceled_Flights'], axis=1)\n",
    "new_cancel_max"
   ]
  },
  {
   "cell_type": "code",
   "execution_count": 92,
   "metadata": {
    "collapsed": false
   },
   "outputs": [
    {
     "data": {
      "text/plain": [
       "<matplotlib.text.Text at 0x1dd814f6780>"
      ]
     },
     "execution_count": 92,
     "metadata": {},
     "output_type": "execute_result"
    },
    {
     "data": {
      "image/png": "[encoded data removed]",
      "text/plain": [
       "<matplotlib.figure.Figure at 0x1dd81bd7b00>"
      ]
     },
     "metadata": {},
     "output_type": "display_data"
    }
   ],
   "source": [
    "new_cancel_max.plot(kind='barh',y ='Canceled_Flights')\n",
    "plt.xlabel('Number of Cancelled Flights')\n",
    "plt.title('Airports with maximum number of Cancelled Flights')"
   ]
  },
  {
   "cell_type": "code",
   "execution_count": 121,
   "metadata": {
    "collapsed": false
   },
   "outputs": [],
   "source": [
    "airport_rank['Efficiency']=airport_rank['Operated_Flights']/airport_rank['Total_Scheduled_Departure']"
   ]
  },
  {
   "cell_type": "code",
   "execution_count": 123,
   "metadata": {
    "collapsed": false
   },
   "outputs": [
    {
     "data": {
      "text/html": [
       "<div>\n",
       "<table border=\"1\" class=\"dataframe\">\n",
       "  <thead>\n",
       "    <tr style=\"text-align: right;\">\n",
       "      <th></th>\n",
       "      <th>Efficiency</th>\n",
       "    </tr>\n",
       "    <tr>\n",
       "      <th>Origin_desc</th>\n",
       "      <th></th>\n",
       "    </tr>\n",
       "  </thead>\n",
       "  <tbody>\n",
       "    <tr>\n",
       "      <th>Aberdeen Regional Airport</th>\n",
       "      <td>0.988077</td>\n",
       "    </tr>\n",
       "    <tr>\n",
       "      <th>Abilene Regional Airport</th>\n",
       "      <td>0.958351</td>\n",
       "    </tr>\n",
       "    <tr>\n",
       "      <th>Abraham Lincoln Capital Airport</th>\n",
       "      <td>0.959042</td>\n",
       "    </tr>\n",
       "    <tr>\n",
       "      <th>Adak Airport</th>\n",
       "      <td>0.927083</td>\n",
       "    </tr>\n",
       "    <tr>\n",
       "      <th>Akron-Canton Regional Airport</th>\n",
       "      <td>0.983607</td>\n",
       "    </tr>\n",
       "  </tbody>\n",
       "</table>\n",
       "</div>"
      ],
      "text/plain": [
       "                                 Efficiency\n",
       "Origin_desc                                \n",
       "Aberdeen Regional Airport          0.988077\n",
       "Abilene Regional Airport           0.958351\n",
       "Abraham Lincoln Capital Airport    0.959042\n",
       "Adak Airport                       0.927083\n",
       "Akron-Canton Regional Airport      0.983607"
      ]
     },
     "execution_count": 123,
     "metadata": {},
     "output_type": "execute_result"
    }
   ],
   "source": [
    "efficient_airport = airport_rank.filter(['Efficiency'], axis=1)\n",
    "efficient_airport.head()      "
   ]
  },
  {
   "cell_type": "code",
   "execution_count": 124,
   "metadata": {
    "collapsed": false
   },
   "outputs": [
    {
     "data": {
      "text/html": [
       "<div>\n",
       "<table border=\"1\" class=\"dataframe\">\n",
       "  <thead>\n",
       "    <tr style=\"text-align: right;\">\n",
       "      <th></th>\n",
       "      <th>Efficiency</th>\n",
       "    </tr>\n",
       "    <tr>\n",
       "      <th>Origin_desc</th>\n",
       "      <th></th>\n",
       "    </tr>\n",
       "  </thead>\n",
       "  <tbody>\n",
       "    <tr>\n",
       "      <th>Dillingham Airport</th>\n",
       "      <td>1.0</td>\n",
       "    </tr>\n",
       "    <tr>\n",
       "      <th>King Salmon Airport</th>\n",
       "      <td>1.0</td>\n",
       "    </tr>\n",
       "    <tr>\n",
       "      <th>Lewiston-Nez Perce County Airport</th>\n",
       "      <td>1.0</td>\n",
       "    </tr>\n",
       "    <tr>\n",
       "      <th>Martha's Vineyard Airport</th>\n",
       "      <td>1.0</td>\n",
       "    </tr>\n",
       "    <tr>\n",
       "      <th>Pago Pago International Airport (Tafuna Airport)</th>\n",
       "      <td>1.0</td>\n",
       "    </tr>\n",
       "  </tbody>\n",
       "</table>\n",
       "</div>"
      ],
      "text/plain": [
       "                                                  Efficiency\n",
       "Origin_desc                                                 \n",
       "Dillingham Airport                                       1.0\n",
       "King Salmon Airport                                      1.0\n",
       "Lewiston-Nez Perce County Airport                        1.0\n",
       "Martha's Vineyard Airport                                1.0\n",
       "Pago Pago International Airport (Tafuna Airport)         1.0"
      ]
     },
     "execution_count": 124,
     "metadata": {},
     "output_type": "execute_result"
    }
   ],
   "source": [
    "eff_max = efficient_airport.nlargest(2, 'Efficiency', keep='first')\n",
    "eff_max.head()\n",
    "# eff_max.plot(kind='barh',y ='Efficiency')\n",
    "# plt.xlabel('Flight Efficiency')\n",
    "# plt.title('Airports with maximum ratio of Scheduled Flight vs Operated Flights')"
   ]
  },
  {
   "cell_type": "code",
   "execution_count": 125,
   "metadata": {
    "collapsed": false
   },
   "outputs": [
    {
     "data": {
      "text/html": [
       "<div>\n",
       "<table border=\"1\" class=\"dataframe\">\n",
       "  <thead>\n",
       "    <tr style=\"text-align: right;\">\n",
       "      <th></th>\n",
       "      <th>Efficiency</th>\n",
       "    </tr>\n",
       "    <tr>\n",
       "      <th>Origin_desc</th>\n",
       "      <th></th>\n",
       "    </tr>\n",
       "  </thead>\n",
       "  <tbody>\n",
       "    <tr>\n",
       "      <th>Ithaca Tompkins Regional Airport</th>\n",
       "      <td>0.882353</td>\n",
       "    </tr>\n",
       "    <tr>\n",
       "      <th>Mammoth Yosemite Airport</th>\n",
       "      <td>0.897436</td>\n",
       "    </tr>\n",
       "    <tr>\n",
       "      <th>Friedman Memorial Airport</th>\n",
       "      <td>0.907950</td>\n",
       "    </tr>\n",
       "    <tr>\n",
       "      <th>Devils Lake Regional Airport</th>\n",
       "      <td>0.912381</td>\n",
       "    </tr>\n",
       "    <tr>\n",
       "      <th>Del Norte County Airport (Jack McNamara Field)</th>\n",
       "      <td>0.915789</td>\n",
       "    </tr>\n",
       "    <tr>\n",
       "      <th>Aspen-Pitkin County Airport</th>\n",
       "      <td>0.922515</td>\n",
       "    </tr>\n",
       "    <tr>\n",
       "      <th>Muskegon County Airport</th>\n",
       "      <td>0.926537</td>\n",
       "    </tr>\n",
       "    <tr>\n",
       "      <th>Adak Airport</th>\n",
       "      <td>0.927083</td>\n",
       "    </tr>\n",
       "    <tr>\n",
       "      <th>Jamestown Regional Airport</th>\n",
       "      <td>0.927340</td>\n",
       "    </tr>\n",
       "    <tr>\n",
       "      <th>Northeast Florida Regional Airport (St. Augustine Airport)</th>\n",
       "      <td>0.929032</td>\n",
       "    </tr>\n",
       "  </tbody>\n",
       "</table>\n",
       "</div>"
      ],
      "text/plain": [
       "                                                    Efficiency\n",
       "Origin_desc                                                   \n",
       "Ithaca Tompkins Regional Airport                      0.882353\n",
       "Mammoth Yosemite Airport                              0.897436\n",
       "Friedman Memorial Airport                             0.907950\n",
       "Devils Lake Regional Airport                          0.912381\n",
       "Del Norte County Airport (Jack McNamara Field)        0.915789\n",
       "Aspen-Pitkin County Airport                           0.922515\n",
       "Muskegon County Airport                               0.926537\n",
       "Adak Airport                                          0.927083\n",
       "Jamestown Regional Airport                            0.927340\n",
       "Northeast Florida Regional Airport (St. Augusti...    0.929032"
      ]
     },
     "execution_count": 125,
     "metadata": {},
     "output_type": "execute_result"
    }
   ],
   "source": [
    "eff_min = efficient_airport.nsmallest(10, 'Efficiency', keep='first')\n",
    "eff_min"
   ]
  },
  {
   "cell_type": "markdown",
   "metadata": {},
   "source": [
    "# These are the airports with least efficiency for the number of flights Scheduled VS number of lights cancelled."
   ]
  },
  {
   "cell_type": "code",
   "execution_count": 137,
   "metadata": {
    "collapsed": false
   },
   "outputs": [
    {
     "data": {
      "text/html": [
       "<div>\n",
       "<table border=\"1\" class=\"dataframe\">\n",
       "  <thead>\n",
       "    <tr style=\"text-align: right;\">\n",
       "      <th></th>\n",
       "      <th>Total_Scheduled_Departure</th>\n",
       "      <th>Canceled_Flights</th>\n",
       "      <th>Operated_Flights</th>\n",
       "      <th>Total_Delays</th>\n",
       "    </tr>\n",
       "    <tr>\n",
       "      <th>Origin_desc</th>\n",
       "      <th></th>\n",
       "      <th></th>\n",
       "      <th></th>\n",
       "      <th></th>\n",
       "    </tr>\n",
       "  </thead>\n",
       "  <tbody>\n",
       "    <tr>\n",
       "      <th>Aberdeen Regional Airport</th>\n",
       "      <td>671</td>\n",
       "      <td>8</td>\n",
       "      <td>663</td>\n",
       "      <td>134</td>\n",
       "    </tr>\n",
       "    <tr>\n",
       "      <th>Abilene Regional Airport</th>\n",
       "      <td>2329</td>\n",
       "      <td>97</td>\n",
       "      <td>2232</td>\n",
       "      <td>742</td>\n",
       "    </tr>\n",
       "    <tr>\n",
       "      <th>Abraham Lincoln Capital Airport</th>\n",
       "      <td>1587</td>\n",
       "      <td>65</td>\n",
       "      <td>1522</td>\n",
       "      <td>535</td>\n",
       "    </tr>\n",
       "    <tr>\n",
       "      <th>Adak Airport</th>\n",
       "      <td>96</td>\n",
       "      <td>7</td>\n",
       "      <td>89</td>\n",
       "      <td>21</td>\n",
       "    </tr>\n",
       "    <tr>\n",
       "      <th>Akron-Canton Regional Airport</th>\n",
       "      <td>6100</td>\n",
       "      <td>100</td>\n",
       "      <td>6000</td>\n",
       "      <td>2237</td>\n",
       "    </tr>\n",
       "  </tbody>\n",
       "</table>\n",
       "</div>"
      ],
      "text/plain": [
       "                                 Total_Scheduled_Departure  Canceled_Flights  \\\n",
       "Origin_desc                                                                    \n",
       "Aberdeen Regional Airport                              671                 8   \n",
       "Abilene Regional Airport                              2329                97   \n",
       "Abraham Lincoln Capital Airport                       1587                65   \n",
       "Adak Airport                                            96                 7   \n",
       "Akron-Canton Regional Airport                         6100               100   \n",
       "\n",
       "                                 Operated_Flights  Total_Delays  \n",
       "Origin_desc                                                      \n",
       "Aberdeen Regional Airport                     663           134  \n",
       "Abilene Regional Airport                     2232           742  \n",
       "Abraham Lincoln Capital Airport              1522           535  \n",
       "Adak Airport                                   89            21  \n",
       "Akron-Canton Regional Airport                6000          2237  "
      ]
     },
     "execution_count": 137,
     "metadata": {},
     "output_type": "execute_result"
    }
   ],
   "source": [
    "df_flights = df_flight_paths.copy()\n",
    "df_flights['DEPARTURE_DELAY'] = df_flights['DEPARTURE_DELAY'].apply(lambda x: 1 if(x>0) else 0)\n",
    "df_flights['DEPARTURE_DELAY'].head()\n",
    "airport_rank['Total_Delays'] = df_flights.groupby('Arrival_desc')['DEPARTURE_DELAY'].sum()\n"
   ]
  },
  {
   "cell_type": "code",
   "execution_count": 141,
   "metadata": {
    "collapsed": false
   },
   "outputs": [],
   "source": [
    "new_delays = airport_rank.filter(['Total_Delays'], axis=1)\n",
    "delays_max = airport_rank.nlargest(10, 'Canceled_Flights', keep='first')"
   ]
  },
  {
   "cell_type": "code",
   "execution_count": 142,
   "metadata": {
    "collapsed": false
   },
   "outputs": [
    {
     "data": {
      "text/plain": [
       "<matplotlib.text.Text at 0x1dd853c0400>"
      ]
     },
     "execution_count": 142,
     "metadata": {},
     "output_type": "execute_result"
    },
    {
     "data": {
      "image/png": "[encoded data removed]",
      "text/plain": [
       "<matplotlib.figure.Figure at 0x1dd852ae588>"
      ]
     },
     "metadata": {},
     "output_type": "display_data"
    }
   ],
   "source": [
    "delays_max.plot(kind='barh',y ='Total_Delays')\n",
    "plt.xlabel('Number of Delayed Flights')\n",
    "plt.title('Airports with maximum number of Delayed Flights')"
   ]
  }
 ],
 "metadata": {
  "anaconda-cloud": {},
  "kernelspec": {
   "display_name": "Python [conda root]",
   "language": "python",
   "name": "conda-root-py"
  },
  "language_info": {
   "codemirror_mode": {
    "name": "ipython",
    "version": 3
   },
   "file_extension": ".py",
   "mimetype": "text/x-python",
   "name": "python",
   "nbconvert_exporter": "python",
   "pygments_lexer": "ipython3",
   "version": "3.5.2"
  }
 },
 "nbformat": 4,
 "nbformat_minor": 2
}
