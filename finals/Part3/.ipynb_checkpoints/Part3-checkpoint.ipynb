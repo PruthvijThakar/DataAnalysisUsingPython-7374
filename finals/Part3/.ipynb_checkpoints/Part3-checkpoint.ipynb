{
 "cells": [
  {
   "cell_type": "code",
   "execution_count": 6,
   "metadata": {
    "collapsed": true
   },
   "outputs": [],
   "source": [
    "import time\n",
    "import datetime \n",
    "from datetime import datetime\n",
    "%matplotlib inline\n",
    "from matplotlib import pyplot as plt\n",
    "import csv\n",
    "import numpy as np\n",
    "import pandas as pd\n",
    "import nltk"
   ]
  },
  {
   "cell_type": "code",
   "execution_count": 5,
   "metadata": {
    "collapsed": false
   },
   "outputs": [
    {
     "data": {
      "text/html": [
       "<div>\n",
       "<table border=\"1\" class=\"dataframe\">\n",
       "  <thead>\n",
       "    <tr style=\"text-align: right;\">\n",
       "      <th></th>\n",
       "      <th>YEAR</th>\n",
       "      <th>MONTH</th>\n",
       "      <th>DAY</th>\n",
       "      <th>DAY_OF_WEEK</th>\n",
       "      <th>AIRLINE</th>\n",
       "      <th>FLIGHT_NUMBER</th>\n",
       "      <th>TAIL_NUMBER</th>\n",
       "      <th>ORIGIN_AIRPORT</th>\n",
       "      <th>DESTINATION_AIRPORT</th>\n",
       "      <th>SCHEDULED_DEPARTURE</th>\n",
       "      <th>...</th>\n",
       "      <th>ARRIVAL_TIME</th>\n",
       "      <th>ARRIVAL_DELAY</th>\n",
       "      <th>DIVERTED</th>\n",
       "      <th>CANCELLED</th>\n",
       "      <th>CANCELLATION_REASON</th>\n",
       "      <th>AIR_SYSTEM_DELAY</th>\n",
       "      <th>SECURITY_DELAY</th>\n",
       "      <th>AIRLINE_DELAY</th>\n",
       "      <th>LATE_AIRCRAFT_DELAY</th>\n",
       "      <th>WEATHER_DELAY</th>\n",
       "    </tr>\n",
       "  </thead>\n",
       "  <tbody>\n",
       "    <tr>\n",
       "      <th>0</th>\n",
       "      <td>2015</td>\n",
       "      <td>1</td>\n",
       "      <td>1</td>\n",
       "      <td>4</td>\n",
       "      <td>AS</td>\n",
       "      <td>98</td>\n",
       "      <td>N407AS</td>\n",
       "      <td>ANC</td>\n",
       "      <td>SEA</td>\n",
       "      <td>5</td>\n",
       "      <td>...</td>\n",
       "      <td>408.0</td>\n",
       "      <td>-22.0</td>\n",
       "      <td>0</td>\n",
       "      <td>0</td>\n",
       "      <td>NaN</td>\n",
       "      <td>NaN</td>\n",
       "      <td>NaN</td>\n",
       "      <td>NaN</td>\n",
       "      <td>NaN</td>\n",
       "      <td>NaN</td>\n",
       "    </tr>\n",
       "    <tr>\n",
       "      <th>1</th>\n",
       "      <td>2015</td>\n",
       "      <td>1</td>\n",
       "      <td>1</td>\n",
       "      <td>4</td>\n",
       "      <td>AA</td>\n",
       "      <td>2336</td>\n",
       "      <td>N3KUAA</td>\n",
       "      <td>LAX</td>\n",
       "      <td>PBI</td>\n",
       "      <td>10</td>\n",
       "      <td>...</td>\n",
       "      <td>741.0</td>\n",
       "      <td>-9.0</td>\n",
       "      <td>0</td>\n",
       "      <td>0</td>\n",
       "      <td>NaN</td>\n",
       "      <td>NaN</td>\n",
       "      <td>NaN</td>\n",
       "      <td>NaN</td>\n",
       "      <td>NaN</td>\n",
       "      <td>NaN</td>\n",
       "    </tr>\n",
       "  </tbody>\n",
       "</table>\n",
       "<p>2 rows × 31 columns</p>\n",
       "</div>"
      ],
      "text/plain": [
       "   YEAR  MONTH  DAY  DAY_OF_WEEK AIRLINE  FLIGHT_NUMBER TAIL_NUMBER  \\\n",
       "0  2015      1    1            4      AS             98      N407AS   \n",
       "1  2015      1    1            4      AA           2336      N3KUAA   \n",
       "\n",
       "  ORIGIN_AIRPORT DESTINATION_AIRPORT  SCHEDULED_DEPARTURE      ...        \\\n",
       "0            ANC                 SEA                    5      ...         \n",
       "1            LAX                 PBI                   10      ...         \n",
       "\n",
       "   ARRIVAL_TIME  ARRIVAL_DELAY  DIVERTED  CANCELLED  CANCELLATION_REASON  \\\n",
       "0         408.0          -22.0         0          0                  NaN   \n",
       "1         741.0           -9.0         0          0                  NaN   \n",
       "\n",
       "   AIR_SYSTEM_DELAY  SECURITY_DELAY  AIRLINE_DELAY  LATE_AIRCRAFT_DELAY  \\\n",
       "0               NaN             NaN            NaN                  NaN   \n",
       "1               NaN             NaN            NaN                  NaN   \n",
       "\n",
       "   WEATHER_DELAY  \n",
       "0            NaN  \n",
       "1            NaN  \n",
       "\n",
       "[2 rows x 31 columns]"
      ]
     },
     "execution_count": 5,
     "metadata": {},
     "output_type": "execute_result"
    }
   ],
   "source": [
    "import plotly.plotly as py\n",
    "import pandas as pd\n",
    "\n",
    "df_airports = pd.read_csv('C:/Users/pruth/Desktop/Datasets/flights.csv/airports.csv')\n",
    "\n",
    "\n",
    "df_flight_paths =pd.read_csv('C:/Users/pruth/Desktop/Datasets/flights.csv/flights.csv',low_memory=False)\n",
    "df_flight_paths.head(2)"
   ]
  },
  {
   "cell_type": "code",
   "execution_count": 7,
   "metadata": {
    "collapsed": false
   },
   "outputs": [
    {
     "data": {
      "text/html": [
       "<div>\n",
       "<table border=\"1\" class=\"dataframe\">\n",
       "  <thead>\n",
       "    <tr style=\"text-align: right;\">\n",
       "      <th></th>\n",
       "      <th>AIRLINE</th>\n",
       "      <th>ORIGIN_AIRPORT</th>\n",
       "      <th>DESTINATION_AIRPORT</th>\n",
       "      <th>MONTH</th>\n",
       "      <th>AIRLINE_DELAY</th>\n",
       "      <th>LATE_AIRCRAFT_DELAY</th>\n",
       "      <th>SECURITY_DELAY</th>\n",
       "      <th>DEPARTURE_DELAY</th>\n",
       "      <th>ARRIVAL_DELAY</th>\n",
       "      <th>AIR_SYSTEM_DELAY</th>\n",
       "      <th>TOTAL_DELAY_AIRLINE</th>\n",
       "      <th>TOTAL_DELAY_SOURCE_AIRPORT</th>\n",
       "      <th>TOTAL_DELAY_DEST_AIRPORT</th>\n",
       "    </tr>\n",
       "  </thead>\n",
       "  <tbody>\n",
       "    <tr>\n",
       "      <th>0</th>\n",
       "      <td>AS</td>\n",
       "      <td>ANC</td>\n",
       "      <td>SEA</td>\n",
       "      <td>1</td>\n",
       "      <td>0.0</td>\n",
       "      <td>0.0</td>\n",
       "      <td>0.0</td>\n",
       "      <td>-11.0</td>\n",
       "      <td>-22.0</td>\n",
       "      <td>0.0</td>\n",
       "      <td>0.0</td>\n",
       "      <td>-11.0</td>\n",
       "      <td>-22.0</td>\n",
       "    </tr>\n",
       "    <tr>\n",
       "      <th>1</th>\n",
       "      <td>AA</td>\n",
       "      <td>LAX</td>\n",
       "      <td>PBI</td>\n",
       "      <td>1</td>\n",
       "      <td>0.0</td>\n",
       "      <td>0.0</td>\n",
       "      <td>0.0</td>\n",
       "      <td>-8.0</td>\n",
       "      <td>-9.0</td>\n",
       "      <td>0.0</td>\n",
       "      <td>0.0</td>\n",
       "      <td>-8.0</td>\n",
       "      <td>-9.0</td>\n",
       "    </tr>\n",
       "    <tr>\n",
       "      <th>2</th>\n",
       "      <td>US</td>\n",
       "      <td>SFO</td>\n",
       "      <td>CLT</td>\n",
       "      <td>1</td>\n",
       "      <td>0.0</td>\n",
       "      <td>0.0</td>\n",
       "      <td>0.0</td>\n",
       "      <td>-2.0</td>\n",
       "      <td>5.0</td>\n",
       "      <td>0.0</td>\n",
       "      <td>0.0</td>\n",
       "      <td>-2.0</td>\n",
       "      <td>5.0</td>\n",
       "    </tr>\n",
       "    <tr>\n",
       "      <th>3</th>\n",
       "      <td>AA</td>\n",
       "      <td>LAX</td>\n",
       "      <td>MIA</td>\n",
       "      <td>1</td>\n",
       "      <td>0.0</td>\n",
       "      <td>0.0</td>\n",
       "      <td>0.0</td>\n",
       "      <td>-5.0</td>\n",
       "      <td>-9.0</td>\n",
       "      <td>0.0</td>\n",
       "      <td>0.0</td>\n",
       "      <td>-5.0</td>\n",
       "      <td>-9.0</td>\n",
       "    </tr>\n",
       "    <tr>\n",
       "      <th>4</th>\n",
       "      <td>AS</td>\n",
       "      <td>SEA</td>\n",
       "      <td>ANC</td>\n",
       "      <td>1</td>\n",
       "      <td>0.0</td>\n",
       "      <td>0.0</td>\n",
       "      <td>0.0</td>\n",
       "      <td>-1.0</td>\n",
       "      <td>-21.0</td>\n",
       "      <td>0.0</td>\n",
       "      <td>0.0</td>\n",
       "      <td>-1.0</td>\n",
       "      <td>-21.0</td>\n",
       "    </tr>\n",
       "  </tbody>\n",
       "</table>\n",
       "</div>"
      ],
      "text/plain": [
       "  AIRLINE ORIGIN_AIRPORT DESTINATION_AIRPORT  MONTH  AIRLINE_DELAY  \\\n",
       "0      AS            ANC                 SEA      1            0.0   \n",
       "1      AA            LAX                 PBI      1            0.0   \n",
       "2      US            SFO                 CLT      1            0.0   \n",
       "3      AA            LAX                 MIA      1            0.0   \n",
       "4      AS            SEA                 ANC      1            0.0   \n",
       "\n",
       "   LATE_AIRCRAFT_DELAY  SECURITY_DELAY  DEPARTURE_DELAY  ARRIVAL_DELAY  \\\n",
       "0                  0.0             0.0            -11.0          -22.0   \n",
       "1                  0.0             0.0             -8.0           -9.0   \n",
       "2                  0.0             0.0             -2.0            5.0   \n",
       "3                  0.0             0.0             -5.0           -9.0   \n",
       "4                  0.0             0.0             -1.0          -21.0   \n",
       "\n",
       "   AIR_SYSTEM_DELAY  TOTAL_DELAY_AIRLINE  TOTAL_DELAY_SOURCE_AIRPORT  \\\n",
       "0               0.0                  0.0                       -11.0   \n",
       "1               0.0                  0.0                        -8.0   \n",
       "2               0.0                  0.0                        -2.0   \n",
       "3               0.0                  0.0                        -5.0   \n",
       "4               0.0                  0.0                        -1.0   \n",
       "\n",
       "   TOTAL_DELAY_DEST_AIRPORT  \n",
       "0                     -22.0  \n",
       "1                      -9.0  \n",
       "2                       5.0  \n",
       "3                      -9.0  \n",
       "4                     -21.0  "
      ]
     },
     "execution_count": 7,
     "metadata": {},
     "output_type": "execute_result"
    }
   ],
   "source": [
    "flight_delay = df_flight_paths[['AIRLINE', 'ORIGIN_AIRPORT', \n",
    "                  'DESTINATION_AIRPORT', 'MONTH', \n",
    "                  'AIRLINE_DELAY', 'LATE_AIRCRAFT_DELAY', \n",
    "                  'SECURITY_DELAY', 'DEPARTURE_DELAY',\n",
    "                  'ARRIVAL_DELAY', 'AIR_SYSTEM_DELAY']]\n",
    "flight_delay = flight_delay.fillna(0)\n",
    "flight_delay['TOTAL_DELAY_AIRLINE'] = flight_delay['AIRLINE_DELAY']+ flight_delay['LATE_AIRCRAFT_DELAY']\n",
    "flight_delay['TOTAL_DELAY_SOURCE_AIRPORT'] = flight_delay['SECURITY_DELAY'] + flight_delay['DEPARTURE_DELAY'] + flight_delay['AIR_SYSTEM_DELAY']\n",
    "flight_delay['TOTAL_DELAY_DEST_AIRPORT'] = flight_delay['ARRIVAL_DELAY'] + flight_delay['AIR_SYSTEM_DELAY']\n",
    "flight_delay.head()"
   ]
  },
  {
   "cell_type": "code",
   "execution_count": 8,
   "metadata": {
    "collapsed": false
   },
   "outputs": [
    {
     "data": {
      "text/html": [
       "<div>\n",
       "<table border=\"1\" class=\"dataframe\">\n",
       "  <thead>\n",
       "    <tr style=\"text-align: right;\">\n",
       "      <th></th>\n",
       "      <th>AIRLINE_DELAY</th>\n",
       "      <th>LATE_AIRCRAFT_DELAY</th>\n",
       "      <th>SECURITY_DELAY</th>\n",
       "      <th>DEPARTURE_DELAY</th>\n",
       "      <th>ARRIVAL_DELAY</th>\n",
       "      <th>AIR_SYSTEM_DELAY</th>\n",
       "    </tr>\n",
       "  </thead>\n",
       "  <tbody>\n",
       "    <tr>\n",
       "      <th>0</th>\n",
       "      <td>3.634620</td>\n",
       "      <td>4.646838</td>\n",
       "      <td>0.014256</td>\n",
       "      <td>9.517399</td>\n",
       "      <td>5.653327</td>\n",
       "      <td>2.719451</td>\n",
       "    </tr>\n",
       "    <tr>\n",
       "      <th>1</th>\n",
       "      <td>3.990438</td>\n",
       "      <td>5.027873</td>\n",
       "      <td>0.010671</td>\n",
       "      <td>11.329804</td>\n",
       "      <td>7.903148</td>\n",
       "      <td>3.143526</td>\n",
       "    </tr>\n",
       "    <tr>\n",
       "      <th>2</th>\n",
       "      <td>3.606260</td>\n",
       "      <td>4.275310</td>\n",
       "      <td>0.013059</td>\n",
       "      <td>9.457096</td>\n",
       "      <td>4.801889</td>\n",
       "      <td>2.436771</td>\n",
       "    </tr>\n",
       "    <tr>\n",
       "      <th>3</th>\n",
       "      <td>3.072433</td>\n",
       "      <td>3.680168</td>\n",
       "      <td>0.007544</td>\n",
       "      <td>7.654192</td>\n",
       "      <td>3.124722</td>\n",
       "      <td>2.304493</td>\n",
       "    </tr>\n",
       "    <tr>\n",
       "      <th>4</th>\n",
       "      <td>3.356023</td>\n",
       "      <td>4.371331</td>\n",
       "      <td>0.011491</td>\n",
       "      <td>9.352639</td>\n",
       "      <td>4.418672</td>\n",
       "      <td>2.524486</td>\n",
       "    </tr>\n",
       "    <tr>\n",
       "      <th>5</th>\n",
       "      <td>4.557148</td>\n",
       "      <td>6.064406</td>\n",
       "      <td>0.014058</td>\n",
       "      <td>13.744597</td>\n",
       "      <td>9.391036</td>\n",
       "      <td>3.236511</td>\n",
       "    </tr>\n",
       "    <tr>\n",
       "      <th>6</th>\n",
       "      <td>3.881907</td>\n",
       "      <td>5.343355</td>\n",
       "      <td>0.013099</td>\n",
       "      <td>11.296039</td>\n",
       "      <td>6.353539</td>\n",
       "      <td>2.580005</td>\n",
       "    </tr>\n",
       "    <tr>\n",
       "      <th>7</th>\n",
       "      <td>3.564093</td>\n",
       "      <td>4.396331</td>\n",
       "      <td>0.023491</td>\n",
       "      <td>9.840240</td>\n",
       "      <td>4.547991</td>\n",
       "      <td>2.496598</td>\n",
       "    </tr>\n",
       "    <tr>\n",
       "      <th>8</th>\n",
       "      <td>2.531027</td>\n",
       "      <td>2.549036</td>\n",
       "      <td>0.012836</td>\n",
       "      <td>4.803558</td>\n",
       "      <td>-0.767930</td>\n",
       "      <td>1.691855</td>\n",
       "    </tr>\n",
       "    <tr>\n",
       "      <th>9</th>\n",
       "      <td>2.480662</td>\n",
       "      <td>2.456485</td>\n",
       "      <td>0.006253</td>\n",
       "      <td>4.958689</td>\n",
       "      <td>-0.775113</td>\n",
       "      <td>1.651079</td>\n",
       "    </tr>\n",
       "    <tr>\n",
       "      <th>10</th>\n",
       "      <td>2.903390</td>\n",
       "      <td>3.216122</td>\n",
       "      <td>0.018676</td>\n",
       "      <td>6.879811</td>\n",
       "      <td>1.087599</td>\n",
       "      <td>2.096822</td>\n",
       "    </tr>\n",
       "    <tr>\n",
       "      <th>11</th>\n",
       "      <td>3.956618</td>\n",
       "      <td>5.297920</td>\n",
       "      <td>0.021080</td>\n",
       "      <td>11.594714</td>\n",
       "      <td>5.971955</td>\n",
       "      <td>2.686526</td>\n",
       "    </tr>\n",
       "  </tbody>\n",
       "</table>\n",
       "</div>"
      ],
      "text/plain": [
       "    AIRLINE_DELAY  LATE_AIRCRAFT_DELAY  SECURITY_DELAY  DEPARTURE_DELAY  \\\n",
       "0        3.634620             4.646838        0.014256         9.517399   \n",
       "1        3.990438             5.027873        0.010671        11.329804   \n",
       "2        3.606260             4.275310        0.013059         9.457096   \n",
       "3        3.072433             3.680168        0.007544         7.654192   \n",
       "4        3.356023             4.371331        0.011491         9.352639   \n",
       "5        4.557148             6.064406        0.014058        13.744597   \n",
       "6        3.881907             5.343355        0.013099        11.296039   \n",
       "7        3.564093             4.396331        0.023491         9.840240   \n",
       "8        2.531027             2.549036        0.012836         4.803558   \n",
       "9        2.480662             2.456485        0.006253         4.958689   \n",
       "10       2.903390             3.216122        0.018676         6.879811   \n",
       "11       3.956618             5.297920        0.021080        11.594714   \n",
       "\n",
       "    ARRIVAL_DELAY  AIR_SYSTEM_DELAY  \n",
       "0        5.653327          2.719451  \n",
       "1        7.903148          3.143526  \n",
       "2        4.801889          2.436771  \n",
       "3        3.124722          2.304493  \n",
       "4        4.418672          2.524486  \n",
       "5        9.391036          3.236511  \n",
       "6        6.353539          2.580005  \n",
       "7        4.547991          2.496598  \n",
       "8       -0.767930          1.691855  \n",
       "9       -0.775113          1.651079  \n",
       "10       1.087599          2.096822  \n",
       "11       5.971955          2.686526  "
      ]
     },
     "execution_count": 8,
     "metadata": {},
     "output_type": "execute_result"
    }
   ],
   "source": [
    "monthly_delays = flight_delay[['MONTH', 'AIRLINE_DELAY', 'LATE_AIRCRAFT_DELAY', \n",
    "                         'SECURITY_DELAY', 'DEPARTURE_DELAY', \n",
    "                         'ARRIVAL_DELAY', 'AIR_SYSTEM_DELAY']].groupby('MONTH').mean().reset_index()\n",
    "for delay_type in monthly_delays:\n",
    "    if delay_type is not 'MONTH':\n",
    "        a =monthly_delays[delay_type]\n",
    "\n",
    "monthly_delaysnew = monthly_delays.drop('MONTH', axis=1)\n",
    "monthly_delaysnew"
   ]
  },
  {
   "cell_type": "code",
   "execution_count": 147,
   "metadata": {
    "collapsed": false
   },
   "outputs": [
    {
     "data": {
      "text/plain": [
       "'https://plot.ly/~thakar.p/69'"
      ]
     },
     "execution_count": 147,
     "metadata": {},
     "output_type": "execute_result"
    }
   ],
   "source": [
    "import plotly.plotly as py\n",
    "\n",
    "import pandas as pd\n",
    "import numpy as np\n",
    "\n",
    "df = monthly_delaysnew\n",
    "py.plot([{\n",
    "    'x': monthly_delays.MONTH,\n",
    "    'y': df[col],\n",
    "    'name': col,\n",
    "}  for col in df.columns])\n"
   ]
  },
  {
   "cell_type": "markdown",
   "metadata": {
    "collapsed": true
   },
   "source": [
    "# We can see the snapshot of the figure as Part3Plot.png"
   ]
  },
  {
   "cell_type": "code",
   "execution_count": 11,
   "metadata": {
    "collapsed": true
   },
   "outputs": [],
   "source": [
    "import nltk\n",
    "from nltk import FreqDist\n",
    "from collections import Counter"
   ]
  },
  {
   "cell_type": "code",
   "execution_count": 12,
   "metadata": {
    "collapsed": false
   },
   "outputs": [
    {
     "data": {
      "text/plain": [
       "[('WN', 1261855),\n",
       " ('DL', 875881),\n",
       " ('AA', 725984),\n",
       " ('OO', 588353),\n",
       " ('EV', 571977),\n",
       " ('UA', 515723),\n",
       " ('MQ', 294632),\n",
       " ('B6', 267048),\n",
       " ('US', 198715),\n",
       " ('AS', 172521),\n",
       " ('NK', 117379),\n",
       " ('F9', 90836),\n",
       " ('HA', 76272),\n",
       " ('VX', 61903)]"
      ]
     },
     "execution_count": 12,
     "metadata": {},
     "output_type": "execute_result"
    }
   ],
   "source": [
    "fdist = FreqDist(w for w in flight_delay['AIRLINE'])\n",
    "fdist1 = Counter(fdist)\n",
    "most_delayed_airline = fdist1.most_common()\n",
    "most_delayed_airline"
   ]
  },
  {
   "cell_type": "code",
   "execution_count": 13,
   "metadata": {
    "collapsed": true
   },
   "outputs": [],
   "source": [
    "with open('MaxdelayedAirline.csv', 'w') as csvfile:\n",
    "    fieldnames = ['Airline', 'Number of Delays']\n",
    "    writer = csv.DictWriter(csvfile, fieldnames=fieldnames)\n",
    "    writer.writeheader()\n",
    "    for (a,z) in most_delayed_airline:\n",
    "            writer.writerow({'Airline':a,'Number of Delays': z})"
   ]
  },
  {
   "cell_type": "code",
   "execution_count": 14,
   "metadata": {
    "collapsed": false
   },
   "outputs": [],
   "source": [
    "maxdel = pd.read_csv('MaxdelayedAirline.csv')\n",
    "airlinename = pd.read_csv('C:/Users/pruth/Desktop/Datasets/flights.csv/airlines.csv')"
   ]
  },
  {
   "cell_type": "code",
   "execution_count": 15,
   "metadata": {
    "collapsed": false
   },
   "outputs": [
    {
     "data": {
      "text/html": [
       "<div>\n",
       "<table border=\"1\" class=\"dataframe\">\n",
       "  <thead>\n",
       "    <tr style=\"text-align: right;\">\n",
       "      <th></th>\n",
       "      <th>Number of Delays</th>\n",
       "      <th>AIRLINE</th>\n",
       "    </tr>\n",
       "  </thead>\n",
       "  <tbody>\n",
       "    <tr>\n",
       "      <th>0</th>\n",
       "      <td>1261855</td>\n",
       "      <td>Southwest Airlines Co.</td>\n",
       "    </tr>\n",
       "    <tr>\n",
       "      <th>1</th>\n",
       "      <td>875881</td>\n",
       "      <td>Delta Air Lines Inc.</td>\n",
       "    </tr>\n",
       "    <tr>\n",
       "      <th>2</th>\n",
       "      <td>725984</td>\n",
       "      <td>American Airlines Inc.</td>\n",
       "    </tr>\n",
       "    <tr>\n",
       "      <th>3</th>\n",
       "      <td>588353</td>\n",
       "      <td>Skywest Airlines Inc.</td>\n",
       "    </tr>\n",
       "    <tr>\n",
       "      <th>4</th>\n",
       "      <td>571977</td>\n",
       "      <td>Atlantic Southeast Airlines</td>\n",
       "    </tr>\n",
       "    <tr>\n",
       "      <th>5</th>\n",
       "      <td>515723</td>\n",
       "      <td>United Air Lines Inc.</td>\n",
       "    </tr>\n",
       "    <tr>\n",
       "      <th>6</th>\n",
       "      <td>294632</td>\n",
       "      <td>American Eagle Airlines Inc.</td>\n",
       "    </tr>\n",
       "    <tr>\n",
       "      <th>7</th>\n",
       "      <td>267048</td>\n",
       "      <td>JetBlue Airways</td>\n",
       "    </tr>\n",
       "    <tr>\n",
       "      <th>8</th>\n",
       "      <td>198715</td>\n",
       "      <td>US Airways Inc.</td>\n",
       "    </tr>\n",
       "    <tr>\n",
       "      <th>9</th>\n",
       "      <td>172521</td>\n",
       "      <td>Alaska Airlines Inc.</td>\n",
       "    </tr>\n",
       "    <tr>\n",
       "      <th>10</th>\n",
       "      <td>117379</td>\n",
       "      <td>Spirit Air Lines</td>\n",
       "    </tr>\n",
       "    <tr>\n",
       "      <th>11</th>\n",
       "      <td>90836</td>\n",
       "      <td>Frontier Airlines Inc.</td>\n",
       "    </tr>\n",
       "    <tr>\n",
       "      <th>12</th>\n",
       "      <td>76272</td>\n",
       "      <td>Hawaiian Airlines Inc.</td>\n",
       "    </tr>\n",
       "    <tr>\n",
       "      <th>13</th>\n",
       "      <td>61903</td>\n",
       "      <td>Virgin America</td>\n",
       "    </tr>\n",
       "  </tbody>\n",
       "</table>\n",
       "</div>"
      ],
      "text/plain": [
       "    Number of Delays                       AIRLINE\n",
       "0            1261855        Southwest Airlines Co.\n",
       "1             875881          Delta Air Lines Inc.\n",
       "2             725984        American Airlines Inc.\n",
       "3             588353         Skywest Airlines Inc.\n",
       "4             571977   Atlantic Southeast Airlines\n",
       "5             515723         United Air Lines Inc.\n",
       "6             294632  American Eagle Airlines Inc.\n",
       "7             267048               JetBlue Airways\n",
       "8             198715               US Airways Inc.\n",
       "9             172521          Alaska Airlines Inc.\n",
       "10            117379              Spirit Air Lines\n",
       "11             90836        Frontier Airlines Inc.\n",
       "12             76272        Hawaiian Airlines Inc.\n",
       "13             61903                Virgin America"
      ]
     },
     "execution_count": 15,
     "metadata": {},
     "output_type": "execute_result"
    }
   ],
   "source": [
    "airlines = maxdel.merge(airlinename,how='left', left_on='Airline', right_on='IATA_CODE')\n",
    "airlines.drop('IATA_CODE',axis=1,inplace=True)\n",
    "airlines.drop('Airline',axis=1,inplace=True)\n",
    "airlines"
   ]
  },
  {
   "cell_type": "code",
   "execution_count": 16,
   "metadata": {
    "collapsed": true
   },
   "outputs": [],
   "source": [
    "import cufflinks as cf\n",
    "import pandas as pd"
   ]
  },
  {
   "cell_type": "code",
   "execution_count": 18,
   "metadata": {
    "collapsed": false
   },
   "outputs": [
    {
     "data": {
      "text/html": [
       "<iframe id=\"igraph\" scrolling=\"no\" style=\"border:none;\" seamless=\"seamless\" src=\"https://plot.ly/~thakar.p/67.embed\" height=\"525px\" width=\"100%\"></iframe>"
      ],
      "text/plain": [
       "<plotly.tools.PlotlyDisplay object>"
      ]
     },
     "execution_count": 18,
     "metadata": {},
     "output_type": "execute_result"
    }
   ],
   "source": [
    "airlines.iplot(kind='pie',labels='AIRLINE',values='Number of Delays',pull=.2,hole=.2,title='Share of Airlines in Total delays')"
   ]
  },
  {
   "cell_type": "markdown",
   "metadata": {},
   "source": [
    "# Part3Plot2.png"
   ]
  },
  {
   "cell_type": "markdown",
   "metadata": {},
   "source": [
    "# Hover over the text for Details"
   ]
  },
  {
   "cell_type": "markdown",
   "metadata": {},
   "source": [
    "# From this chart we can figure out the share of Airlines in total delays happened in 2015, most delays were caused with Southwest Airlines and least being Virgin America. -Part3plo2.png"
   ]
  }
 ],
 "metadata": {
  "anaconda-cloud": {},
  "kernelspec": {
   "display_name": "Python [conda root]",
   "language": "python",
   "name": "conda-root-py"
  },
  "language_info": {
   "codemirror_mode": {
    "name": "ipython",
    "version": 3
   },
   "file_extension": ".py",
   "mimetype": "text/x-python",
   "name": "python",
   "nbconvert_exporter": "python",
   "pygments_lexer": "ipython3",
   "version": "3.5.2"
  }
 },
 "nbformat": 4,
 "nbformat_minor": 2
}
