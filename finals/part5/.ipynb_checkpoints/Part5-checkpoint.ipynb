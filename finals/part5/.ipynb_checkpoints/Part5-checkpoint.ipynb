{
 "cells": [
  {
   "cell_type": "code",
   "execution_count": 1,
   "metadata": {
    "collapsed": true
   },
   "outputs": [],
   "source": [
    "import time\n",
    "import datetime \n",
    "from datetime import datetime\n",
    "%matplotlib inline\n",
    "from matplotlib import pyplot as plt\n",
    "import csv\n",
    "import numpy as np\n",
    "import pandas as pd\n",
    "import nltk\n",
    "import plotly.plotly as py"
   ]
  },
  {
   "cell_type": "code",
   "execution_count": 2,
   "metadata": {
    "collapsed": false
   },
   "outputs": [
    {
     "data": {
      "text/html": [
       "<div>\n",
       "<table border=\"1\" class=\"dataframe\">\n",
       "  <thead>\n",
       "    <tr style=\"text-align: right;\">\n",
       "      <th></th>\n",
       "      <th>YEAR</th>\n",
       "      <th>MONTH</th>\n",
       "      <th>DAY</th>\n",
       "      <th>DAY_OF_WEEK</th>\n",
       "      <th>AIRLINE</th>\n",
       "      <th>FLIGHT_NUMBER</th>\n",
       "      <th>TAIL_NUMBER</th>\n",
       "      <th>ORIGIN_AIRPORT</th>\n",
       "      <th>DESTINATION_AIRPORT</th>\n",
       "      <th>SCHEDULED_DEPARTURE</th>\n",
       "      <th>...</th>\n",
       "      <th>ARRIVAL_TIME</th>\n",
       "      <th>ARRIVAL_DELAY</th>\n",
       "      <th>DIVERTED</th>\n",
       "      <th>CANCELLED</th>\n",
       "      <th>CANCELLATION_REASON</th>\n",
       "      <th>AIR_SYSTEM_DELAY</th>\n",
       "      <th>SECURITY_DELAY</th>\n",
       "      <th>AIRLINE_DELAY</th>\n",
       "      <th>LATE_AIRCRAFT_DELAY</th>\n",
       "      <th>WEATHER_DELAY</th>\n",
       "    </tr>\n",
       "  </thead>\n",
       "  <tbody>\n",
       "    <tr>\n",
       "      <th>0</th>\n",
       "      <td>2015</td>\n",
       "      <td>1</td>\n",
       "      <td>1</td>\n",
       "      <td>4</td>\n",
       "      <td>AS</td>\n",
       "      <td>98</td>\n",
       "      <td>N407AS</td>\n",
       "      <td>ANC</td>\n",
       "      <td>SEA</td>\n",
       "      <td>5</td>\n",
       "      <td>...</td>\n",
       "      <td>408.0</td>\n",
       "      <td>-22.0</td>\n",
       "      <td>0</td>\n",
       "      <td>0</td>\n",
       "      <td>NaN</td>\n",
       "      <td>NaN</td>\n",
       "      <td>NaN</td>\n",
       "      <td>NaN</td>\n",
       "      <td>NaN</td>\n",
       "      <td>NaN</td>\n",
       "    </tr>\n",
       "    <tr>\n",
       "      <th>1</th>\n",
       "      <td>2015</td>\n",
       "      <td>1</td>\n",
       "      <td>1</td>\n",
       "      <td>4</td>\n",
       "      <td>AA</td>\n",
       "      <td>2336</td>\n",
       "      <td>N3KUAA</td>\n",
       "      <td>LAX</td>\n",
       "      <td>PBI</td>\n",
       "      <td>10</td>\n",
       "      <td>...</td>\n",
       "      <td>741.0</td>\n",
       "      <td>-9.0</td>\n",
       "      <td>0</td>\n",
       "      <td>0</td>\n",
       "      <td>NaN</td>\n",
       "      <td>NaN</td>\n",
       "      <td>NaN</td>\n",
       "      <td>NaN</td>\n",
       "      <td>NaN</td>\n",
       "      <td>NaN</td>\n",
       "    </tr>\n",
       "  </tbody>\n",
       "</table>\n",
       "<p>2 rows × 31 columns</p>\n",
       "</div>"
      ],
      "text/plain": [
       "   YEAR  MONTH  DAY  DAY_OF_WEEK AIRLINE  FLIGHT_NUMBER TAIL_NUMBER  \\\n",
       "0  2015      1    1            4      AS             98      N407AS   \n",
       "1  2015      1    1            4      AA           2336      N3KUAA   \n",
       "\n",
       "  ORIGIN_AIRPORT DESTINATION_AIRPORT  SCHEDULED_DEPARTURE      ...        \\\n",
       "0            ANC                 SEA                    5      ...         \n",
       "1            LAX                 PBI                   10      ...         \n",
       "\n",
       "   ARRIVAL_TIME  ARRIVAL_DELAY  DIVERTED  CANCELLED  CANCELLATION_REASON  \\\n",
       "0         408.0          -22.0         0          0                  NaN   \n",
       "1         741.0           -9.0         0          0                  NaN   \n",
       "\n",
       "   AIR_SYSTEM_DELAY  SECURITY_DELAY  AIRLINE_DELAY  LATE_AIRCRAFT_DELAY  \\\n",
       "0               NaN             NaN            NaN                  NaN   \n",
       "1               NaN             NaN            NaN                  NaN   \n",
       "\n",
       "   WEATHER_DELAY  \n",
       "0            NaN  \n",
       "1            NaN  \n",
       "\n",
       "[2 rows x 31 columns]"
      ]
     },
     "execution_count": 2,
     "metadata": {},
     "output_type": "execute_result"
    }
   ],
   "source": [
    "import plotly.plotly as py\n",
    "import pandas as pd\n",
    "\n",
    "df_airports = pd.read_csv('C:/Users/pruth/Desktop/Datasets/flights.csv/airports.csv')\n",
    "\n",
    "\n",
    "df_flight_paths =pd.read_csv('C:/Users/pruth/Desktop/Datasets/flights.csv/flights.csv',low_memory=False)\n",
    "df_flight_paths.head(2)"
   ]
  },
  {
   "cell_type": "code",
   "execution_count": 3,
   "metadata": {
    "collapsed": true
   },
   "outputs": [],
   "source": [
    "df_airlines = pd.read_csv('C:/Users/pruth/Desktop/Datasets/flights.csv/airlines.csv')"
   ]
  },
  {
   "cell_type": "code",
   "execution_count": 4,
   "metadata": {
    "collapsed": true
   },
   "outputs": [],
   "source": [
    "airline_Tout = pd.DataFrame({'taxi_out_time' : df_flight_paths.groupby(['AIRLINE'])['TAXI_OUT'].mean()}).reset_index()\n",
    "airline_Tin = pd.DataFrame({'taxi_in_time' : df_flight_paths.groupby(['AIRLINE'])['TAXI_IN'].mean()}).reset_index()"
   ]
  },
  {
   "cell_type": "code",
   "execution_count": 22,
   "metadata": {
    "collapsed": false
   },
   "outputs": [
    {
     "data": {
      "text/html": [
       "<div>\n",
       "<table border=\"1\" class=\"dataframe\">\n",
       "  <thead>\n",
       "    <tr style=\"text-align: right;\">\n",
       "      <th></th>\n",
       "      <th>AIRLINE_x</th>\n",
       "      <th>taxi_in_time</th>\n",
       "      <th>IATA_CODE</th>\n",
       "      <th>AIRLINE_y</th>\n",
       "    </tr>\n",
       "  </thead>\n",
       "  <tbody>\n",
       "    <tr>\n",
       "      <th>0</th>\n",
       "      <td>AA</td>\n",
       "      <td>8.876172</td>\n",
       "      <td>AA</td>\n",
       "      <td>American Airlines Inc.</td>\n",
       "    </tr>\n",
       "    <tr>\n",
       "      <th>1</th>\n",
       "      <td>AS</td>\n",
       "      <td>6.401667</td>\n",
       "      <td>AS</td>\n",
       "      <td>Alaska Airlines Inc.</td>\n",
       "    </tr>\n",
       "    <tr>\n",
       "      <th>2</th>\n",
       "      <td>B6</td>\n",
       "      <td>6.121373</td>\n",
       "      <td>B6</td>\n",
       "      <td>JetBlue Airways</td>\n",
       "    </tr>\n",
       "    <tr>\n",
       "      <th>3</th>\n",
       "      <td>DL</td>\n",
       "      <td>7.209058</td>\n",
       "      <td>DL</td>\n",
       "      <td>Delta Air Lines Inc.</td>\n",
       "    </tr>\n",
       "    <tr>\n",
       "      <th>4</th>\n",
       "      <td>EV</td>\n",
       "      <td>7.635511</td>\n",
       "      <td>EV</td>\n",
       "      <td>Atlantic Southeast Airlines</td>\n",
       "    </tr>\n",
       "  </tbody>\n",
       "</table>\n",
       "</div>"
      ],
      "text/plain": [
       "  AIRLINE_x  taxi_in_time IATA_CODE                    AIRLINE_y\n",
       "0        AA      8.876172        AA       American Airlines Inc.\n",
       "1        AS      6.401667        AS         Alaska Airlines Inc.\n",
       "2        B6      6.121373        B6              JetBlue Airways\n",
       "3        DL      7.209058        DL         Delta Air Lines Inc.\n",
       "4        EV      7.635511        EV  Atlantic Southeast Airlines"
      ]
     },
     "execution_count": 22,
     "metadata": {},
     "output_type": "execute_result"
    }
   ],
   "source": [
    "airlines_in = airline_Tin.merge(df_airlines,how='left', left_on='AIRLINE', right_on='IATA_CODE')\n",
    "\n",
    "airlines_out = airline_Tout.merge(df_airlines,how='left', left_on='AIRLINE', right_on='IATA_CODE')\n",
    "\n",
    "airlines_in.head()"
   ]
  },
  {
   "cell_type": "code",
   "execution_count": 23,
   "metadata": {
    "collapsed": false
   },
   "outputs": [],
   "source": [
    "\n",
    "airlines_in.drop(['AIRLINE_x','IATA_CODE'],axis=1,inplace=True)\n",
    "airlines_out.drop(['AIRLINE_x','IATA_CODE'],axis=1,inplace=True)"
   ]
  },
  {
   "cell_type": "code",
   "execution_count": 24,
   "metadata": {
    "collapsed": false
   },
   "outputs": [
    {
     "data": {
      "text/html": [
       "<div>\n",
       "<table border=\"1\" class=\"dataframe\">\n",
       "  <thead>\n",
       "    <tr style=\"text-align: right;\">\n",
       "      <th></th>\n",
       "      <th>taxi_in_time</th>\n",
       "      <th>AIRLINE_y</th>\n",
       "    </tr>\n",
       "  </thead>\n",
       "  <tbody>\n",
       "    <tr>\n",
       "      <th>0</th>\n",
       "      <td>8.876172</td>\n",
       "      <td>American Airlines Inc.</td>\n",
       "    </tr>\n",
       "    <tr>\n",
       "      <th>1</th>\n",
       "      <td>6.401667</td>\n",
       "      <td>Alaska Airlines Inc.</td>\n",
       "    </tr>\n",
       "    <tr>\n",
       "      <th>2</th>\n",
       "      <td>6.121373</td>\n",
       "      <td>JetBlue Airways</td>\n",
       "    </tr>\n",
       "    <tr>\n",
       "      <th>3</th>\n",
       "      <td>7.209058</td>\n",
       "      <td>Delta Air Lines Inc.</td>\n",
       "    </tr>\n",
       "    <tr>\n",
       "      <th>4</th>\n",
       "      <td>7.635511</td>\n",
       "      <td>Atlantic Southeast Airlines</td>\n",
       "    </tr>\n",
       "  </tbody>\n",
       "</table>\n",
       "</div>"
      ],
      "text/plain": [
       "   taxi_in_time                    AIRLINE_y\n",
       "0      8.876172       American Airlines Inc.\n",
       "1      6.401667         Alaska Airlines Inc.\n",
       "2      6.121373              JetBlue Airways\n",
       "3      7.209058         Delta Air Lines Inc.\n",
       "4      7.635511  Atlantic Southeast Airlines"
      ]
     },
     "execution_count": 24,
     "metadata": {},
     "output_type": "execute_result"
    }
   ],
   "source": [
    "airlines_in.head()"
   ]
  },
  {
   "cell_type": "code",
   "execution_count": null,
   "metadata": {
    "collapsed": true
   },
   "outputs": [],
   "source": []
  },
  {
   "cell_type": "code",
   "execution_count": 27,
   "metadata": {
    "collapsed": false
   },
   "outputs": [],
   "source": [
    "airlines_inout = airlines_out.merge(airlines_in,how='left', left_on='AIRLINE_y', right_on='AIRLINE_y')"
   ]
  },
  {
   "cell_type": "code",
   "execution_count": 61,
   "metadata": {
    "collapsed": false
   },
   "outputs": [
    {
     "data": {
      "text/html": [
       "<div>\n",
       "<table border=\"1\" class=\"dataframe\">\n",
       "  <thead>\n",
       "    <tr style=\"text-align: right;\">\n",
       "      <th></th>\n",
       "      <th>taxi_out_time</th>\n",
       "      <th>AIRLINE_y</th>\n",
       "      <th>taxi_in_time</th>\n",
       "    </tr>\n",
       "  </thead>\n",
       "  <tbody>\n",
       "    <tr>\n",
       "      <th>0</th>\n",
       "      <td>17.769170</td>\n",
       "      <td>American Airlines Inc.</td>\n",
       "      <td>8.876172</td>\n",
       "    </tr>\n",
       "    <tr>\n",
       "      <th>1</th>\n",
       "      <td>15.093937</td>\n",
       "      <td>Alaska Airlines Inc.</td>\n",
       "      <td>6.401667</td>\n",
       "    </tr>\n",
       "    <tr>\n",
       "      <th>2</th>\n",
       "      <td>17.872453</td>\n",
       "      <td>JetBlue Airways</td>\n",
       "      <td>6.121373</td>\n",
       "    </tr>\n",
       "    <tr>\n",
       "      <th>3</th>\n",
       "      <td>17.608081</td>\n",
       "      <td>Delta Air Lines Inc.</td>\n",
       "      <td>7.209058</td>\n",
       "    </tr>\n",
       "    <tr>\n",
       "      <th>4</th>\n",
       "      <td>16.736971</td>\n",
       "      <td>Atlantic Southeast Airlines</td>\n",
       "      <td>7.635511</td>\n",
       "    </tr>\n",
       "    <tr>\n",
       "      <th>5</th>\n",
       "      <td>15.674198</td>\n",
       "      <td>Frontier Airlines Inc.</td>\n",
       "      <td>9.147244</td>\n",
       "    </tr>\n",
       "    <tr>\n",
       "      <th>6</th>\n",
       "      <td>10.953551</td>\n",
       "      <td>Hawaiian Airlines Inc.</td>\n",
       "      <td>6.841194</td>\n",
       "    </tr>\n",
       "    <tr>\n",
       "      <th>7</th>\n",
       "      <td>16.549323</td>\n",
       "      <td>American Eagle Airlines Inc.</td>\n",
       "      <td>9.084096</td>\n",
       "    </tr>\n",
       "    <tr>\n",
       "      <th>8</th>\n",
       "      <td>14.604656</td>\n",
       "      <td>Spirit Air Lines</td>\n",
       "      <td>9.556557</td>\n",
       "    </tr>\n",
       "    <tr>\n",
       "      <th>9</th>\n",
       "      <td>18.146070</td>\n",
       "      <td>Skywest Airlines Inc.</td>\n",
       "      <td>6.933260</td>\n",
       "    </tr>\n",
       "    <tr>\n",
       "      <th>10</th>\n",
       "      <td>17.414003</td>\n",
       "      <td>United Air Lines Inc.</td>\n",
       "      <td>8.508092</td>\n",
       "    </tr>\n",
       "    <tr>\n",
       "      <th>11</th>\n",
       "      <td>19.006858</td>\n",
       "      <td>US Airways Inc.</td>\n",
       "      <td>7.631978</td>\n",
       "    </tr>\n",
       "    <tr>\n",
       "      <th>12</th>\n",
       "      <td>14.755854</td>\n",
       "      <td>Virgin America</td>\n",
       "      <td>8.186914</td>\n",
       "    </tr>\n",
       "    <tr>\n",
       "      <th>13</th>\n",
       "      <td>11.943682</td>\n",
       "      <td>Southwest Airlines Co.</td>\n",
       "      <td>6.167662</td>\n",
       "    </tr>\n",
       "  </tbody>\n",
       "</table>\n",
       "</div>"
      ],
      "text/plain": [
       "    taxi_out_time                     AIRLINE_y  taxi_in_time\n",
       "0       17.769170        American Airlines Inc.      8.876172\n",
       "1       15.093937          Alaska Airlines Inc.      6.401667\n",
       "2       17.872453               JetBlue Airways      6.121373\n",
       "3       17.608081          Delta Air Lines Inc.      7.209058\n",
       "4       16.736971   Atlantic Southeast Airlines      7.635511\n",
       "5       15.674198        Frontier Airlines Inc.      9.147244\n",
       "6       10.953551        Hawaiian Airlines Inc.      6.841194\n",
       "7       16.549323  American Eagle Airlines Inc.      9.084096\n",
       "8       14.604656              Spirit Air Lines      9.556557\n",
       "9       18.146070         Skywest Airlines Inc.      6.933260\n",
       "10      17.414003         United Air Lines Inc.      8.508092\n",
       "11      19.006858               US Airways Inc.      7.631978\n",
       "12      14.755854                Virgin America      8.186914\n",
       "13      11.943682        Southwest Airlines Co.      6.167662"
      ]
     },
     "execution_count": 61,
     "metadata": {},
     "output_type": "execute_result"
    }
   ],
   "source": [
    "airlines_inout"
   ]
  },
  {
   "cell_type": "code",
   "execution_count": 34,
   "metadata": {
    "collapsed": false
   },
   "outputs": [
    {
     "data": {
      "text/html": [
       "<iframe id=\"igraph\" scrolling=\"no\" style=\"border:none;\" seamless=\"seamless\" src=\"https://plot.ly/~thakar.p/79.embed\" height=\"525px\" width=\"100%\"></iframe>"
      ],
      "text/plain": [
       "<plotly.tools.PlotlyDisplay object>"
      ]
     },
     "execution_count": 34,
     "metadata": {},
     "output_type": "execute_result"
    }
   ],
   "source": [
    "import plotly.plotly as py\n",
    "import cufflinks as cf\n",
    "import pandas as pd\n",
    "import numpy as np\n",
    "\n",
    "cf.set_config_file(offline=False, world_readable=True, theme='ggplot')\n",
    "\n",
    "df = airlines_inout\n",
    "df.iplot(kind='bar', barmode='stack',x='AIRLINE_y',y = (['taxi_in_time','taxi_out_time']), yTitle='Minutes', xTitle='Airlines', title='Taxi In and Out time',size=(14,7))"
   ]
  },
  {
   "cell_type": "markdown",
   "metadata": {},
   "source": [
    "# The figure an be seen in Part5plot1.png"
   ]
  },
  {
   "cell_type": "markdown",
   "metadata": {},
   "source": [
    "# This concludes that Hawaiian Airlines has minimum taxi in and out time where as US airways has maximum.\n",
    "\n",
    "# One more interesting observation is that in earlier analysis we showed that Southwest airlines has maximum number of delays and which might be the cause for the second best taxi in and out time for the Southwest Airlinrs"
   ]
  },
  {
   "cell_type": "code",
   "execution_count": 47,
   "metadata": {
    "collapsed": true
   },
   "outputs": [],
   "source": [
    "df_flight_paths['Airline_Speed'] = 60*df_flight_paths['DISTANCE']/df_flight_paths['AIR_TIME']"
   ]
  },
  {
   "cell_type": "code",
   "execution_count": 48,
   "metadata": {
    "collapsed": false
   },
   "outputs": [
    {
     "data": {
      "text/plain": [
       "0    514.082840\n",
       "1    531.558935\n",
       "2    517.894737\n",
       "3    544.651163\n",
       "4    436.582915\n",
       "Name: Airline_Speed, dtype: float64"
      ]
     },
     "execution_count": 48,
     "metadata": {},
     "output_type": "execute_result"
    }
   ],
   "source": [
    "df_flight_paths['Airline_Speed'].head()"
   ]
  },
  {
   "cell_type": "code",
   "execution_count": 49,
   "metadata": {
    "collapsed": false
   },
   "outputs": [],
   "source": [
    "airline_speed = df_flight_paths.filter(['AIRLINE','Airline_Speed'], axis=1)"
   ]
  },
  {
   "cell_type": "code",
   "execution_count": 60,
   "metadata": {
    "collapsed": false
   },
   "outputs": [
    {
     "data": {
      "text/html": [
       "<div>\n",
       "<table border=\"1\" class=\"dataframe\">\n",
       "  <thead>\n",
       "    <tr style=\"text-align: right;\">\n",
       "      <th></th>\n",
       "      <th>Airline_Speed</th>\n",
       "      <th>AIRLINE_y</th>\n",
       "    </tr>\n",
       "  </thead>\n",
       "  <tbody>\n",
       "    <tr>\n",
       "      <th>0</th>\n",
       "      <td>427.679334</td>\n",
       "      <td>American Airlines Inc.</td>\n",
       "    </tr>\n",
       "    <tr>\n",
       "      <th>1</th>\n",
       "      <td>435.510696</td>\n",
       "      <td>Alaska Airlines Inc.</td>\n",
       "    </tr>\n",
       "    <tr>\n",
       "      <th>2</th>\n",
       "      <td>419.569835</td>\n",
       "      <td>JetBlue Airways</td>\n",
       "    </tr>\n",
       "    <tr>\n",
       "      <th>3</th>\n",
       "      <td>419.433004</td>\n",
       "      <td>Delta Air Lines Inc.</td>\n",
       "    </tr>\n",
       "    <tr>\n",
       "      <th>4</th>\n",
       "      <td>364.683738</td>\n",
       "      <td>Atlantic Southeast Airlines</td>\n",
       "    </tr>\n",
       "    <tr>\n",
       "      <th>5</th>\n",
       "      <td>441.259284</td>\n",
       "      <td>Frontier Airlines Inc.</td>\n",
       "    </tr>\n",
       "    <tr>\n",
       "      <th>6</th>\n",
       "      <td>343.748564</td>\n",
       "      <td>Hawaiian Airlines Inc.</td>\n",
       "    </tr>\n",
       "    <tr>\n",
       "      <th>7</th>\n",
       "      <td>360.899443</td>\n",
       "      <td>American Eagle Airlines Inc.</td>\n",
       "    </tr>\n",
       "    <tr>\n",
       "      <th>8</th>\n",
       "      <td>436.499865</td>\n",
       "      <td>Spirit Air Lines</td>\n",
       "    </tr>\n",
       "    <tr>\n",
       "      <th>9</th>\n",
       "      <td>368.598815</td>\n",
       "      <td>Skywest Airlines Inc.</td>\n",
       "    </tr>\n",
       "    <tr>\n",
       "      <th>10</th>\n",
       "      <td>446.753151</td>\n",
       "      <td>United Air Lines Inc.</td>\n",
       "    </tr>\n",
       "    <tr>\n",
       "      <th>11</th>\n",
       "      <td>411.108496</td>\n",
       "      <td>US Airways Inc.</td>\n",
       "    </tr>\n",
       "    <tr>\n",
       "      <th>12</th>\n",
       "      <td>435.403337</td>\n",
       "      <td>Virgin America</td>\n",
       "    </tr>\n",
       "    <tr>\n",
       "      <th>13</th>\n",
       "      <td>415.197481</td>\n",
       "      <td>Southwest Airlines Co.</td>\n",
       "    </tr>\n",
       "  </tbody>\n",
       "</table>\n",
       "</div>"
      ],
      "text/plain": [
       "    Airline_Speed                     AIRLINE_y\n",
       "0      427.679334        American Airlines Inc.\n",
       "1      435.510696          Alaska Airlines Inc.\n",
       "2      419.569835               JetBlue Airways\n",
       "3      419.433004          Delta Air Lines Inc.\n",
       "4      364.683738   Atlantic Southeast Airlines\n",
       "5      441.259284        Frontier Airlines Inc.\n",
       "6      343.748564        Hawaiian Airlines Inc.\n",
       "7      360.899443  American Eagle Airlines Inc.\n",
       "8      436.499865              Spirit Air Lines\n",
       "9      368.598815         Skywest Airlines Inc.\n",
       "10     446.753151         United Air Lines Inc.\n",
       "11     411.108496               US Airways Inc.\n",
       "12     435.403337                Virgin America\n",
       "13     415.197481        Southwest Airlines Co."
      ]
     },
     "execution_count": 60,
     "metadata": {},
     "output_type": "execute_result"
    }
   ],
   "source": [
    "speed = pd.DataFrame({'Airline_Speed' : airline_speed.groupby(['AIRLINE'])['Airline_Speed'].mean()}).reset_index()\n",
    "speed_desc = speed.merge(df_airlines,how='left', left_on='AIRLINE', right_on='IATA_CODE')\n",
    "speed_desc.drop(['AIRLINE_x','IATA_CODE'],axis=1,inplace=True)\n",
    "speed_desc"
   ]
  },
  {
   "cell_type": "code",
   "execution_count": 59,
   "metadata": {
    "collapsed": false
   },
   "outputs": [
    {
     "data": {
      "text/html": [
       "<iframe id=\"igraph\" scrolling=\"no\" style=\"border:none;\" seamless=\"seamless\" src=\"https://plot.ly/~thakar.p/91.embed\" height=\"525px\" width=\"100%\"></iframe>"
      ],
      "text/plain": [
       "<plotly.tools.PlotlyDisplay object>"
      ]
     },
     "execution_count": 59,
     "metadata": {},
     "output_type": "execute_result"
    }
   ],
   "source": [
    "speed_desc.iplot(x='AIRLINE_y',size=(14,7), yTitle='Speed in MPH', xTitle='Airlines',title='Speed for different Airline')"
   ]
  },
  {
   "cell_type": "markdown",
   "metadata": {},
   "source": [
    "# Part5Plot2.PNG"
   ]
  },
  {
   "cell_type": "markdown",
   "metadata": {},
   "source": [
    "# We can state that United Airline is the fastest with highest average Speed where as Hawaiian Airlines has the lowest average speed(in MPH)"
   ]
  },
  {
   "cell_type": "code",
   "execution_count": 70,
   "metadata": {
    "collapsed": false
   },
   "outputs": [
    {
     "data": {
      "text/html": [
       "<div>\n",
       "<table border=\"1\" class=\"dataframe\">\n",
       "  <thead>\n",
       "    <tr style=\"text-align: right;\">\n",
       "      <th>AIRLINE</th>\n",
       "      <th>AA</th>\n",
       "      <th>AS</th>\n",
       "      <th>B6</th>\n",
       "      <th>DL</th>\n",
       "      <th>EV</th>\n",
       "      <th>F9</th>\n",
       "      <th>HA</th>\n",
       "      <th>MQ</th>\n",
       "      <th>NK</th>\n",
       "      <th>OO</th>\n",
       "      <th>UA</th>\n",
       "      <th>US</th>\n",
       "      <th>VX</th>\n",
       "      <th>WN</th>\n",
       "    </tr>\n",
       "    <tr>\n",
       "      <th>MONTH</th>\n",
       "      <th></th>\n",
       "      <th></th>\n",
       "      <th></th>\n",
       "      <th></th>\n",
       "      <th></th>\n",
       "      <th></th>\n",
       "      <th></th>\n",
       "      <th></th>\n",
       "      <th></th>\n",
       "      <th></th>\n",
       "      <th></th>\n",
       "      <th></th>\n",
       "      <th></th>\n",
       "      <th></th>\n",
       "    </tr>\n",
       "  </thead>\n",
       "  <tbody>\n",
       "    <tr>\n",
       "      <th>1</th>\n",
       "      <td>44059.0</td>\n",
       "      <td>13257.0</td>\n",
       "      <td>21623.0</td>\n",
       "      <td>64421.0</td>\n",
       "      <td>49925.0</td>\n",
       "      <td>6829.0</td>\n",
       "      <td>6440.0</td>\n",
       "      <td>29900.0</td>\n",
       "      <td>8743.0</td>\n",
       "      <td>48114.0</td>\n",
       "      <td>38395.0</td>\n",
       "      <td>33489.0</td>\n",
       "      <td>4731.0</td>\n",
       "      <td>100042.0</td>\n",
       "    </tr>\n",
       "    <tr>\n",
       "      <th>2</th>\n",
       "      <td>39835.0</td>\n",
       "      <td>12194.0</td>\n",
       "      <td>19751.0</td>\n",
       "      <td>60884.0</td>\n",
       "      <td>45138.0</td>\n",
       "      <td>5809.0</td>\n",
       "      <td>5779.0</td>\n",
       "      <td>26940.0</td>\n",
       "      <td>8089.0</td>\n",
       "      <td>43989.0</td>\n",
       "      <td>36235.0</td>\n",
       "      <td>30153.0</td>\n",
       "      <td>4223.0</td>\n",
       "      <td>90172.0</td>\n",
       "    </tr>\n",
       "    <tr>\n",
       "      <th>3</th>\n",
       "      <td>45966.0</td>\n",
       "      <td>14276.0</td>\n",
       "      <td>22590.0</td>\n",
       "      <td>74166.0</td>\n",
       "      <td>54190.0</td>\n",
       "      <td>6950.0</td>\n",
       "      <td>6313.0</td>\n",
       "      <td>28146.0</td>\n",
       "      <td>9400.0</td>\n",
       "      <td>50078.0</td>\n",
       "      <td>43603.0</td>\n",
       "      <td>34516.0</td>\n",
       "      <td>4873.0</td>\n",
       "      <td>109245.0</td>\n",
       "    </tr>\n",
       "    <tr>\n",
       "      <th>4</th>\n",
       "      <td>44770.0</td>\n",
       "      <td>13974.0</td>\n",
       "      <td>22020.0</td>\n",
       "      <td>72170.0</td>\n",
       "      <td>49296.0</td>\n",
       "      <td>7148.0</td>\n",
       "      <td>6093.0</td>\n",
       "      <td>25695.0</td>\n",
       "      <td>9496.0</td>\n",
       "      <td>49329.0</td>\n",
       "      <td>41342.0</td>\n",
       "      <td>32496.0</td>\n",
       "      <td>4915.0</td>\n",
       "      <td>106407.0</td>\n",
       "    </tr>\n",
       "    <tr>\n",
       "      <th>5</th>\n",
       "      <td>44710.0</td>\n",
       "      <td>14682.0</td>\n",
       "      <td>22565.0</td>\n",
       "      <td>74815.0</td>\n",
       "      <td>49213.0</td>\n",
       "      <td>8118.0</td>\n",
       "      <td>6434.0</td>\n",
       "      <td>25431.0</td>\n",
       "      <td>10051.0</td>\n",
       "      <td>49864.0</td>\n",
       "      <td>44411.0</td>\n",
       "      <td>33761.0</td>\n",
       "      <td>5236.0</td>\n",
       "      <td>107702.0</td>\n",
       "    </tr>\n",
       "  </tbody>\n",
       "</table>\n",
       "</div>"
      ],
      "text/plain": [
       "AIRLINE       AA       AS       B6       DL       EV      F9      HA       MQ  \\\n",
       "MONTH                                                                           \n",
       "1        44059.0  13257.0  21623.0  64421.0  49925.0  6829.0  6440.0  29900.0   \n",
       "2        39835.0  12194.0  19751.0  60884.0  45138.0  5809.0  5779.0  26940.0   \n",
       "3        45966.0  14276.0  22590.0  74166.0  54190.0  6950.0  6313.0  28146.0   \n",
       "4        44770.0  13974.0  22020.0  72170.0  49296.0  7148.0  6093.0  25695.0   \n",
       "5        44710.0  14682.0  22565.0  74815.0  49213.0  8118.0  6434.0  25431.0   \n",
       "\n",
       "AIRLINE       NK       OO       UA       US      VX        WN  \n",
       "MONTH                                                          \n",
       "1         8743.0  48114.0  38395.0  33489.0  4731.0  100042.0  \n",
       "2         8089.0  43989.0  36235.0  30153.0  4223.0   90172.0  \n",
       "3         9400.0  50078.0  43603.0  34516.0  4873.0  109245.0  \n",
       "4         9496.0  49329.0  41342.0  32496.0  4915.0  106407.0  \n",
       "5        10051.0  49864.0  44411.0  33761.0  5236.0  107702.0  "
      ]
     },
     "execution_count": 70,
     "metadata": {},
     "output_type": "execute_result"
    }
   ],
   "source": [
    "pvt_scheduled_airline_date = df_flight_paths.pivot_table(index=\"MONTH\",columns=\"AIRLINE\",values=\"SCHEDULED_DEPARTURE\",aggfunc=lambda x: x.count())\n",
    "pvt_scheduled_airline_date.head()"
   ]
  },
  {
   "cell_type": "code",
   "execution_count": 67,
   "metadata": {
    "collapsed": false
   },
   "outputs": [
    {
     "data": {
      "text/html": [
       "<iframe id=\"igraph\" scrolling=\"no\" style=\"border:none;\" seamless=\"seamless\" src=\"https://plot.ly/~thakar.p/20.embed\" height=\"525px\" width=\"100%\"></iframe>"
      ],
      "text/plain": [
       "<plotly.tools.PlotlyDisplay object>"
      ]
     },
     "execution_count": 67,
     "metadata": {},
     "output_type": "execute_result"
    }
   ],
   "source": [
    "\n",
    "import plotly.plotly as py\n",
    "import pandas as pd\n",
    "\n",
    "df = df_airports\n",
    "df.head()\n",
    "\n",
    "\n",
    "df['text'] = df['AIRPORT'] + '' + df['CITY'] + ', ' + df['STATE'].astype(str)\n",
    "\n",
    "scl = [ [0,\"rgb(5, 10, 172)\"],[0.35,\"rgb(40, 60, 190)\"],[0.5,\"rgb(70, 100, 245)\"],\\\n",
    "    [0.6,\"rgb(90, 120, 245)\"],[0.7,\"rgb(106, 137, 247)\"],[1,\"rgb(220, 220, 220)\"] ]\n",
    "\n",
    "data = [ dict(\n",
    "        type = 'scattergeo',\n",
    "        locationmode = 'USA-states',\n",
    "        lon = df['LONGITUDE'],\n",
    "        lat = df['LATITUDE'],\n",
    "        text = df['text'],\n",
    "        mode = 'markers',\n",
    "        marker = dict(\n",
    "            size = 8,\n",
    "            opacity = 0.8,\n",
    "            reversescale = True,\n",
    "            autocolorscale = False,\n",
    "            symbol = 'square',\n",
    "            line = dict(\n",
    "                width=1,\n",
    "                color='rgba(102, 102, 102)'\n",
    "            ),\n",
    "            colorscale = scl,\n",
    "            cmin = 0,\n",
    "            color = df['STATE'],\n",
    "            cmax = df['STATE'].max(),\n",
    "            colorbar=dict(\n",
    "                title=\"Airports\"\n",
    "            )\n",
    "        ))]\n",
    "\n",
    "layout = dict(\n",
    "        title = 'Airports around USA',\n",
    "        colorbar = True,\n",
    "        geo = dict(\n",
    "            scope='usa',\n",
    "            projection=dict( type='albers usa' ),\n",
    "            showland = True,\n",
    "            landcolor = \"rgb(250, 250, 250)\",\n",
    "            subunitcolor = \"rgb(217, 217, 217)\",\n",
    "            countrycolor = \"rgb(217, 217, 217)\",\n",
    "            countrywidth = 0.5,\n",
    "            subunitwidth = 0.5\n",
    "        ),\n",
    "    )\n",
    "\n",
    "fig = dict( data=data, layout=layout )\n",
    "# py.image.save_as(fig, filename='Part2Plot.png')\n",
    "py.iplot( fig, validate=False, filename='d3-airports' )\n"
   ]
  },
  {
   "cell_type": "markdown",
   "metadata": {},
   "source": [
    "# Part5Plot3.PNG"
   ]
  },
  {
   "cell_type": "markdown",
   "metadata": {},
   "source": [
    "# This image shows the Airports that are scattered around USA"
   ]
  }
 ],
 "metadata": {
  "kernelspec": {
   "display_name": "Python [conda root]",
   "language": "python",
   "name": "conda-root-py"
  },
  "language_info": {
   "codemirror_mode": {
    "name": "ipython",
    "version": 3
   },
   "file_extension": ".py",
   "mimetype": "text/x-python",
   "name": "python",
   "nbconvert_exporter": "python",
   "pygments_lexer": "ipython3",
   "version": "3.5.2"
  }
 },
 "nbformat": 4,
 "nbformat_minor": 2
}
