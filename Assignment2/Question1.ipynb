{
 "cells": [
  {
   "cell_type": "markdown",
   "metadata": {},
   "source": [
    "# Question 1\n",
    "# Proving Zipfs Law using NLTK corporas and outputting the word list and frequency in a CSV file."
   ]
  },
  {
   "cell_type": "code",
   "execution_count": 10,
   "metadata": {
    "collapsed": true
   },
   "outputs": [],
   "source": [
    "import nltk\n",
    "from nltk.corpus import gutenberg\n",
    "from collections import Counter\n",
    "import glob\n",
    "import string\n",
    "import matplotlib.pyplot as plt\n",
    "import csv\n",
    " \n",
    "w=[]"
   ]
  },
  {
   "cell_type": "code",
   "execution_count": 23,
   "metadata": {
    "collapsed": false
   },
   "outputs": [],
   "source": [
    "import glob\n",
    "for filename in glob.iglob('C:/nltk_data/corpora/gutenberg/*.txt'): \n",
    "    with open(filename,'r' ,encoding='utf-8', errors='ignore') as data_file:\n",
    "        d=data_file.read() \n",
    "        datalower=d.lower()                    \n",
    "        data_s=datalower.split() \n",
    "    w+=data_s                                                "
   ]
  },
  {
   "cell_type": "code",
   "execution_count": 24,
   "metadata": {
    "collapsed": false
   },
   "outputs": [
    {
     "name": "stdout",
     "output_type": "stream",
     "text": [
      "113427\n"
     ]
    }
   ],
   "source": [
    "import string\n",
    "from collections import Counter\n",
    "exclude = set(string.punctuation)\n",
    "data=[x for x in w if x not in exclude] \n",
    "data_count=Counter(data)\n",
    "print(len(data_count))"
   ]
  },
  {
   "cell_type": "code",
   "execution_count": 25,
   "metadata": {
    "collapsed": false
   },
   "outputs": [],
   "source": [
    "def sorting_frequency():\n",
    "    return sorted(data_count.items(), key=lambda pair: pair[1], reverse=True)\n",
    "x=sorting_frequency() \n",
    "word,frequency=zip(*x)   "
   ]
  },
  {
   "cell_type": "code",
   "execution_count": 26,
   "metadata": {
    "collapsed": false
   },
   "outputs": [],
   "source": [
    "rank_list=[]\n",
    "rank=1\n",
    "\n",
    "for li in range(len(frequency)):\n",
    "    rank_list.append(rank)\n",
    "    rank = rank+1;"
   ]
  },
  {
   "cell_type": "code",
   "execution_count": 41,
   "metadata": {
    "collapsed": false
   },
   "outputs": [],
   "source": [
    "v = zip(frequency,rank_list)"
   ]
  },
  {
   "cell_type": "code",
   "execution_count": 45,
   "metadata": {
    "collapsed": false
   },
   "outputs": [
    {
     "name": "stdout",
     "output_type": "stream",
     "text": [
      "<class 'tuple'>\n",
      "<class 'list'>\n"
     ]
    }
   ],
   "source": [
    "\n",
    "with open('Rank_VS_Frequency.csv', 'w') as csvfile:\n",
    "    fieldnames = ['Word','Frequency','Rank']\n",
    "    writer = csv.DictWriter(csvfile, fieldnames=fieldnames)\n",
    "    writer.writeheader()\n",
    "    for (a,z,r) in zip(word,frequency,rank_list):\n",
    "            writer.writerow({'Word':a,'Frequency': z,'Rank': r})\n",
    "print(type(frequency))\n",
    "print(type(rank_list))"
   ]
  },
  {
   "cell_type": "code",
   "execution_count": 44,
   "metadata": {
    "collapsed": false
   },
   "outputs": [
    {
     "data": {
      "image/png": "[encoded data removed]",
      "text/plain": [
       "<matplotlib.figure.Figure at 0x18e0683c160>"
      ]
     },
     "metadata": {},
     "output_type": "display_data"
    }
   ],
   "source": [
    "x_axis = frequency\n",
    "y_axis = rank_list\n",
    "\n",
    "plt.loglog(x_axis,y_axis)\n",
    "plt.xlabel('Rank')\n",
    "plt.ylabel('Frequency')\n",
    "plt.title('Rank VS Frequency graph')\n",
    "plt.show()"
   ]
  }
 ],
 "metadata": {
  "anaconda-cloud": {},
  "kernelspec": {
   "display_name": "Python [conda root]",
   "language": "python",
   "name": "conda-root-py"
  },
  "language_info": {
   "codemirror_mode": {
    "name": "ipython",
    "version": 3
   },
   "file_extension": ".py",
   "mimetype": "text/x-python",
   "name": "python",
   "nbconvert_exporter": "python",
   "pygments_lexer": "ipython3",
   "version": "3.5.2"
  }
 },
 "nbformat": 4,
 "nbformat_minor": 1
}
