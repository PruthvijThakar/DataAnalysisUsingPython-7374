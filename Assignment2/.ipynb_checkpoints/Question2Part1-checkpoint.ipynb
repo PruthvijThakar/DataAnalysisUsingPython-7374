{
 "cells": [
  {
   "cell_type": "markdown",
   "metadata": {
    "collapsed": true
   },
   "source": [
    "# creating a hirerchial folder structure for the Data file given and storing files by sorting it according to the hierchay of country,city and so on."
   ]
  },
  {
   "cell_type": "code",
   "execution_count": 22,
   "metadata": {
    "collapsed": false
   },
   "outputs": [],
   "source": [
    "import os\n",
    "import json\n",
    "from shutil import copy\n",
    "path = 'C:\\\\Users\\\\pruth\\\\Documents\\\\Assignment2DataAnalysis4Python\\\\Result\\\\' #The output is shown in Result folder.\n",
    "for file in os.listdir('C:\\\\Users\\\\pruth\\\\Documents\\\\Assignment2DataAnalysis4Python\\\\Assignment2\\\\Data'):\n",
    "    with open(('C:\\\\Users\\\\pruth\\\\Documents\\\\Assignment2DataAnalysis4Python\\\\Assignment2\\\\Data\\\\'+file)) as f:\n",
    "        data = json.load(f)\n",
    "        if not os.path.exists(path+data[\"term\"]):\n",
    "            os.makedirs(path+data[\"term\"])\n",
    "\n",
    "        if not os.path.exists(path+data[\"term\"]+\"\\\\\"+data[\"location\"][\"country\"]):\n",
    "            os.makedirs(path+data[\"term\"]+ \"\\\\\" +data[\"location\"][\"country\"])\n",
    "\n",
    "        if not os.path.exists(path+data[\"term\"]+\"\\\\\"+data[\"location\"][\"country\"]+\"\\\\\"+data[\"location\"][\"state\"]):\n",
    "            os.makedirs(path+data[\"term\"]+\"\\\\\"+data[\"location\"][\"country\"]+\"\\\\\"+data[\"location\"][\"state\"])\n",
    "\n",
    "        if not os.path.exists(path+data[\"term\"]+\"\\\\\"+data[\"location\"][\"country\"]+\"\\\\\"+data[\"location\"][\"state\"] +\"\\\\\"+data[\"location\"][\"city\"] ):\n",
    "            os.makedirs(path+data[\"term\"]+\"\\\\\"+data[\"location\"][\"country\"]+\"\\\\\"+data[\"location\"][\"state\"]+\"\\\\\"+data[\"location\"][\"city\"])\n",
    "\n",
    "        copy('C:\\\\Users\\\\pruth\\\\Documents\\\\Assignment2DataAnalysis4Python\\\\Assignment2\\\\Data\\\\'+file, path+data[\"term\"]+\"\\\\\"+data[\"location\"][\"country\"]+\"\\\\\"+data[\"location\"][\"state\"] +\"\\\\\"+data[\"location\"][\"city\"])\n",
    "\n",
    "       # open(\"C:\\\\Users\\\\pruth\\\\Documents\\\\Assignment2DataAnalysis4Python\\\\Assignment2\\\\Data\\\\\",'w') as outfile:\n",
    "\n",
    "           "
   ]
  }
 ],
 "metadata": {
  "anaconda-cloud": {},
  "kernelspec": {
   "display_name": "Python [conda root]",
   "language": "python",
   "name": "conda-root-py"
  },
  "language_info": {
   "codemirror_mode": {
    "name": "ipython",
    "version": 3
   },
   "file_extension": ".py",
   "mimetype": "text/x-python",
   "name": "python",
   "nbconvert_exporter": "python",
   "pygments_lexer": "ipython3",
   "version": "3.5.2"
  }
 },
 "nbformat": 4,
 "nbformat_minor": 1
}
