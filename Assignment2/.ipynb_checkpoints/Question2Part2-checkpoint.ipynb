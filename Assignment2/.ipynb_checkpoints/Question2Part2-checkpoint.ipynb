{
 "cells": [
  {
   "cell_type": "markdown",
   "metadata": {},
   "source": [
    "# Storing the Timings of restaurants in a CSV file by sorting the given JSON data."
   ]
  },
  {
   "cell_type": "code",
   "execution_count": null,
   "metadata": {
    "collapsed": false
   },
   "outputs": [],
   "source": [
    "import os\n",
    "import json\n",
    "path = os.listdir('C:\\\\Users\\\\pruth\\\\Documents\\\\Assignment2DataAnalysis4Python\\\\Assignment2\\\\Data')\n",
    "\n",
    "import pandas as pd\n",
    "jsons_data = pd.DataFrame(columns=['Name', 'Country', 'City','Address','Ratings','Weekday','StartingHours','StartingMinutes','EndingHours','EndingMinutes'])\n",
    "\n",
    "for index,js in enumerate(path):\n",
    "    with open(('C:\\\\Users\\\\pruth\\\\Documents\\\\Assignment2DataAnalysis4Python\\\\Assignment2\\\\Data\\\\'+js)) as f:\n",
    "        data = json.load(f)\n",
    "        if data[\"term\"]==\"restaurants\":\n",
    "            Name = data['name']\n",
    "            Country = data['location']['country']\n",
    "            City = data['location']['city']\n",
    "            Address = data['location']['address1']\n",
    "            Ratings = data['rating']\n",
    "            if 'hours' in data:\n",
    "                for d in data['hours'][0]['open']:\n",
    "                    Weekday = d['day']\n",
    "                    StartingHours= d['start'][:2]\n",
    "                    StartingMinutes= d['start'][2:]\n",
    "                    EndingHours= d['end'][:2]\n",
    "                    EndingMinutes= d['end'][2:]\n",
    "            else:   \n",
    "                Weekday = 'Not Updated'\n",
    "                StartingHours = 'Not Updated'\n",
    "                StartingMinutes = 'Not Updated'\n",
    "                EndingHours=  'Not Updated'\n",
    "                EndingMinutes = 'Not Updated'\n",
    "        jsons_data.loc[index] = [Name, Country, City,Address,Ratings,Weekday,StartingHours,StartingMinutes,EndingHours,EndingMinutes]\n",
    "jsons_data.to_csv('C:\\\\Users\\\\pruth\\\\Documents\\\\Assignment2DataAnalysis4Python\\\\resultofpart2\\\\final.csv',sep='\\t', encoding='utf-8')\n"
   ]
  }
 ],
 "metadata": {
  "anaconda-cloud": {},
  "kernelspec": {
   "display_name": "Python [conda root]",
   "language": "python",
   "name": "conda-root-py"
  },
  "language_info": {
   "codemirror_mode": {
    "name": "ipython",
    "version": 3
   },
   "file_extension": ".py",
   "mimetype": "text/x-python",
   "name": "python",
   "nbconvert_exporter": "python",
   "pygments_lexer": "ipython3",
   "version": "3.5.2"
  }
 },
 "nbformat": 4,
 "nbformat_minor": 1
}
